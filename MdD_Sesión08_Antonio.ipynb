{
  "nbformat": 4,
  "nbformat_minor": 0,
  "metadata": {
    "colab": {
      "provenance": [],
      "toc_visible": true,
      "authorship_tag": "ABX9TyN5PqtKoGqrTJhFBxGr1LmH",
      "include_colab_link": true
    },
    "kernelspec": {
      "name": "python3",
      "display_name": "Python 3"
    },
    "language_info": {
      "name": "python"
    }
  },
  "cells": [
    {
      "cell_type": "markdown",
      "metadata": {
        "id": "view-in-github",
        "colab_type": "text"
      },
      "source": [
        "<a href=\"https://colab.research.google.com/github/TonioRodriguez/Data_Mining_08/blob/main/MdD_Sesi%C3%B3n08_Antonio.ipynb\" target=\"_parent\"><img src=\"https://colab.research.google.com/assets/colab-badge.svg\" alt=\"Open In Colab\"/></a>"
      ]
    },
    {
      "cell_type": "markdown",
      "source": [
        "# <font color = #009b7d> Minería de Datos </font>\n",
        "## <font color = #009b7d> Sesión 08: Python - Colecciones de datos </font>\n",
        "### <font color = #009b7d>Prof: Vilchis García Juan Ignacio </font>\n",
        "#### <font color = #009b7d>Alumno: Rodríguez Esquivel Luis Antonio </font>\n",
        "#### <font color = #009b7d>Fecha: Miercoles 24 de septiembre de 2025 </font>"
      ],
      "metadata": {
        "id": "WAvFuAn7CQac"
      }
    },
    {
      "cell_type": "markdown",
      "source": [
        "# Colecciones de datos:\n",
        "\n",
        "Son tipos de datos que permiten almacenar múltiples valores en una sola variable.\n",
        "\n",
        "Actúan como contenedores organizados para agrupar elementos de forma eficiente, facilitando su manipulación y acceso"
      ],
      "metadata": {
        "id": "gAV2_VX9DQ_J"
      }
    },
    {
      "cell_type": "markdown",
      "source": [
        "## Listas\n",
        "\n",
        "  * Son colecciones ordenadas y mutables.\n",
        "  \n",
        "  * Esto significa que se pueden cambiar sus elementos (agregar, eliminar o modificar) después de crearlas.\n",
        "  \n",
        "  * Se definen con corchetes [] y se utilizan para almacenar datos de cualquier tipo.\n",
        "  \n",
        "  * Su principal uso es mantener una colección de elementos en un orden específico que pueda ser modificado."
      ],
      "metadata": {
        "id": "Kzft6ap-DfWX"
      }
    },
    {
      "cell_type": "code",
      "execution_count": null,
      "metadata": {
        "colab": {
          "base_uri": "https://localhost:8080/"
        },
        "id": "_eNZfV-2CJFV",
        "outputId": "8eb4a8b8-8ca8-4bec-a8ce-f4d520ec2f2e"
      },
      "outputs": [
        {
          "output_type": "stream",
          "name": "stdout",
          "text": [
            "['Paloma', 'Carlos']\n",
            "['Samara', 'Antonio']\n"
          ]
        }
      ],
      "source": [
        "#Crear listas\n",
        "lista1 = [\"Paloma\", \"Carlos\"]\n",
        "lista2 = [\"Samara\", \"Antonio\"]\n",
        "\n",
        "print(lista1)\n",
        "print(lista2)"
      ]
    },
    {
      "cell_type": "code",
      "source": [
        "# Append\n",
        "\n",
        "lista1.append(\"Oscar\")\n",
        "lista2.append(\"Alejandro\")\n",
        "\n",
        "print(lista1)\n",
        "print(lista2)"
      ],
      "metadata": {
        "colab": {
          "base_uri": "https://localhost:8080/"
        },
        "id": "DYdTPvNSEBox",
        "outputId": "7a13c905-57a1-458c-a2b2-87a0ba0aeffe"
      },
      "execution_count": null,
      "outputs": [
        {
          "output_type": "stream",
          "name": "stdout",
          "text": [
            "['Paloma', 'Carlos', 'Oscar']\n",
            "['Samara', 'Antonio', 'Alejandro']\n"
          ]
        }
      ]
    },
    {
      "cell_type": "code",
      "source": [
        "# Unir\n",
        "\n",
        "lista = lista1 + lista2\n",
        "\n",
        "print(lista)"
      ],
      "metadata": {
        "colab": {
          "base_uri": "https://localhost:8080/"
        },
        "id": "kDFJw0MxEXqO",
        "outputId": "5e4bddbb-db07-404e-a599-fc4a2e6586c1"
      },
      "execution_count": null,
      "outputs": [
        {
          "output_type": "stream",
          "name": "stdout",
          "text": [
            "['Paloma', 'Carlos', 'Oscar', 'Samara', 'Antonio', 'Alejandro']\n"
          ]
        }
      ]
    },
    {
      "cell_type": "code",
      "source": [
        "# Extend\n",
        "\n",
        "lista1.extend(lista2)\n",
        "print(lista1)"
      ],
      "metadata": {
        "colab": {
          "base_uri": "https://localhost:8080/"
        },
        "id": "xhczr8gIEgd4",
        "outputId": "ac740d45-e0df-4bd4-9084-71a7e21d6fef"
      },
      "execution_count": null,
      "outputs": [
        {
          "output_type": "stream",
          "name": "stdout",
          "text": [
            "['Paloma', 'Carlos', 'Oscar', 'Samara', 'Antonio', 'Alejandro']\n"
          ]
        }
      ]
    },
    {
      "cell_type": "code",
      "source": [
        "# Indices\n",
        "print(lista[0])\n",
        "print(lista[2])\n",
        "print(lista[4])"
      ],
      "metadata": {
        "colab": {
          "base_uri": "https://localhost:8080/"
        },
        "id": "UR0E2RfBE5pE",
        "outputId": "1c2a4e14-d87b-44a0-aadc-656148e4e92f"
      },
      "execution_count": null,
      "outputs": [
        {
          "output_type": "stream",
          "name": "stdout",
          "text": [
            "Paloma\n",
            "Oscar\n",
            "Antonio\n"
          ]
        }
      ]
    },
    {
      "cell_type": "code",
      "source": [
        "#\n",
        "print(lista1)\n",
        "lista1[0] = \"Fernando\"\n",
        "print(lista1)"
      ],
      "metadata": {
        "colab": {
          "base_uri": "https://localhost:8080/"
        },
        "id": "GxW73m79FNOu",
        "outputId": "1005d1df-a578-4173-e527-1d10467bcba8"
      },
      "execution_count": null,
      "outputs": [
        {
          "output_type": "stream",
          "name": "stdout",
          "text": [
            "['Paloma', 'Carlos', 'Oscar', 'Samara', 'Antonio', 'Alejandro']\n",
            "['Fernando', 'Carlos', 'Oscar', 'Samara', 'Antonio', 'Alejandro']\n"
          ]
        }
      ]
    },
    {
      "cell_type": "code",
      "source": [
        "# len\n",
        "print(len(lista))"
      ],
      "metadata": {
        "colab": {
          "base_uri": "https://localhost:8080/"
        },
        "id": "ceCvCNzIFlBM",
        "outputId": "1fea031d-a47a-4511-a810-f4833f1ddfb8"
      },
      "execution_count": null,
      "outputs": [
        {
          "output_type": "stream",
          "name": "stdout",
          "text": [
            "6\n"
          ]
        }
      ]
    },
    {
      "cell_type": "code",
      "source": [
        "# count\n",
        "print(lista)\n",
        "lista.append(\"Paloma\")\n",
        "lista.append(\"Oscar\")\n",
        "lista.append(\"Antonio\")\n",
        "print(lista)\n",
        "print(lista.count(\"Carlos\"))\n",
        "print(lista.count(\"Oscar\"))"
      ],
      "metadata": {
        "colab": {
          "base_uri": "https://localhost:8080/"
        },
        "id": "FQtCoxh2FwXh",
        "outputId": "1a788a20-0b61-4801-e28b-6539405e5fe5"
      },
      "execution_count": null,
      "outputs": [
        {
          "output_type": "stream",
          "name": "stdout",
          "text": [
            "['Paloma', 'Carlos', 'Oscar', 'Samara', 'Antonio', 'Alejandro']\n",
            "['Paloma', 'Carlos', 'Oscar', 'Samara', 'Antonio', 'Alejandro', 'Paloma', 'Oscar', 'Antonio']\n",
            "1\n",
            "2\n"
          ]
        }
      ]
    },
    {
      "cell_type": "code",
      "source": [
        "# remove\n",
        "lista.remove(\"Oscar\")\n",
        "print(lista)\n"
      ],
      "metadata": {
        "colab": {
          "base_uri": "https://localhost:8080/"
        },
        "id": "YQQ8gyGkGhie",
        "outputId": "840d05d4-6aa9-40a9-bb27-76ecff066727"
      },
      "execution_count": null,
      "outputs": [
        {
          "output_type": "stream",
          "name": "stdout",
          "text": [
            "['Paloma', 'Carlos', 'Samara', 'Antonio', 'Alejandro', 'Paloma', 'Oscar', 'Antonio']\n"
          ]
        }
      ]
    },
    {
      "cell_type": "code",
      "source": [
        "# Index\n",
        "print(lista)\n",
        "print(lista.index(\"Carlos\"))\n",
        "print(lista.index(\"Samara\"))\n",
        "print(lista.index(\"Alejandro\"))"
      ],
      "metadata": {
        "colab": {
          "base_uri": "https://localhost:8080/"
        },
        "id": "F0qgH8SLGuIT",
        "outputId": "150ec928-dbfc-49d7-b259-f5b0c30f549b"
      },
      "execution_count": null,
      "outputs": [
        {
          "output_type": "stream",
          "name": "stdout",
          "text": [
            "['Paloma', 'Carlos', 'Samara', 'Antonio', 'Alejandro', 'Paloma', 'Oscar', 'Antonio']\n",
            "1\n",
            "2\n",
            "4\n"
          ]
        }
      ]
    },
    {
      "cell_type": "code",
      "source": [
        "# Insert\n",
        "print(lista)\n",
        "lista.insert(2, \"Samantha\")\n",
        "lista.insert(4, \"Vilchis\")\n",
        "lista.insert(10, \"Diana\")\n",
        "print(lista)"
      ],
      "metadata": {
        "colab": {
          "base_uri": "https://localhost:8080/"
        },
        "id": "zSjY08mvG9Xd",
        "outputId": "dfdbcf0d-4795-4d7e-a6a4-384a5742ca5a"
      },
      "execution_count": null,
      "outputs": [
        {
          "output_type": "stream",
          "name": "stdout",
          "text": [
            "['Paloma', 'Carlos', 'Samara', 'Antonio', 'Alejandro', 'Paloma', 'Oscar', 'Antonio']\n",
            "['Paloma', 'Carlos', 'Samantha', 'Samara', 'Vilchis', 'Antonio', 'Alejandro', 'Paloma', 'Oscar', 'Antonio', 'Diana']\n"
          ]
        }
      ]
    },
    {
      "cell_type": "code",
      "source": [
        "# pop\n",
        "\n",
        "print(lista)\n",
        "lista.pop()\n",
        "print(lista)\n",
        "lista.pop(2)\n",
        "print(lista)"
      ],
      "metadata": {
        "colab": {
          "base_uri": "https://localhost:8080/"
        },
        "id": "9krNMJE6Hk6W",
        "outputId": "1b52e661-4445-4ffa-b9ee-f8d0d375009c"
      },
      "execution_count": null,
      "outputs": [
        {
          "output_type": "stream",
          "name": "stdout",
          "text": [
            "['Paloma', 'Carlos', 'Samantha', 'Samara', 'Vilchis', 'Antonio', 'Alejandro', 'Paloma', 'Oscar', 'Antonio', 'Diana']\n",
            "['Paloma', 'Carlos', 'Samantha', 'Samara', 'Vilchis', 'Antonio', 'Alejandro', 'Paloma', 'Oscar', 'Antonio']\n",
            "['Paloma', 'Carlos', 'Samara', 'Vilchis', 'Antonio', 'Alejandro', 'Paloma', 'Oscar', 'Antonio']\n"
          ]
        }
      ]
    },
    {
      "cell_type": "code",
      "source": [
        "# Slicing (división)\n",
        "\n",
        "print(lista)\n",
        "print(lista[2:5])\n",
        "print(lista[:5])\n",
        "print(lista[3:])"
      ],
      "metadata": {
        "colab": {
          "base_uri": "https://localhost:8080/"
        },
        "id": "ll-VMfZ1H7Ak",
        "outputId": "02c2cff0-c813-4d43-aa7f-b9baf7c0ba32"
      },
      "execution_count": null,
      "outputs": [
        {
          "output_type": "stream",
          "name": "stdout",
          "text": [
            "['Paloma', 'Carlos', 'Samara', 'Vilchis', 'Antonio', 'Alejandro', 'Paloma', 'Oscar', 'Antonio']\n",
            "['Samara', 'Vilchis', 'Antonio']\n",
            "['Paloma', 'Carlos', 'Samara', 'Vilchis', 'Antonio']\n",
            "['Vilchis', 'Antonio', 'Alejandro', 'Paloma', 'Oscar', 'Antonio']\n"
          ]
        }
      ]
    },
    {
      "cell_type": "code",
      "source": [
        "# Reverse\n",
        "print(lista)\n",
        "lista.reverse()\n",
        "print(lista)"
      ],
      "metadata": {
        "colab": {
          "base_uri": "https://localhost:8080/"
        },
        "id": "IjtgYMjrIpVY",
        "outputId": "60ef7588-1409-4022-f678-817ca02e70c1"
      },
      "execution_count": null,
      "outputs": [
        {
          "output_type": "stream",
          "name": "stdout",
          "text": [
            "['Paloma', 'Carlos', 'Samara', 'Vilchis', 'Antonio', 'Alejandro', 'Paloma', 'Oscar', 'Antonio']\n",
            "['Antonio', 'Oscar', 'Paloma', 'Alejandro', 'Antonio', 'Vilchis', 'Samara', 'Carlos', 'Paloma']\n"
          ]
        }
      ]
    },
    {
      "cell_type": "code",
      "source": [
        "# Sort\n",
        "print(lista)\n",
        "lista.sort()\n",
        "print(lista)"
      ],
      "metadata": {
        "colab": {
          "base_uri": "https://localhost:8080/"
        },
        "id": "J7EFRzErI0h8",
        "outputId": "4cf040d6-515d-466d-fc7c-da149fac67d6"
      },
      "execution_count": null,
      "outputs": [
        {
          "output_type": "stream",
          "name": "stdout",
          "text": [
            "['Antonio', 'Oscar', 'Paloma', 'Alejandro', 'Antonio', 'Vilchis', 'Samara', 'Carlos', 'Paloma']\n",
            "['Alejandro', 'Antonio', 'Antonio', 'Carlos', 'Oscar', 'Paloma', 'Paloma', 'Samara', 'Vilchis']\n"
          ]
        }
      ]
    },
    {
      "cell_type": "code",
      "source": [
        "# Sort (reverse = True)\n",
        "print(lista)\n",
        "lista.sort(reverse = True)\n",
        "print(lista)"
      ],
      "metadata": {
        "colab": {
          "base_uri": "https://localhost:8080/"
        },
        "id": "MXNhCJpwJDZJ",
        "outputId": "39eba1be-246f-4f30-b0ab-b93c3fa6647a"
      },
      "execution_count": null,
      "outputs": [
        {
          "output_type": "stream",
          "name": "stdout",
          "text": [
            "['Alejandro', 'Antonio', 'Antonio', 'Carlos', 'Oscar', 'Paloma', 'Paloma', 'Samara', 'Vilchis']\n",
            "['Vilchis', 'Samara', 'Paloma', 'Paloma', 'Oscar', 'Carlos', 'Antonio', 'Antonio', 'Alejandro']\n"
          ]
        }
      ]
    },
    {
      "cell_type": "code",
      "source": [
        "# Recorrer lista\n",
        "for elemento in lista:\n",
        "  print(elemento)"
      ],
      "metadata": {
        "colab": {
          "base_uri": "https://localhost:8080/"
        },
        "id": "WL1a7eWDJNSD",
        "outputId": "fc50bb9d-3778-43bf-92d7-70d256a47cea"
      },
      "execution_count": null,
      "outputs": [
        {
          "output_type": "stream",
          "name": "stdout",
          "text": [
            "Vilchis\n",
            "Samara\n",
            "Paloma\n",
            "Paloma\n",
            "Oscar\n",
            "Carlos\n",
            "Antonio\n",
            "Antonio\n",
            "Alejandro\n"
          ]
        }
      ]
    },
    {
      "cell_type": "code",
      "source": [
        "# Operador de pertenencia (in, not in)\n",
        "print(lista)\n",
        "lista3 = [\"Carlos\"]\n",
        "lista4 = [\"Fernando\"]\n",
        "lista5 = \"Alejandro\"\n",
        "print(lista3 in lista)\n",
        "print(lista3 not in lista)\n",
        "\n",
        "print(lista4 in lista)\n",
        "print(lista4 not in lista)\n",
        "print(lista5 in lista)\n",
        "print(lista5 not in lista)"
      ],
      "metadata": {
        "colab": {
          "base_uri": "https://localhost:8080/"
        },
        "id": "DJYjV6I2JqQx",
        "outputId": "78ff5271-1e15-45f9-e839-e747031f9a75"
      },
      "execution_count": null,
      "outputs": [
        {
          "output_type": "stream",
          "name": "stdout",
          "text": [
            "['Vilchis', 'Samara', 'Paloma', 'Paloma', 'Oscar', 'Carlos', 'Antonio', 'Antonio', 'Alejandro']\n",
            "False\n",
            "True\n",
            "False\n",
            "True\n",
            "True\n",
            "False\n"
          ]
        }
      ]
    },
    {
      "cell_type": "code",
      "source": [
        "# Clear()\n",
        "lista.clear()\n",
        "print(lista)"
      ],
      "metadata": {
        "colab": {
          "base_uri": "https://localhost:8080/"
        },
        "id": "y6f2DnK6K7Vw",
        "outputId": "16dc2db8-7727-44d3-9896-1b78839cff90"
      },
      "execution_count": null,
      "outputs": [
        {
          "output_type": "stream",
          "name": "stdout",
          "text": [
            "[]\n"
          ]
        }
      ]
    },
    {
      "cell_type": "markdown",
      "source": [
        "### Ejercicio Propuesto 8.01\n",
        "\n",
        "Dada la siguiente lista = [1,2,5,25,33,56,75,21,56,89,43,13,62,24]\n",
        "1. Mostrar mediante el método \"print\" y el operador \"in\" y \"not in\":\n",
        "  \n",
        "  -Si el número 21 está en la lista\n",
        "\n",
        "  -Si el número 43 está en la lista\n",
        "\n",
        "  -Si el número 17 no está en la lista\n",
        "\n",
        "  -Si el número 89 está en la lista\n",
        "\n",
        "2. Mostrar los elementos de la lista con los indices: 0, 4, 7, 9, 11.\n",
        "\n",
        "3. Agregar los elementos: 15, 23, 14, 27 y 58.\n",
        "\n",
        "4. Eliminar los elementos: 25, 33, 75, 56, 24.\n",
        "\n",
        "5. Recorrer la lista con \"for\".\n",
        "\n",
        "6. Limpiar los elementos de la lista."
      ],
      "metadata": {
        "id": "9GcOw-W8Lak1"
      }
    },
    {
      "cell_type": "code",
      "source": [
        "# 1. Mostrar mediante el método \"print\" y el operador \"in\" y \"not in\":\n",
        "\n",
        "lista = [1,2,5,25,33,56,75,21,56,89,43,13,62,24]\n",
        "print(21 in lista)\n",
        "print(21 not in lista)\n",
        "print(43 in lista)\n",
        "print(43 not in lista)\n",
        "print(17 in lista)\n",
        "print(17 not in lista)\n",
        "print(89 in lista)\n",
        "print(89 not in lista)"
      ],
      "metadata": {
        "colab": {
          "base_uri": "https://localhost:8080/"
        },
        "id": "oV3JQA-eLaQm",
        "outputId": "5faef1a3-307c-41c8-f718-6ddd9288493d"
      },
      "execution_count": null,
      "outputs": [
        {
          "output_type": "stream",
          "name": "stdout",
          "text": [
            "True\n",
            "False\n",
            "True\n",
            "False\n",
            "False\n",
            "True\n",
            "True\n",
            "False\n"
          ]
        }
      ]
    },
    {
      "cell_type": "code",
      "source": [
        "# 2. Mostrar los elementos de la lista con los indices: 0, 4, 7, 9, 11.\n",
        "print(lista[0])\n",
        "print(lista[4])\n",
        "print(lista[7])\n",
        "print(lista[9])\n",
        "print(lista[11])"
      ],
      "metadata": {
        "colab": {
          "base_uri": "https://localhost:8080/"
        },
        "id": "mI7f9fDvjdSa",
        "outputId": "83e34b60-2171-4126-c4aa-d938bd0f0a4c"
      },
      "execution_count": null,
      "outputs": [
        {
          "output_type": "stream",
          "name": "stdout",
          "text": [
            "1\n",
            "33\n",
            "21\n",
            "89\n",
            "13\n"
          ]
        }
      ]
    },
    {
      "cell_type": "code",
      "source": [
        "# 3. Agregar los elementos: 15, 23, 14, 27 y 58\n",
        "\n",
        "print(lista)\n",
        "lista.append(15)\n",
        "lista.append(23)\n",
        "lista.append(14)\n",
        "lista.append(27)\n",
        "lista.append(58)\n",
        "print(lista)"
      ],
      "metadata": {
        "colab": {
          "base_uri": "https://localhost:8080/"
        },
        "id": "kAW-0EOkkK4g",
        "outputId": "98163e32-e50e-4348-ad58-c13fad8fa83e"
      },
      "execution_count": null,
      "outputs": [
        {
          "output_type": "stream",
          "name": "stdout",
          "text": [
            "[1, 2, 5, 25, 33, 56, 75, 21, 56, 89, 43, 13, 62, 24]\n",
            "[1, 2, 5, 25, 33, 56, 75, 21, 56, 89, 43, 13, 62, 24, 15, 23, 14, 27, 58]\n"
          ]
        }
      ]
    },
    {
      "cell_type": "code",
      "source": [
        "# 4. Eliminar los elementos: 25, 33, 75, 56, 24.\n",
        "\n",
        "print(lista)\n",
        "lista.remove(25)\n",
        "lista.remove(33)\n",
        "lista.remove(75)\n",
        "lista.remove(56)\n",
        "lista.remove(24)\n",
        "print(lista)"
      ],
      "metadata": {
        "colab": {
          "base_uri": "https://localhost:8080/"
        },
        "id": "e96oBDB6kmVe",
        "outputId": "d7c21a83-9a37-4738-99c5-975384453f88"
      },
      "execution_count": null,
      "outputs": [
        {
          "output_type": "stream",
          "name": "stdout",
          "text": [
            "[1, 2, 5, 25, 33, 56, 75, 21, 56, 89, 43, 13, 62, 24, 15, 23, 14, 27, 58]\n",
            "[1, 2, 5, 21, 56, 89, 43, 13, 62, 15, 23, 14, 27, 58]\n"
          ]
        }
      ]
    },
    {
      "cell_type": "code",
      "source": [
        "# 5. Recorrer la lista con \"for\".\n",
        "\n",
        "for i in lista:\n",
        "  print(i)"
      ],
      "metadata": {
        "colab": {
          "base_uri": "https://localhost:8080/"
        },
        "id": "qmNeGpCTk_Ow",
        "outputId": "9418fe39-485b-44ad-c7a0-49210be3e6f1"
      },
      "execution_count": null,
      "outputs": [
        {
          "output_type": "stream",
          "name": "stdout",
          "text": [
            "1\n",
            "2\n",
            "5\n",
            "21\n",
            "56\n",
            "89\n",
            "43\n",
            "13\n",
            "62\n",
            "15\n",
            "23\n",
            "14\n",
            "27\n",
            "58\n"
          ]
        }
      ]
    },
    {
      "cell_type": "code",
      "source": [
        "# 6. Limpiar los elementos de la lista.\n",
        "\n",
        "lista.clear()\n",
        "print(lista)"
      ],
      "metadata": {
        "colab": {
          "base_uri": "https://localhost:8080/"
        },
        "id": "dr64pFJmlDKC",
        "outputId": "5c4d3ee3-b197-4734-e15e-5f4bd1e9044f"
      },
      "execution_count": null,
      "outputs": [
        {
          "output_type": "stream",
          "name": "stdout",
          "text": [
            "[]\n"
          ]
        }
      ]
    },
    {
      "cell_type": "markdown",
      "source": [
        "## Tuplas\n",
        "\n",
        "  * Son colecciones ordenadas e inmutables.\n",
        "  \n",
        "  * Una vez que se crea una tupla, no se pueden cambiar sus elementos.\n",
        "  \n",
        "  * Se definen con paréntesis () o simplemente separando los elementos con comas.\n",
        "  \n",
        "  * Son más rápidas que las listas y se usan para datos que no deben cambiar, como coordenadas geográficas o información de configuración.\n"
      ],
      "metadata": {
        "id": "AfAYK2zQLtkm"
      }
    },
    {
      "cell_type": "code",
      "source": [
        "#Creación\n",
        "\n",
        "tupla = (\"rojo\", \"amarillo\", \"verde\", \"negro\", \"rosa\", \"naranja\")\n",
        "print(tupla)\n"
      ],
      "metadata": {
        "colab": {
          "base_uri": "https://localhost:8080/"
        },
        "id": "nV0L5dn-LLZY",
        "outputId": "8b1572b0-346f-4258-ca66-c62d9a8e3cb3"
      },
      "execution_count": null,
      "outputs": [
        {
          "output_type": "stream",
          "name": "stdout",
          "text": [
            "('rojo', 'amarillo', 'verde', 'negro', 'rosa', 'naranja')\n"
          ]
        }
      ]
    },
    {
      "cell_type": "code",
      "source": [
        "# Acceso\n",
        "print(tupla[2])\n",
        "print(tupla[0])\n",
        "print(tupla[5])\n"
      ],
      "metadata": {
        "colab": {
          "base_uri": "https://localhost:8080/"
        },
        "id": "c-jClWAtMa-z",
        "outputId": "542bff66-cd6a-4f0f-d1a4-e8cefeef0bdc"
      },
      "execution_count": null,
      "outputs": [
        {
          "output_type": "stream",
          "name": "stdout",
          "text": [
            "verde\n",
            "rojo\n",
            "naranja\n"
          ]
        }
      ]
    },
    {
      "cell_type": "code",
      "source": [
        "# Slicing (división)\n",
        "print(tupla)\n",
        "print(tupla[1:4])\n",
        "print(tupla[2:5])"
      ],
      "metadata": {
        "colab": {
          "base_uri": "https://localhost:8080/"
        },
        "id": "rWDF8hVuMsjn",
        "outputId": "35bbcef1-a6d9-432a-af80-e10f65998bcb"
      },
      "execution_count": null,
      "outputs": [
        {
          "output_type": "stream",
          "name": "stdout",
          "text": [
            "('rojo', 'amarillo', 'verde', 'negro', 'rosa', 'naranja')\n",
            "('amarillo', 'verde', 'negro')\n",
            "('verde', 'negro', 'rosa')\n"
          ]
        }
      ]
    },
    {
      "cell_type": "code",
      "source": [
        "# Búsqueda\n",
        "print(tupla)\n",
        "indice = tupla.index(\"verde\")\n",
        "print(indice)"
      ],
      "metadata": {
        "colab": {
          "base_uri": "https://localhost:8080/"
        },
        "id": "JOf_GAk5M7VX",
        "outputId": "b6730d8b-2b5f-4d6f-ca32-84fc20129357"
      },
      "execution_count": null,
      "outputs": [
        {
          "output_type": "stream",
          "name": "stdout",
          "text": [
            "('rojo', 'amarillo', 'verde', 'negro', 'rosa', 'naranja')\n",
            "2\n"
          ]
        }
      ]
    },
    {
      "cell_type": "code",
      "source": [
        "# Conteo (count)\n",
        "print(tupla.count(\"rojo\"))\n",
        "print(tupla.count(\"azul\"))"
      ],
      "metadata": {
        "colab": {
          "base_uri": "https://localhost:8080/"
        },
        "id": "MtsFoSxSNKx_",
        "outputId": "87b8fc1b-4561-42ed-bf49-50770bb5615f"
      },
      "execution_count": null,
      "outputs": [
        {
          "output_type": "stream",
          "name": "stdout",
          "text": [
            "1\n",
            "0\n"
          ]
        }
      ]
    },
    {
      "cell_type": "code",
      "source": [
        "# Error porque tupla es inmutable\n",
        "print(tupla)\n",
        "#tupla[2] = \"cafe\""
      ],
      "metadata": {
        "colab": {
          "base_uri": "https://localhost:8080/"
        },
        "id": "WgNSHkphNXmE",
        "outputId": "2fe48794-d98f-4ce7-8c25-fff08e1bafed"
      },
      "execution_count": null,
      "outputs": [
        {
          "output_type": "stream",
          "name": "stdout",
          "text": [
            "('rojo', 'amarillo', 'verde', 'negro', 'rosa', 'naranja')\n"
          ]
        }
      ]
    },
    {
      "cell_type": "code",
      "source": [
        "# Recorrer tupla\n",
        "for color in tupla:\n",
        "  print(color)"
      ],
      "metadata": {
        "colab": {
          "base_uri": "https://localhost:8080/"
        },
        "id": "L3WrtGlfNtwf",
        "outputId": "6c61901d-2ea7-4bc3-c8a0-444401c66859"
      },
      "execution_count": null,
      "outputs": [
        {
          "output_type": "stream",
          "name": "stdout",
          "text": [
            "rojo\n",
            "amarillo\n",
            "verde\n",
            "negro\n",
            "rosa\n",
            "naranja\n"
          ]
        }
      ]
    },
    {
      "cell_type": "code",
      "source": [
        "# Longitud\n",
        "print(len(tupla))"
      ],
      "metadata": {
        "colab": {
          "base_uri": "https://localhost:8080/"
        },
        "id": "wNOlfobsN249",
        "outputId": "9b3a099e-d4be-4daa-a92b-fa7ee674b88d"
      },
      "execution_count": null,
      "outputs": [
        {
          "output_type": "stream",
          "name": "stdout",
          "text": [
            "6\n"
          ]
        }
      ]
    },
    {
      "cell_type": "code",
      "source": [
        "# In\n",
        "print(\"azul\" in tupla)\n",
        "print(\"negro\" in tupla)"
      ],
      "metadata": {
        "colab": {
          "base_uri": "https://localhost:8080/"
        },
        "id": "mf8ri3PON-Eb",
        "outputId": "4a657d93-541e-4cb7-a7f3-017c2fc95a2e"
      },
      "execution_count": null,
      "outputs": [
        {
          "output_type": "stream",
          "name": "stdout",
          "text": [
            "False\n",
            "True\n"
          ]
        }
      ]
    },
    {
      "cell_type": "code",
      "source": [
        "# sorted\n",
        "print(sorted(tupla))"
      ],
      "metadata": {
        "colab": {
          "base_uri": "https://localhost:8080/"
        },
        "id": "6pml1mLNOFZe",
        "outputId": "d0c934f9-e969-4d8f-f0f6-98cb92316be0"
      },
      "execution_count": null,
      "outputs": [
        {
          "output_type": "stream",
          "name": "stdout",
          "text": [
            "['amarillo', 'naranja', 'negro', 'rojo', 'rosa', 'verde']\n"
          ]
        }
      ]
    },
    {
      "cell_type": "code",
      "source": [
        "#Concatenar\n",
        "tupla2 = (\"morado\", \"blanco\")\n",
        "nuevaTupla = tupla + tupla2\n",
        "nuevaTupla"
      ],
      "metadata": {
        "colab": {
          "base_uri": "https://localhost:8080/"
        },
        "id": "Y939xO4HOaCH",
        "outputId": "4a49b7b4-2d7c-4e04-d47f-945433578d9a"
      },
      "execution_count": null,
      "outputs": [
        {
          "output_type": "execute_result",
          "data": {
            "text/plain": [
              "('rojo', 'amarillo', 'verde', 'negro', 'rosa', 'naranja', 'morado', 'blanco')"
            ]
          },
          "metadata": {},
          "execution_count": 63
        }
      ]
    },
    {
      "cell_type": "code",
      "source": [
        "# Desempacar\n",
        "coordenadas = (10, 20)\n",
        "x, y = coordenadas\n",
        "print(f'x: {x}, y: {y}')"
      ],
      "metadata": {
        "colab": {
          "base_uri": "https://localhost:8080/"
        },
        "id": "gshr4JnbOt8l",
        "outputId": "84f9a14f-1f3e-4e51-9c89-3a96e09db48d"
      },
      "execution_count": null,
      "outputs": [
        {
          "output_type": "stream",
          "name": "stdout",
          "text": [
            "x: 10, y: 20\n"
          ]
        }
      ]
    },
    {
      "cell_type": "code",
      "source": [
        "# Conversión a Tupla\n",
        "lista_colores = [\"morado\", \"vino\", \"cafe\"]\n",
        "print(lista_colores)\n",
        "tupla_colores = tuple(lista_colores)\n",
        "print(tupla_colores)"
      ],
      "metadata": {
        "colab": {
          "base_uri": "https://localhost:8080/"
        },
        "id": "JKlCLYwjPHkv",
        "outputId": "616feda5-b5c7-4166-e342-a49750dcee39"
      },
      "execution_count": null,
      "outputs": [
        {
          "output_type": "stream",
          "name": "stdout",
          "text": [
            "['morado', 'vino', 'cafe']\n",
            "('morado', 'vino', 'cafe')\n"
          ]
        }
      ]
    },
    {
      "cell_type": "markdown",
      "source": [
        "### Ejercicio Propuesto 8.02\n",
        "1. Crear una variable \"tupla\" que sea una tupla de los siguientes nombres: Bruce, Steve, Adrian, Janick, Nicko y Dave.\n",
        "2. Mostrar el valor de la variable \"tupla\".\n",
        "3. Ingresar un nombre por teclado y almacenarlo en la variable \"dato\".\n",
        "4. Si el valor de \"dato\" está dentro de los valores de la variable \"tupla\", mostrar \"Sí esta en la tupla\". De lo contrario mostrar \"No esta en la tupla\".\n",
        "5. Mostrar los elementos de la tupla: 0, 2, 4.\n",
        "6. Mostrar el número de elementos de la tupla.\n",
        "7. Recorrer la tupla con la estructura \"for\"."
      ],
      "metadata": {
        "id": "Mbt3qnONPi6V"
      }
    },
    {
      "cell_type": "code",
      "source": [
        "# 1. Crear una variable \"tupla\" que sea una tupla de los siguientes nombres: Bruce, Steve, Adrian, Janick, Nicko y Dave.\n",
        "\n",
        "tupla = ('Bruce', 'Steve', 'Adrian', 'Janink', 'Nicko', 'Dave')\n"
      ],
      "metadata": {
        "id": "-qVdV8Oujx82"
      },
      "execution_count": null,
      "outputs": []
    },
    {
      "cell_type": "code",
      "source": [
        "# 2. Mostrar el valor de la variable \"tupla\".\n",
        "print(tupla)"
      ],
      "metadata": {
        "colab": {
          "base_uri": "https://localhost:8080/"
        },
        "id": "VtyD4giO3ooG",
        "outputId": "0cc45f3f-f6ea-4427-8070-e54a04b76a72"
      },
      "execution_count": null,
      "outputs": [
        {
          "output_type": "stream",
          "name": "stdout",
          "text": [
            "('Bruce', 'Steve', 'Adrian', 'Janink', 'Nicko', 'Dave')\n"
          ]
        }
      ]
    },
    {
      "cell_type": "code",
      "source": [
        "# 3. Ingresar un nombre por teclado y almacenarlo en la variable \"dato\".\n",
        "# Error porque tupla es inmutable\n",
        "print(tupla)\n",
        "#tupla[2] = \"Tuny\"\n",
        "\n",
        "dato = 'Tuny'"
      ],
      "metadata": {
        "colab": {
          "base_uri": "https://localhost:8080/"
        },
        "id": "hQmHgmbS3sP0",
        "outputId": "42dd91c2-c5ee-4fff-acda-501c1074e25a"
      },
      "execution_count": null,
      "outputs": [
        {
          "output_type": "stream",
          "name": "stdout",
          "text": [
            "('Bruce', 'Steve', 'Adrian', 'Janink', 'Nicko', 'Dave')\n"
          ]
        }
      ]
    },
    {
      "cell_type": "code",
      "source": [
        "# 4. Si el valor de \"dato\" está dentro de los valores de la variable \"tupla\", mostrar \"Sí esta en la tupla\". De lo contrario mostrar \"No esta en la tupla\".\n",
        "\n",
        "#Error porque no se guardo en Tupla\n",
        "if dato in tupla:\n",
        "    print(\"Sí está en la tupla\")\n",
        "else:\n",
        "    print(\"No está en la tupla\")\n"
      ],
      "metadata": {
        "colab": {
          "base_uri": "https://localhost:8080/"
        },
        "id": "Xk1YfMZN3vKS",
        "outputId": "e2ff487e-d30a-4c2d-daaa-1ba0b6991c29"
      },
      "execution_count": null,
      "outputs": [
        {
          "output_type": "stream",
          "name": "stdout",
          "text": [
            "No está en la tupla\n"
          ]
        }
      ]
    },
    {
      "cell_type": "code",
      "source": [
        "# 5. Mostrar los elementos de la tupla: 0, 2, 4.\n",
        "print(tupla[0])\n",
        "print(tupla[2])\n",
        "print(tupla[4])"
      ],
      "metadata": {
        "colab": {
          "base_uri": "https://localhost:8080/"
        },
        "id": "N-eIwfUm3xx5",
        "outputId": "476ca585-50bd-4551-8b88-ae2811aaa335"
      },
      "execution_count": null,
      "outputs": [
        {
          "output_type": "stream",
          "name": "stdout",
          "text": [
            "Bruce\n",
            "Adrian\n",
            "Nicko\n"
          ]
        }
      ]
    },
    {
      "cell_type": "code",
      "source": [
        "# 6. Mostrar el número de elementos de la tupla.\n",
        "print(len(tupla))"
      ],
      "metadata": {
        "colab": {
          "base_uri": "https://localhost:8080/"
        },
        "id": "X0odzz6X30NZ",
        "outputId": "a7dafac0-d6e2-4f1d-80ff-420e029ba5c7"
      },
      "execution_count": null,
      "outputs": [
        {
          "output_type": "stream",
          "name": "stdout",
          "text": [
            "6\n"
          ]
        }
      ]
    },
    {
      "cell_type": "code",
      "source": [
        "# 7. Recorrer la tupla con la estructura \"for\".\n",
        "for i in tupla:\n",
        "  print(i)"
      ],
      "metadata": {
        "colab": {
          "base_uri": "https://localhost:8080/"
        },
        "id": "vdGM9c2q33Gr",
        "outputId": "8503e6c5-ac4f-483e-fd33-15307fc4e8b8"
      },
      "execution_count": null,
      "outputs": [
        {
          "output_type": "stream",
          "name": "stdout",
          "text": [
            "Bruce\n",
            "Steve\n",
            "Adrian\n",
            "Janink\n",
            "Nicko\n",
            "Dave\n"
          ]
        }
      ]
    },
    {
      "cell_type": "markdown",
      "source": [
        "## Conjuntos\n",
        "\n",
        "  * Son colecciones no ordenadas y mutables que no permiten elementos duplicados.\n",
        "  \n",
        "  * Son ideales para eliminar duplicados de una lista o para realizar operaciones matemáticas de conjuntos, como uniones e intersecciones.\n",
        "  \n",
        "  * Se definen con llaves {} o con la función set().\n",
        "  \n",
        "  * No tienen un índice, por lo que no se puede acceder a sus elementos de la misma forma que en las listas o tuplas."
      ],
      "metadata": {
        "id": "wBES4y3rQyIy"
      }
    },
    {
      "cell_type": "code",
      "source": [
        "# Creación\n",
        "colores = {\"rosa\", \"blanco\", \"rojo\", \"naranja\", \"negro\", \"morado\"}\n",
        "colores"
      ],
      "metadata": {
        "colab": {
          "base_uri": "https://localhost:8080/"
        },
        "id": "Ppd-exC5Q0iv",
        "outputId": "193cc990-b971-40ab-e8b2-28dc51e174af"
      },
      "execution_count": null,
      "outputs": [
        {
          "output_type": "execute_result",
          "data": {
            "text/plain": [
              "('rosa', 'blanco', 'rojo', 'naranja', 'negro', 'morado')"
            ]
          },
          "metadata": {},
          "execution_count": 68
        }
      ]
    },
    {
      "cell_type": "code",
      "source": [
        "# Creacion\n",
        "lista = [\"rosa\", \"blanco\", \"rojo\", \"naranja\", \"negro\", \"morado\"]\n",
        "print(lista)\n",
        "colores =set(lista)\n",
        "print(colores)"
      ],
      "metadata": {
        "colab": {
          "base_uri": "https://localhost:8080/"
        },
        "id": "N4u5BVw_RSBO",
        "outputId": "584e5548-86b4-4568-fe9b-93c57ec53b82"
      },
      "execution_count": null,
      "outputs": [
        {
          "output_type": "stream",
          "name": "stdout",
          "text": [
            "['rosa', 'blanco', 'rojo', 'naranja', 'negro', 'morado']\n",
            "{'negro', 'rosa', 'morado', 'naranja', 'blanco', 'rojo'}\n"
          ]
        }
      ]
    },
    {
      "cell_type": "code",
      "source": [
        "#Recorrer conjunto\n",
        "for i in colores:\n",
        "  print(i)"
      ],
      "metadata": {
        "colab": {
          "base_uri": "https://localhost:8080/"
        },
        "id": "P7D_WqlhR_g2",
        "outputId": "18d0f8ed-81b9-42d8-eb0b-72b16bfb3867"
      },
      "execution_count": null,
      "outputs": [
        {
          "output_type": "stream",
          "name": "stdout",
          "text": [
            "negro\n",
            "rosa\n",
            "morado\n",
            "naranja\n",
            "blanco\n",
            "rojo\n"
          ]
        }
      ]
    },
    {
      "cell_type": "code",
      "source": [
        "#Conjuntos no tiene indices\n",
        "#print(colores[3])\n",
        "print(colores)"
      ],
      "metadata": {
        "colab": {
          "base_uri": "https://localhost:8080/"
        },
        "id": "DfL8aUdcRsNP",
        "outputId": "2b977c34-cd7d-46b1-e41d-ac09c0b27271"
      },
      "execution_count": null,
      "outputs": [
        {
          "output_type": "stream",
          "name": "stdout",
          "text": [
            "{'negro', 'rosa', 'morado', 'naranja', 'blanco', 'rojo'}\n"
          ]
        }
      ]
    },
    {
      "cell_type": "code",
      "source": [
        "# longitud\n",
        "len(colores)"
      ],
      "metadata": {
        "colab": {
          "base_uri": "https://localhost:8080/"
        },
        "id": "MuB2A_JNSQYf",
        "outputId": "2a8b3d5f-9e16-4bb5-baaf-926486c33713"
      },
      "execution_count": null,
      "outputs": [
        {
          "output_type": "execute_result",
          "data": {
            "text/plain": [
              "6"
            ]
          },
          "metadata": {},
          "execution_count": 74
        }
      ]
    },
    {
      "cell_type": "code",
      "source": [
        "# Agregar elementos\n",
        "colores.add(\"verde\")\n",
        "print(colores)"
      ],
      "metadata": {
        "colab": {
          "base_uri": "https://localhost:8080/"
        },
        "id": "VaD0U8mbSVL1",
        "outputId": "a2106fd0-a819-4001-aa14-90cc56037d96"
      },
      "execution_count": null,
      "outputs": [
        {
          "output_type": "stream",
          "name": "stdout",
          "text": [
            "{'negro', 'rosa', 'morado', 'naranja', 'blanco', 'rojo', 'verde'}\n"
          ]
        }
      ]
    },
    {
      "cell_type": "code",
      "source": [
        "# Eliminar elementos (remove)\n",
        "print(colores)\n",
        "colores.remove(\"negro\")\n",
        "print(colores)"
      ],
      "metadata": {
        "colab": {
          "base_uri": "https://localhost:8080/"
        },
        "id": "IsjiV02-SgPV",
        "outputId": "e6bd9051-167a-4d35-e152-d24313868ccf"
      },
      "execution_count": null,
      "outputs": [
        {
          "output_type": "stream",
          "name": "stdout",
          "text": [
            "{'negro', 'rosa', 'morado', 'naranja', 'blanco', 'rojo', 'verde'}\n",
            "{'rosa', 'morado', 'naranja', 'blanco', 'rojo', 'verde'}\n"
          ]
        }
      ]
    },
    {
      "cell_type": "code",
      "source": [
        "#Actualizar\n",
        "\n",
        "print(colores)\n",
        "colores.update(['dorado', 'plateado'])\n",
        "print(colores)"
      ],
      "metadata": {
        "colab": {
          "base_uri": "https://localhost:8080/"
        },
        "id": "iJ7YKPKFSudq",
        "outputId": "b961d25d-7edc-4ce7-e79e-1e9eb8287d40"
      },
      "execution_count": null,
      "outputs": [
        {
          "output_type": "stream",
          "name": "stdout",
          "text": [
            "{'rosa', 'morado', 'naranja', 'blanco', 'rojo', 'verde'}\n",
            "{'rosa', 'plateado', 'morado', 'naranja', 'blanco', 'rojo', 'dorado', 'verde'}\n"
          ]
        }
      ]
    },
    {
      "cell_type": "code",
      "source": [
        "# Eliminar elemento (discard)\n",
        "print(colores)\n",
        "colores.discard(\"rojo\")\n",
        "print(colores)"
      ],
      "metadata": {
        "colab": {
          "base_uri": "https://localhost:8080/"
        },
        "id": "XvoNFFMjTEnU",
        "outputId": "6ec1252c-01ac-41c5-c08e-7cfa3f54a3a3"
      },
      "execution_count": null,
      "outputs": [
        {
          "output_type": "stream",
          "name": "stdout",
          "text": [
            "{'rosa', 'plateado', 'morado', 'naranja', 'blanco', 'rojo', 'dorado', 'verde'}\n",
            "{'rosa', 'plateado', 'morado', 'naranja', 'blanco', 'dorado', 'verde'}\n"
          ]
        }
      ]
    },
    {
      "cell_type": "code",
      "source": [
        "# Pop\n",
        "print(colores)\n",
        "color_eliminado = colores.pop()\n",
        "print(colores)\n",
        "print(color_eliminado)"
      ],
      "metadata": {
        "colab": {
          "base_uri": "https://localhost:8080/"
        },
        "id": "JpitoVHvTX5B",
        "outputId": "92a94a94-eb76-47f8-c4c7-22bcc0f2a296"
      },
      "execution_count": null,
      "outputs": [
        {
          "output_type": "stream",
          "name": "stdout",
          "text": [
            "{'rosa', 'plateado', 'morado', 'naranja', 'blanco', 'dorado', 'verde'}\n",
            "{'plateado', 'morado', 'naranja', 'blanco', 'dorado', 'verde'}\n",
            "rosa\n"
          ]
        }
      ]
    },
    {
      "cell_type": "code",
      "source": [
        "# Verificar tipo de colección\n",
        "type(colores)"
      ],
      "metadata": {
        "colab": {
          "base_uri": "https://localhost:8080/"
        },
        "id": "_DZajujZT4kV",
        "outputId": "216b1321-fc17-4c0f-f3c1-8ebb976fb61a"
      },
      "execution_count": null,
      "outputs": [
        {
          "output_type": "execute_result",
          "data": {
            "text/plain": [
              "set"
            ]
          },
          "metadata": {},
          "execution_count": 81
        }
      ]
    },
    {
      "cell_type": "code",
      "source": [
        "#clear\n",
        "colores.clear()\n",
        "print(colores)"
      ],
      "metadata": {
        "colab": {
          "base_uri": "https://localhost:8080/"
        },
        "id": "YcO5EfbgUFrU",
        "outputId": "945c2f69-571c-4409-b33f-1afaa770b0ae"
      },
      "execution_count": null,
      "outputs": [
        {
          "output_type": "stream",
          "name": "stdout",
          "text": [
            "set()\n"
          ]
        }
      ]
    },
    {
      "cell_type": "markdown",
      "source": [
        "### Teoría de  conjuntos"
      ],
      "metadata": {
        "id": "HCXgP4y5ZhDw"
      }
    },
    {
      "cell_type": "code",
      "source": [
        "# Union (Combina todos los elementos de ambos conjuntos sin duplicados. Se puede usar el método union() o el operador |.)\n",
        "a = {1, 2, 3}\n",
        "b = {3, 4, 5}\n",
        "union_conjuntos = a.union(b)\n",
        "# o bien\n",
        "union_operador = a | b\n",
        "print(union_conjuntos)"
      ],
      "metadata": {
        "colab": {
          "base_uri": "https://localhost:8080/"
        },
        "id": "Q2tYl2FWUqer",
        "outputId": "dc6d40c7-6ccc-4ae6-d58e-4b88fc670ed5"
      },
      "execution_count": null,
      "outputs": [
        {
          "output_type": "stream",
          "name": "stdout",
          "text": [
            "{1, 2, 3, 4, 5}\n"
          ]
        }
      ]
    },
    {
      "cell_type": "code",
      "source": [
        "# Intersección (Devuelve los elementos que están presentes en ambos conjuntos. Se usa intersection() o el operador &.)\n",
        "a = {1, 2, 3}\n",
        "b = {3, 4, 5}\n",
        "interseccion_conjuntos = a.intersection(b)\n",
        "# o bien\n",
        "interseccion_operador = a & b\n",
        "print(interseccion_conjuntos)"
      ],
      "metadata": {
        "colab": {
          "base_uri": "https://localhost:8080/"
        },
        "id": "nVzg_ivaUrjT",
        "outputId": "1ab21db9-1437-4f16-b0d8-f47bbc862e4d"
      },
      "execution_count": null,
      "outputs": [
        {
          "output_type": "stream",
          "name": "stdout",
          "text": [
            "{3}\n"
          ]
        }
      ]
    },
    {
      "cell_type": "code",
      "source": [
        "# Diferencia (Devuelve los elementos que están en el primer conjunto pero no en el segundo. Se usa difference() o el operador -.)\n",
        "a = {1, 2, 3}\n",
        "b = {3, 4, 5}\n",
        "diferencia_conjuntos = a.difference(b)\n",
        "# o bien\n",
        "diferencia_operador = a - b\n",
        "print(diferencia_conjuntos)"
      ],
      "metadata": {
        "colab": {
          "base_uri": "https://localhost:8080/"
        },
        "id": "ttcb1LcxU5K1",
        "outputId": "adcbdbbf-6a8f-4724-f085-5dd9953fcf80"
      },
      "execution_count": null,
      "outputs": [
        {
          "output_type": "stream",
          "name": "stdout",
          "text": [
            "{1, 2}\n"
          ]
        }
      ]
    },
    {
      "cell_type": "code",
      "source": [
        "# Diferencia simétrica (Devuelve los elementos que están en uno de los conjuntos, pero no en ambos. Se usa symmetric_difference() o el operador ^.)\n",
        "a = {1, 2, 3}\n",
        "b = {3, 4, 5}\n",
        "diferencia_simetrica = a.symmetric_difference(b)\n",
        "# o bien\n",
        "diferencia_simetrica_operador = a ^ b\n",
        "print(diferencia_simetrica)"
      ],
      "metadata": {
        "colab": {
          "base_uri": "https://localhost:8080/"
        },
        "id": "HVwEiJ1rU98v",
        "outputId": "37792bdf-62ba-4194-8518-66f7a1510cd4"
      },
      "execution_count": null,
      "outputs": [
        {
          "output_type": "stream",
          "name": "stdout",
          "text": [
            "{1, 2, 4, 5}\n"
          ]
        }
      ]
    },
    {
      "cell_type": "code",
      "source": [
        "# Busqueda (in: Verifica si un elemento existe en el conjunto. Es muy rápido para esta operación.)\n",
        "numeros = {1, 2, 3}\n",
        "print(2 in numeros)"
      ],
      "metadata": {
        "colab": {
          "base_uri": "https://localhost:8080/"
        },
        "id": "wDUndcSoVA3m",
        "outputId": "b93208a2-57a7-4f64-d66f-ca727a44a91d"
      },
      "execution_count": null,
      "outputs": [
        {
          "output_type": "stream",
          "name": "stdout",
          "text": [
            "True\n"
          ]
        }
      ]
    },
    {
      "cell_type": "code",
      "source": [
        "# No elementos en común (isdisjoint(): Devuelve True si los conjuntos no tienen elementos en común, False en caso contrario.)\n",
        "a = {1, 2}\n",
        "b = {3, 4}\n",
        "print(a.isdisjoint(b))"
      ],
      "metadata": {
        "colab": {
          "base_uri": "https://localhost:8080/"
        },
        "id": "UHn1zX2tVIyn",
        "outputId": "c8c6c7b1-1ef8-407b-8c06-930f74ec9638"
      },
      "execution_count": null,
      "outputs": [
        {
          "output_type": "stream",
          "name": "stdout",
          "text": [
            "True\n"
          ]
        }
      ]
    },
    {
      "cell_type": "code",
      "source": [
        "# Subconjunto de otro (issubset(): Devuelve True si el conjunto es un subconjunto de otro (es decir, todos sus elementos están en el otro conjunto).)\n",
        "a = {1, 2}\n",
        "b = {1, 2, 3}\n",
        "print(a.issubset(b))"
      ],
      "metadata": {
        "colab": {
          "base_uri": "https://localhost:8080/"
        },
        "id": "QMMkRs3_VPD2",
        "outputId": "8afab160-b096-427a-b73c-c367efd0f73d"
      },
      "execution_count": null,
      "outputs": [
        {
          "output_type": "stream",
          "name": "stdout",
          "text": [
            "True\n"
          ]
        }
      ]
    },
    {
      "cell_type": "code",
      "source": [
        "# Superconjunto de otro (issuperset(): Devuelve True si el conjunto es un superconjunto de otro (es decir, contiene todos los elementos del otro conjunto).)\n",
        "a = {1, 2, 3}\n",
        "b = {1, 2}\n",
        "print(a.issuperset(b))"
      ],
      "metadata": {
        "colab": {
          "base_uri": "https://localhost:8080/"
        },
        "id": "gTPHnn2KVSYg",
        "outputId": "a24e9c22-7185-4e24-e25b-95e8b2f56bbe"
      },
      "execution_count": null,
      "outputs": [
        {
          "output_type": "stream",
          "name": "stdout",
          "text": [
            "True\n"
          ]
        }
      ]
    },
    {
      "cell_type": "markdown",
      "source": [
        "### Ejercicio Propuesto 8.03\n",
        "\n",
        "1. Crear una variable \"conjunto\" que sea un conjunto de los valores 1,2,3,4 y 5.\n",
        "2. Mostrar el valor de la variable \"conjunto\".\n",
        "3. Añadir los números 6,7,8 y 9 a la variable conjunto.\n",
        "4. Mostrar el valor de la variable \"conjunto\".\n",
        "5. Eliminar los números 9, 7 y 3 de la variable \"conjunto\".\n",
        "6. Mostrar el valor de la variable \"conjunto\".\n",
        "7. Verificar el tipo de la variable \"conjunto\"."
      ],
      "metadata": {
        "id": "OWl9LiY7ZLzb"
      }
    },
    {
      "cell_type": "code",
      "source": [
        "# 1. Crear una variable \"conjunto\" que sea un conjunto de los valores 1,2,3,4 y 5.\n",
        "conjunto = {1, 2, 3, 4, 5}"
      ],
      "metadata": {
        "id": "u00IF3bzZWvJ"
      },
      "execution_count": null,
      "outputs": []
    },
    {
      "cell_type": "code",
      "source": [
        "# 2. Mostrar el valor de la variable \"conjunto\".\n",
        "print(conjunto)"
      ],
      "metadata": {
        "colab": {
          "base_uri": "https://localhost:8080/"
        },
        "id": "WHAR4LNN7IET",
        "outputId": "f3bac5d0-55d6-4e23-c711-0c9132f490e5"
      },
      "execution_count": null,
      "outputs": [
        {
          "output_type": "stream",
          "name": "stdout",
          "text": [
            "{1, 2, 3, 4, 5}\n"
          ]
        }
      ]
    },
    {
      "cell_type": "code",
      "source": [
        "# 3. Añadir los números 6,7,8 y 9 a la variable conjunto.\n",
        "\n",
        "conjunto.add(6)\n",
        "conjunto.add(7)\n",
        "conjunto.add(8)\n",
        "conjunto.add(9)"
      ],
      "metadata": {
        "id": "3tl67JLN7KI7"
      },
      "execution_count": null,
      "outputs": []
    },
    {
      "cell_type": "code",
      "source": [
        "# 4. Mostrar el valor de la variable \"conjunto\".\n",
        "conjunto"
      ],
      "metadata": {
        "colab": {
          "base_uri": "https://localhost:8080/"
        },
        "id": "AyPPRvnU7MQO",
        "outputId": "c338b02e-1cf3-46c7-9606-bf03e9d9f7f8"
      },
      "execution_count": null,
      "outputs": [
        {
          "output_type": "execute_result",
          "data": {
            "text/plain": [
              "{1, 2, 3, 4, 5, 6, 7, 8, 9}"
            ]
          },
          "metadata": {},
          "execution_count": 24
        }
      ]
    },
    {
      "cell_type": "code",
      "source": [
        "# 5. Eliminar los números 9, 7 y 3 de la variable \"conjunto\".\n",
        "conjunto.remove(9)\n",
        "conjunto\n",
        "conjunto.discard(7)\n",
        "conjunto\n",
        "conjunto.remove(3)\n",
        "conjunto"
      ],
      "metadata": {
        "colab": {
          "base_uri": "https://localhost:8080/"
        },
        "id": "rGxtMuJ17OUZ",
        "outputId": "1bff9877-4c07-4181-9e20-5467a54264be"
      },
      "execution_count": null,
      "outputs": [
        {
          "output_type": "execute_result",
          "data": {
            "text/plain": [
              "{1, 2, 4, 5, 6, 8}"
            ]
          },
          "metadata": {},
          "execution_count": 25
        }
      ]
    },
    {
      "cell_type": "code",
      "source": [
        "# 6. Mostrar el valor de la variable \"conjunto\".\n",
        "conjunto"
      ],
      "metadata": {
        "colab": {
          "base_uri": "https://localhost:8080/"
        },
        "id": "8AAZNJp17Ria",
        "outputId": "8140e8b2-e072-49ed-fadf-1afc7c41904b"
      },
      "execution_count": null,
      "outputs": [
        {
          "output_type": "execute_result",
          "data": {
            "text/plain": [
              "{1, 2, 4, 5, 6, 8}"
            ]
          },
          "metadata": {},
          "execution_count": 26
        }
      ]
    },
    {
      "cell_type": "code",
      "source": [
        "# 7. Verificar el tipo de la variable \"conjunto\".\n",
        "type(conjunto)"
      ],
      "metadata": {
        "colab": {
          "base_uri": "https://localhost:8080/"
        },
        "id": "cYReRpC57Utt",
        "outputId": "17db8910-e8ec-4597-cf7f-0cec36df0362"
      },
      "execution_count": null,
      "outputs": [
        {
          "output_type": "execute_result",
          "data": {
            "text/plain": [
              "set"
            ]
          },
          "metadata": {},
          "execution_count": 27
        }
      ]
    },
    {
      "cell_type": "markdown",
      "source": [
        "#Cargas de datos"
      ],
      "metadata": {
        "id": "BuJZBxwQZ9kw"
      }
    },
    {
      "cell_type": "markdown",
      "source": [
        "DataFrame:\n",
        "\n",
        "en la biblioteca pandas de Python es una estructura de datos bidimensional, similar a una hoja de cálculo de Excel o una tabla de una base de datos.\n",
        "\n",
        "Características clave:\n",
        "\n",
        "  * Columnas y Filas: Está organizado en columnas y filas. Cada columna puede contener diferentes tipos de datos (números, texto, fechas, etc.), pero dentro de una misma columna, los datos son del mismo tipo.\n",
        "\n",
        "  * Etiquetas (Labels): Tanto las filas como las columnas tienen etiquetas (índices). Esto permite acceder a los datos de manera flexible, ya sea por el nombre de la columna o por el índice de la fila.\n",
        "\n",
        "  * Versatilidad: Es la estructura fundamental de pandas para manipular y analizar datos. Se puede usar para cargar, limpiar, transformar y visualizar información de diversas fuentes, como archivos CSV, bases de datos o APIs.\n",
        "\n",
        "  * El DataFrame simplifica y hace más eficiente el trabajo con conjuntos de datos tabulares en Python.\n"
      ],
      "metadata": {
        "id": "Aal7xZ_nahTS"
      }
    },
    {
      "cell_type": "markdown",
      "source": [
        "Crear los archivos\n",
        "\n",
        "* Datos.txt\n",
        "* Datos.csv\n",
        "* Datos_Barra.csv\n",
        "* Datos_Punto_y_coma.csv\n",
        "* Datos.xlsx\n",
        "\n",
        "Exportar los archivos\n",
        "\n",
        "* KillersCSV.csv\n",
        "* KillersTXT.txt\n",
        "* KillersXLSX.xlsx"
      ],
      "metadata": {
        "id": "JRO0s9YYbXFh"
      }
    },
    {
      "cell_type": "markdown",
      "source": [
        "### Leer CSV"
      ],
      "metadata": {
        "id": "cRAQfpgqeadb"
      }
    },
    {
      "cell_type": "code",
      "source": [
        "# Biblioteca\n",
        "import pandas as pd"
      ],
      "metadata": {
        "id": "OvMqYixMbI2C"
      },
      "execution_count": null,
      "outputs": []
    },
    {
      "cell_type": "code",
      "source": [
        "data = pd.read_csv('datos.csv')\n",
        "data"
      ],
      "metadata": {
        "colab": {
          "base_uri": "https://localhost:8080/",
          "height": 397
        },
        "collapsed": true,
        "id": "AMdYnWQ5ef-T",
        "outputId": "dbc7b777-12e3-4ca1-c58c-1260d6b9f48e"
      },
      "execution_count": null,
      "outputs": [
        {
          "output_type": "execute_result",
          "data": {
            "text/plain": [
              "      Juan    Vilchis  Doctorado Ciencias de la Computación  \\\n",
              "0    Oscar  Torrealba  Doctorado                   Economía   \n",
              "1   Carlos   Escalera  Doctorado           Ciencia Política   \n",
              "2  Antonio  Rodríguez   Maestría                 Demográfia   \n",
              "3   Samara   Saavedra   Maestría                          3   \n",
              "4   Paloma    Guevara   Maestría                 Demografía   \n",
              "\n",
              "                                            8  \\\n",
              "0                                           1   \n",
              "1                                           7   \n",
              "2                                           3   \n",
              "3   Centro de Estudios Demográficos y Urbanos   \n",
              "4                                           3   \n",
              "\n",
              "      Centro de Investigación en Computación Geminis   Azul     Cuervo  \\\n",
              "0              Centro de Estudios Económicos   Aries  Negro     Dragón   \n",
              "1         Centro de Estudios Internacionales   Aries  negro       león   \n",
              "2  Centro de Estudios Demográficos y Urbanos   Virgo   Azul  Serpiente   \n",
              "3                                   Escorpio   Verde   Vaca  Taekwondo   \n",
              "4  Centro de Estudios Demográficos y Urbanos   Tauro   rojo    mapache   \n",
              "\n",
              "          Futbol Telefono Negro          Judas Priest  \n",
              "0      Atletismo   Interestelar           The Beatles  \n",
              "1       natación   irreversible             the doors  \n",
              "2     Basketball       Scarface  Violadores del verso  \n",
              "3  Interestellar     White Lies                   NaN  \n",
              "4       arquería  the substance                the do  "
            ],
            "text/html": [
              "\n",
              "  <div id=\"df-737dee21-4c6d-49ea-b581-8d9e181f1588\" class=\"colab-df-container\">\n",
              "    <div>\n",
              "<style scoped>\n",
              "    .dataframe tbody tr th:only-of-type {\n",
              "        vertical-align: middle;\n",
              "    }\n",
              "\n",
              "    .dataframe tbody tr th {\n",
              "        vertical-align: top;\n",
              "    }\n",
              "\n",
              "    .dataframe thead th {\n",
              "        text-align: right;\n",
              "    }\n",
              "</style>\n",
              "<table border=\"1\" class=\"dataframe\">\n",
              "  <thead>\n",
              "    <tr style=\"text-align: right;\">\n",
              "      <th></th>\n",
              "      <th>Juan</th>\n",
              "      <th>Vilchis</th>\n",
              "      <th>Doctorado</th>\n",
              "      <th>Ciencias de la Computación</th>\n",
              "      <th>8</th>\n",
              "      <th>Centro de Investigación en Computación</th>\n",
              "      <th>Geminis</th>\n",
              "      <th>Azul</th>\n",
              "      <th>Cuervo</th>\n",
              "      <th>Futbol</th>\n",
              "      <th>Telefono Negro</th>\n",
              "      <th>Judas Priest</th>\n",
              "    </tr>\n",
              "  </thead>\n",
              "  <tbody>\n",
              "    <tr>\n",
              "      <th>0</th>\n",
              "      <td>Oscar</td>\n",
              "      <td>Torrealba</td>\n",
              "      <td>Doctorado</td>\n",
              "      <td>Economía</td>\n",
              "      <td>1</td>\n",
              "      <td>Centro de Estudios Económicos</td>\n",
              "      <td>Aries</td>\n",
              "      <td>Negro</td>\n",
              "      <td>Dragón</td>\n",
              "      <td>Atletismo</td>\n",
              "      <td>Interestelar</td>\n",
              "      <td>The Beatles</td>\n",
              "    </tr>\n",
              "    <tr>\n",
              "      <th>1</th>\n",
              "      <td>Carlos</td>\n",
              "      <td>Escalera</td>\n",
              "      <td>Doctorado</td>\n",
              "      <td>Ciencia Política</td>\n",
              "      <td>7</td>\n",
              "      <td>Centro de Estudios Internacionales</td>\n",
              "      <td>Aries</td>\n",
              "      <td>negro</td>\n",
              "      <td>león</td>\n",
              "      <td>natación</td>\n",
              "      <td>irreversible</td>\n",
              "      <td>the doors</td>\n",
              "    </tr>\n",
              "    <tr>\n",
              "      <th>2</th>\n",
              "      <td>Antonio</td>\n",
              "      <td>Rodríguez</td>\n",
              "      <td>Maestría</td>\n",
              "      <td>Demográfia</td>\n",
              "      <td>3</td>\n",
              "      <td>Centro de Estudios Demográficos y Urbanos</td>\n",
              "      <td>Virgo</td>\n",
              "      <td>Azul</td>\n",
              "      <td>Serpiente</td>\n",
              "      <td>Basketball</td>\n",
              "      <td>Scarface</td>\n",
              "      <td>Violadores del verso</td>\n",
              "    </tr>\n",
              "    <tr>\n",
              "      <th>3</th>\n",
              "      <td>Samara</td>\n",
              "      <td>Saavedra</td>\n",
              "      <td>Maestría</td>\n",
              "      <td>3</td>\n",
              "      <td>Centro de Estudios Demográficos y Urbanos</td>\n",
              "      <td>Escorpio</td>\n",
              "      <td>Verde</td>\n",
              "      <td>Vaca</td>\n",
              "      <td>Taekwondo</td>\n",
              "      <td>Interestellar</td>\n",
              "      <td>White Lies</td>\n",
              "      <td>NaN</td>\n",
              "    </tr>\n",
              "    <tr>\n",
              "      <th>4</th>\n",
              "      <td>Paloma</td>\n",
              "      <td>Guevara</td>\n",
              "      <td>Maestría</td>\n",
              "      <td>Demografía</td>\n",
              "      <td>3</td>\n",
              "      <td>Centro de Estudios Demográficos y Urbanos</td>\n",
              "      <td>Tauro</td>\n",
              "      <td>rojo</td>\n",
              "      <td>mapache</td>\n",
              "      <td>arquería</td>\n",
              "      <td>the substance</td>\n",
              "      <td>the do</td>\n",
              "    </tr>\n",
              "  </tbody>\n",
              "</table>\n",
              "</div>\n",
              "    <div class=\"colab-df-buttons\">\n",
              "\n",
              "  <div class=\"colab-df-container\">\n",
              "    <button class=\"colab-df-convert\" onclick=\"convertToInteractive('df-737dee21-4c6d-49ea-b581-8d9e181f1588')\"\n",
              "            title=\"Convert this dataframe to an interactive table.\"\n",
              "            style=\"display:none;\">\n",
              "\n",
              "  <svg xmlns=\"http://www.w3.org/2000/svg\" height=\"24px\" viewBox=\"0 -960 960 960\">\n",
              "    <path d=\"M120-120v-720h720v720H120Zm60-500h600v-160H180v160Zm220 220h160v-160H400v160Zm0 220h160v-160H400v160ZM180-400h160v-160H180v160Zm440 0h160v-160H620v160ZM180-180h160v-160H180v160Zm440 0h160v-160H620v160Z\"/>\n",
              "  </svg>\n",
              "    </button>\n",
              "\n",
              "  <style>\n",
              "    .colab-df-container {\n",
              "      display:flex;\n",
              "      gap: 12px;\n",
              "    }\n",
              "\n",
              "    .colab-df-convert {\n",
              "      background-color: #E8F0FE;\n",
              "      border: none;\n",
              "      border-radius: 50%;\n",
              "      cursor: pointer;\n",
              "      display: none;\n",
              "      fill: #1967D2;\n",
              "      height: 32px;\n",
              "      padding: 0 0 0 0;\n",
              "      width: 32px;\n",
              "    }\n",
              "\n",
              "    .colab-df-convert:hover {\n",
              "      background-color: #E2EBFA;\n",
              "      box-shadow: 0px 1px 2px rgba(60, 64, 67, 0.3), 0px 1px 3px 1px rgba(60, 64, 67, 0.15);\n",
              "      fill: #174EA6;\n",
              "    }\n",
              "\n",
              "    .colab-df-buttons div {\n",
              "      margin-bottom: 4px;\n",
              "    }\n",
              "\n",
              "    [theme=dark] .colab-df-convert {\n",
              "      background-color: #3B4455;\n",
              "      fill: #D2E3FC;\n",
              "    }\n",
              "\n",
              "    [theme=dark] .colab-df-convert:hover {\n",
              "      background-color: #434B5C;\n",
              "      box-shadow: 0px 1px 3px 1px rgba(0, 0, 0, 0.15);\n",
              "      filter: drop-shadow(0px 1px 2px rgba(0, 0, 0, 0.3));\n",
              "      fill: #FFFFFF;\n",
              "    }\n",
              "  </style>\n",
              "\n",
              "    <script>\n",
              "      const buttonEl =\n",
              "        document.querySelector('#df-737dee21-4c6d-49ea-b581-8d9e181f1588 button.colab-df-convert');\n",
              "      buttonEl.style.display =\n",
              "        google.colab.kernel.accessAllowed ? 'block' : 'none';\n",
              "\n",
              "      async function convertToInteractive(key) {\n",
              "        const element = document.querySelector('#df-737dee21-4c6d-49ea-b581-8d9e181f1588');\n",
              "        const dataTable =\n",
              "          await google.colab.kernel.invokeFunction('convertToInteractive',\n",
              "                                                    [key], {});\n",
              "        if (!dataTable) return;\n",
              "\n",
              "        const docLinkHtml = 'Like what you see? Visit the ' +\n",
              "          '<a target=\"_blank\" href=https://colab.research.google.com/notebooks/data_table.ipynb>data table notebook</a>'\n",
              "          + ' to learn more about interactive tables.';\n",
              "        element.innerHTML = '';\n",
              "        dataTable['output_type'] = 'display_data';\n",
              "        await google.colab.output.renderOutput(dataTable, element);\n",
              "        const docLink = document.createElement('div');\n",
              "        docLink.innerHTML = docLinkHtml;\n",
              "        element.appendChild(docLink);\n",
              "      }\n",
              "    </script>\n",
              "  </div>\n",
              "\n",
              "\n",
              "    <div id=\"df-876ebf11-7f10-4889-9d7c-23da8a4f08d8\">\n",
              "      <button class=\"colab-df-quickchart\" onclick=\"quickchart('df-876ebf11-7f10-4889-9d7c-23da8a4f08d8')\"\n",
              "                title=\"Suggest charts\"\n",
              "                style=\"display:none;\">\n",
              "\n",
              "<svg xmlns=\"http://www.w3.org/2000/svg\" height=\"24px\"viewBox=\"0 0 24 24\"\n",
              "     width=\"24px\">\n",
              "    <g>\n",
              "        <path d=\"M19 3H5c-1.1 0-2 .9-2 2v14c0 1.1.9 2 2 2h14c1.1 0 2-.9 2-2V5c0-1.1-.9-2-2-2zM9 17H7v-7h2v7zm4 0h-2V7h2v10zm4 0h-2v-4h2v4z\"/>\n",
              "    </g>\n",
              "</svg>\n",
              "      </button>\n",
              "\n",
              "<style>\n",
              "  .colab-df-quickchart {\n",
              "      --bg-color: #E8F0FE;\n",
              "      --fill-color: #1967D2;\n",
              "      --hover-bg-color: #E2EBFA;\n",
              "      --hover-fill-color: #174EA6;\n",
              "      --disabled-fill-color: #AAA;\n",
              "      --disabled-bg-color: #DDD;\n",
              "  }\n",
              "\n",
              "  [theme=dark] .colab-df-quickchart {\n",
              "      --bg-color: #3B4455;\n",
              "      --fill-color: #D2E3FC;\n",
              "      --hover-bg-color: #434B5C;\n",
              "      --hover-fill-color: #FFFFFF;\n",
              "      --disabled-bg-color: #3B4455;\n",
              "      --disabled-fill-color: #666;\n",
              "  }\n",
              "\n",
              "  .colab-df-quickchart {\n",
              "    background-color: var(--bg-color);\n",
              "    border: none;\n",
              "    border-radius: 50%;\n",
              "    cursor: pointer;\n",
              "    display: none;\n",
              "    fill: var(--fill-color);\n",
              "    height: 32px;\n",
              "    padding: 0;\n",
              "    width: 32px;\n",
              "  }\n",
              "\n",
              "  .colab-df-quickchart:hover {\n",
              "    background-color: var(--hover-bg-color);\n",
              "    box-shadow: 0 1px 2px rgba(60, 64, 67, 0.3), 0 1px 3px 1px rgba(60, 64, 67, 0.15);\n",
              "    fill: var(--button-hover-fill-color);\n",
              "  }\n",
              "\n",
              "  .colab-df-quickchart-complete:disabled,\n",
              "  .colab-df-quickchart-complete:disabled:hover {\n",
              "    background-color: var(--disabled-bg-color);\n",
              "    fill: var(--disabled-fill-color);\n",
              "    box-shadow: none;\n",
              "  }\n",
              "\n",
              "  .colab-df-spinner {\n",
              "    border: 2px solid var(--fill-color);\n",
              "    border-color: transparent;\n",
              "    border-bottom-color: var(--fill-color);\n",
              "    animation:\n",
              "      spin 1s steps(1) infinite;\n",
              "  }\n",
              "\n",
              "  @keyframes spin {\n",
              "    0% {\n",
              "      border-color: transparent;\n",
              "      border-bottom-color: var(--fill-color);\n",
              "      border-left-color: var(--fill-color);\n",
              "    }\n",
              "    20% {\n",
              "      border-color: transparent;\n",
              "      border-left-color: var(--fill-color);\n",
              "      border-top-color: var(--fill-color);\n",
              "    }\n",
              "    30% {\n",
              "      border-color: transparent;\n",
              "      border-left-color: var(--fill-color);\n",
              "      border-top-color: var(--fill-color);\n",
              "      border-right-color: var(--fill-color);\n",
              "    }\n",
              "    40% {\n",
              "      border-color: transparent;\n",
              "      border-right-color: var(--fill-color);\n",
              "      border-top-color: var(--fill-color);\n",
              "    }\n",
              "    60% {\n",
              "      border-color: transparent;\n",
              "      border-right-color: var(--fill-color);\n",
              "    }\n",
              "    80% {\n",
              "      border-color: transparent;\n",
              "      border-right-color: var(--fill-color);\n",
              "      border-bottom-color: var(--fill-color);\n",
              "    }\n",
              "    90% {\n",
              "      border-color: transparent;\n",
              "      border-bottom-color: var(--fill-color);\n",
              "    }\n",
              "  }\n",
              "</style>\n",
              "\n",
              "      <script>\n",
              "        async function quickchart(key) {\n",
              "          const quickchartButtonEl =\n",
              "            document.querySelector('#' + key + ' button');\n",
              "          quickchartButtonEl.disabled = true;  // To prevent multiple clicks.\n",
              "          quickchartButtonEl.classList.add('colab-df-spinner');\n",
              "          try {\n",
              "            const charts = await google.colab.kernel.invokeFunction(\n",
              "                'suggestCharts', [key], {});\n",
              "          } catch (error) {\n",
              "            console.error('Error during call to suggestCharts:', error);\n",
              "          }\n",
              "          quickchartButtonEl.classList.remove('colab-df-spinner');\n",
              "          quickchartButtonEl.classList.add('colab-df-quickchart-complete');\n",
              "        }\n",
              "        (() => {\n",
              "          let quickchartButtonEl =\n",
              "            document.querySelector('#df-876ebf11-7f10-4889-9d7c-23da8a4f08d8 button');\n",
              "          quickchartButtonEl.style.display =\n",
              "            google.colab.kernel.accessAllowed ? 'block' : 'none';\n",
              "        })();\n",
              "      </script>\n",
              "    </div>\n",
              "\n",
              "  <div id=\"id_8c6a8baf-4e33-4ade-b68d-8291941749b1\">\n",
              "    <style>\n",
              "      .colab-df-generate {\n",
              "        background-color: #E8F0FE;\n",
              "        border: none;\n",
              "        border-radius: 50%;\n",
              "        cursor: pointer;\n",
              "        display: none;\n",
              "        fill: #1967D2;\n",
              "        height: 32px;\n",
              "        padding: 0 0 0 0;\n",
              "        width: 32px;\n",
              "      }\n",
              "\n",
              "      .colab-df-generate:hover {\n",
              "        background-color: #E2EBFA;\n",
              "        box-shadow: 0px 1px 2px rgba(60, 64, 67, 0.3), 0px 1px 3px 1px rgba(60, 64, 67, 0.15);\n",
              "        fill: #174EA6;\n",
              "      }\n",
              "\n",
              "      [theme=dark] .colab-df-generate {\n",
              "        background-color: #3B4455;\n",
              "        fill: #D2E3FC;\n",
              "      }\n",
              "\n",
              "      [theme=dark] .colab-df-generate:hover {\n",
              "        background-color: #434B5C;\n",
              "        box-shadow: 0px 1px 3px 1px rgba(0, 0, 0, 0.15);\n",
              "        filter: drop-shadow(0px 1px 2px rgba(0, 0, 0, 0.3));\n",
              "        fill: #FFFFFF;\n",
              "      }\n",
              "    </style>\n",
              "    <button class=\"colab-df-generate\" onclick=\"generateWithVariable('data')\"\n",
              "            title=\"Generate code using this dataframe.\"\n",
              "            style=\"display:none;\">\n",
              "\n",
              "  <svg xmlns=\"http://www.w3.org/2000/svg\" height=\"24px\"viewBox=\"0 0 24 24\"\n",
              "       width=\"24px\">\n",
              "    <path d=\"M7,19H8.4L18.45,9,17,7.55,7,17.6ZM5,21V16.75L18.45,3.32a2,2,0,0,1,2.83,0l1.4,1.43a1.91,1.91,0,0,1,.58,1.4,1.91,1.91,0,0,1-.58,1.4L9.25,21ZM18.45,9,17,7.55Zm-12,3A5.31,5.31,0,0,0,4.9,8.1,5.31,5.31,0,0,0,1,6.5,5.31,5.31,0,0,0,4.9,4.9,5.31,5.31,0,0,0,6.5,1,5.31,5.31,0,0,0,8.1,4.9,5.31,5.31,0,0,0,12,6.5,5.46,5.46,0,0,0,6.5,12Z\"/>\n",
              "  </svg>\n",
              "    </button>\n",
              "    <script>\n",
              "      (() => {\n",
              "      const buttonEl =\n",
              "        document.querySelector('#id_8c6a8baf-4e33-4ade-b68d-8291941749b1 button.colab-df-generate');\n",
              "      buttonEl.style.display =\n",
              "        google.colab.kernel.accessAllowed ? 'block' : 'none';\n",
              "\n",
              "      buttonEl.onclick = () => {\n",
              "        google.colab.notebook.generateWithVariable('data');\n",
              "      }\n",
              "      })();\n",
              "    </script>\n",
              "  </div>\n",
              "\n",
              "    </div>\n",
              "  </div>\n"
            ],
            "application/vnd.google.colaboratory.intrinsic+json": {
              "type": "dataframe",
              "variable_name": "data",
              "summary": "{\n  \"name\": \"data\",\n  \"rows\": 5,\n  \"fields\": [\n    {\n      \"column\": \"Juan\",\n      \"properties\": {\n        \"dtype\": \"string\",\n        \"num_unique_values\": 5,\n        \"samples\": [\n          \"Carlos\",\n          \"Paloma\",\n          \"Antonio\"\n        ],\n        \"semantic_type\": \"\",\n        \"description\": \"\"\n      }\n    },\n    {\n      \"column\": \"Vilchis\",\n      \"properties\": {\n        \"dtype\": \"string\",\n        \"num_unique_values\": 5,\n        \"samples\": [\n          \"Escalera\",\n          \"Guevara\",\n          \"Rodr\\u00edguez\"\n        ],\n        \"semantic_type\": \"\",\n        \"description\": \"\"\n      }\n    },\n    {\n      \"column\": \"Doctorado\",\n      \"properties\": {\n        \"dtype\": \"category\",\n        \"num_unique_values\": 2,\n        \"samples\": [\n          \"Maestr\\u00eda\",\n          \"Doctorado\"\n        ],\n        \"semantic_type\": \"\",\n        \"description\": \"\"\n      }\n    },\n    {\n      \"column\": \"Ciencias de la Computaci\\u00f3n\",\n      \"properties\": {\n        \"dtype\": \"string\",\n        \"num_unique_values\": 5,\n        \"samples\": [\n          \"Ciencia Pol\\u00edtica\",\n          \"Demograf\\u00eda\"\n        ],\n        \"semantic_type\": \"\",\n        \"description\": \"\"\n      }\n    },\n    {\n      \"column\": \"8\",\n      \"properties\": {\n        \"dtype\": \"string\",\n        \"num_unique_values\": 4,\n        \"samples\": [\n          \"7\",\n          \" Centro de Estudios Demogr\\u00e1ficos y Urbanos\"\n        ],\n        \"semantic_type\": \"\",\n        \"description\": \"\"\n      }\n    },\n    {\n      \"column\": \"Centro de Investigaci\\u00f3n en Computaci\\u00f3n\",\n      \"properties\": {\n        \"dtype\": \"string\",\n        \"num_unique_values\": 4,\n        \"samples\": [\n          \"Centro de Estudios Internacionales\",\n          \"Escorpio\"\n        ],\n        \"semantic_type\": \"\",\n        \"description\": \"\"\n      }\n    },\n    {\n      \"column\": \"Geminis\",\n      \"properties\": {\n        \"dtype\": \"string\",\n        \"num_unique_values\": 4,\n        \"samples\": [\n          \"Virgo\",\n          \"Tauro\"\n        ],\n        \"semantic_type\": \"\",\n        \"description\": \"\"\n      }\n    },\n    {\n      \"column\": \"Azul\",\n      \"properties\": {\n        \"dtype\": \"string\",\n        \"num_unique_values\": 5,\n        \"samples\": [\n          \"negro\",\n          \"rojo\"\n        ],\n        \"semantic_type\": \"\",\n        \"description\": \"\"\n      }\n    },\n    {\n      \"column\": \"Cuervo\",\n      \"properties\": {\n        \"dtype\": \"string\",\n        \"num_unique_values\": 5,\n        \"samples\": [\n          \"le\\u00f3n\",\n          \"mapache\"\n        ],\n        \"semantic_type\": \"\",\n        \"description\": \"\"\n      }\n    },\n    {\n      \"column\": \"Futbol\",\n      \"properties\": {\n        \"dtype\": \"string\",\n        \"num_unique_values\": 5,\n        \"samples\": [\n          \"nataci\\u00f3n\",\n          \"arquer\\u00eda\"\n        ],\n        \"semantic_type\": \"\",\n        \"description\": \"\"\n      }\n    },\n    {\n      \"column\": \"Telefono Negro\",\n      \"properties\": {\n        \"dtype\": \"string\",\n        \"num_unique_values\": 5,\n        \"samples\": [\n          \"irreversible\",\n          \"the substance\"\n        ],\n        \"semantic_type\": \"\",\n        \"description\": \"\"\n      }\n    },\n    {\n      \"column\": \"Judas Priest\",\n      \"properties\": {\n        \"dtype\": \"string\",\n        \"num_unique_values\": 4,\n        \"samples\": [\n          \"the doors\",\n          \"the do\"\n        ],\n        \"semantic_type\": \"\",\n        \"description\": \"\"\n      }\n    }\n  ]\n}"
            }
          },
          "metadata": {},
          "execution_count": 92
        }
      ]
    },
    {
      "cell_type": "code",
      "source": [
        "### Delimiter\n",
        "data_c = pd.read_csv('datos.csv', delimiter= ',')\n",
        "data_c"
      ],
      "metadata": {
        "colab": {
          "base_uri": "https://localhost:8080/",
          "height": 504
        },
        "id": "QkTQF0Z7e-nM",
        "outputId": "cbe465b6-c9f5-40c8-bbcf-4676f1705575"
      },
      "execution_count": null,
      "outputs": [
        {
          "output_type": "execute_result",
          "data": {
            "text/plain": [
              "      Juan    Vilchis  Doctorado Ciencias de la Computación  \\\n",
              "0    Oscar  Torrealba  Doctorado                   Economía   \n",
              "1   Carlos   Escalera  Doctorado           Ciencia Política   \n",
              "2  Antonio  Rodríguez   Maestría                 Demográfia   \n",
              "3   Samara   Saavedra   Maestría                          3   \n",
              "4   Paloma    Guevara   Maestría                 Demografía   \n",
              "\n",
              "                                            8  \\\n",
              "0                                           1   \n",
              "1                                           7   \n",
              "2                                           3   \n",
              "3   Centro de Estudios Demográficos y Urbanos   \n",
              "4                                           3   \n",
              "\n",
              "      Centro de Investigación en Computación Geminis   Azul     Cuervo  \\\n",
              "0              Centro de Estudios Económicos   Aries  Negro     Dragón   \n",
              "1         Centro de Estudios Internacionales   Aries  negro       león   \n",
              "2  Centro de Estudios Demográficos y Urbanos   Virgo   Azul  Serpiente   \n",
              "3                                   Escorpio   Verde   Vaca  Taekwondo   \n",
              "4  Centro de Estudios Demográficos y Urbanos   Tauro   rojo    mapache   \n",
              "\n",
              "          Futbol Telefono Negro          Judas Priest  \n",
              "0      Atletismo   Interestelar           The Beatles  \n",
              "1       natación   irreversible             the doors  \n",
              "2     Basketball       Scarface  Violadores del verso  \n",
              "3  Interestellar     White Lies                   NaN  \n",
              "4       arquería  the substance                the do  "
            ],
            "text/html": [
              "\n",
              "  <div id=\"df-82b5f76a-3861-40ba-920b-ec1d97d954e9\" class=\"colab-df-container\">\n",
              "    <div>\n",
              "<style scoped>\n",
              "    .dataframe tbody tr th:only-of-type {\n",
              "        vertical-align: middle;\n",
              "    }\n",
              "\n",
              "    .dataframe tbody tr th {\n",
              "        vertical-align: top;\n",
              "    }\n",
              "\n",
              "    .dataframe thead th {\n",
              "        text-align: right;\n",
              "    }\n",
              "</style>\n",
              "<table border=\"1\" class=\"dataframe\">\n",
              "  <thead>\n",
              "    <tr style=\"text-align: right;\">\n",
              "      <th></th>\n",
              "      <th>Juan</th>\n",
              "      <th>Vilchis</th>\n",
              "      <th>Doctorado</th>\n",
              "      <th>Ciencias de la Computación</th>\n",
              "      <th>8</th>\n",
              "      <th>Centro de Investigación en Computación</th>\n",
              "      <th>Geminis</th>\n",
              "      <th>Azul</th>\n",
              "      <th>Cuervo</th>\n",
              "      <th>Futbol</th>\n",
              "      <th>Telefono Negro</th>\n",
              "      <th>Judas Priest</th>\n",
              "    </tr>\n",
              "  </thead>\n",
              "  <tbody>\n",
              "    <tr>\n",
              "      <th>0</th>\n",
              "      <td>Oscar</td>\n",
              "      <td>Torrealba</td>\n",
              "      <td>Doctorado</td>\n",
              "      <td>Economía</td>\n",
              "      <td>1</td>\n",
              "      <td>Centro de Estudios Económicos</td>\n",
              "      <td>Aries</td>\n",
              "      <td>Negro</td>\n",
              "      <td>Dragón</td>\n",
              "      <td>Atletismo</td>\n",
              "      <td>Interestelar</td>\n",
              "      <td>The Beatles</td>\n",
              "    </tr>\n",
              "    <tr>\n",
              "      <th>1</th>\n",
              "      <td>Carlos</td>\n",
              "      <td>Escalera</td>\n",
              "      <td>Doctorado</td>\n",
              "      <td>Ciencia Política</td>\n",
              "      <td>7</td>\n",
              "      <td>Centro de Estudios Internacionales</td>\n",
              "      <td>Aries</td>\n",
              "      <td>negro</td>\n",
              "      <td>león</td>\n",
              "      <td>natación</td>\n",
              "      <td>irreversible</td>\n",
              "      <td>the doors</td>\n",
              "    </tr>\n",
              "    <tr>\n",
              "      <th>2</th>\n",
              "      <td>Antonio</td>\n",
              "      <td>Rodríguez</td>\n",
              "      <td>Maestría</td>\n",
              "      <td>Demográfia</td>\n",
              "      <td>3</td>\n",
              "      <td>Centro de Estudios Demográficos y Urbanos</td>\n",
              "      <td>Virgo</td>\n",
              "      <td>Azul</td>\n",
              "      <td>Serpiente</td>\n",
              "      <td>Basketball</td>\n",
              "      <td>Scarface</td>\n",
              "      <td>Violadores del verso</td>\n",
              "    </tr>\n",
              "    <tr>\n",
              "      <th>3</th>\n",
              "      <td>Samara</td>\n",
              "      <td>Saavedra</td>\n",
              "      <td>Maestría</td>\n",
              "      <td>3</td>\n",
              "      <td>Centro de Estudios Demográficos y Urbanos</td>\n",
              "      <td>Escorpio</td>\n",
              "      <td>Verde</td>\n",
              "      <td>Vaca</td>\n",
              "      <td>Taekwondo</td>\n",
              "      <td>Interestellar</td>\n",
              "      <td>White Lies</td>\n",
              "      <td>NaN</td>\n",
              "    </tr>\n",
              "    <tr>\n",
              "      <th>4</th>\n",
              "      <td>Paloma</td>\n",
              "      <td>Guevara</td>\n",
              "      <td>Maestría</td>\n",
              "      <td>Demografía</td>\n",
              "      <td>3</td>\n",
              "      <td>Centro de Estudios Demográficos y Urbanos</td>\n",
              "      <td>Tauro</td>\n",
              "      <td>rojo</td>\n",
              "      <td>mapache</td>\n",
              "      <td>arquería</td>\n",
              "      <td>the substance</td>\n",
              "      <td>the do</td>\n",
              "    </tr>\n",
              "  </tbody>\n",
              "</table>\n",
              "</div>\n",
              "    <div class=\"colab-df-buttons\">\n",
              "\n",
              "  <div class=\"colab-df-container\">\n",
              "    <button class=\"colab-df-convert\" onclick=\"convertToInteractive('df-82b5f76a-3861-40ba-920b-ec1d97d954e9')\"\n",
              "            title=\"Convert this dataframe to an interactive table.\"\n",
              "            style=\"display:none;\">\n",
              "\n",
              "  <svg xmlns=\"http://www.w3.org/2000/svg\" height=\"24px\" viewBox=\"0 -960 960 960\">\n",
              "    <path d=\"M120-120v-720h720v720H120Zm60-500h600v-160H180v160Zm220 220h160v-160H400v160Zm0 220h160v-160H400v160ZM180-400h160v-160H180v160Zm440 0h160v-160H620v160ZM180-180h160v-160H180v160Zm440 0h160v-160H620v160Z\"/>\n",
              "  </svg>\n",
              "    </button>\n",
              "\n",
              "  <style>\n",
              "    .colab-df-container {\n",
              "      display:flex;\n",
              "      gap: 12px;\n",
              "    }\n",
              "\n",
              "    .colab-df-convert {\n",
              "      background-color: #E8F0FE;\n",
              "      border: none;\n",
              "      border-radius: 50%;\n",
              "      cursor: pointer;\n",
              "      display: none;\n",
              "      fill: #1967D2;\n",
              "      height: 32px;\n",
              "      padding: 0 0 0 0;\n",
              "      width: 32px;\n",
              "    }\n",
              "\n",
              "    .colab-df-convert:hover {\n",
              "      background-color: #E2EBFA;\n",
              "      box-shadow: 0px 1px 2px rgba(60, 64, 67, 0.3), 0px 1px 3px 1px rgba(60, 64, 67, 0.15);\n",
              "      fill: #174EA6;\n",
              "    }\n",
              "\n",
              "    .colab-df-buttons div {\n",
              "      margin-bottom: 4px;\n",
              "    }\n",
              "\n",
              "    [theme=dark] .colab-df-convert {\n",
              "      background-color: #3B4455;\n",
              "      fill: #D2E3FC;\n",
              "    }\n",
              "\n",
              "    [theme=dark] .colab-df-convert:hover {\n",
              "      background-color: #434B5C;\n",
              "      box-shadow: 0px 1px 3px 1px rgba(0, 0, 0, 0.15);\n",
              "      filter: drop-shadow(0px 1px 2px rgba(0, 0, 0, 0.3));\n",
              "      fill: #FFFFFF;\n",
              "    }\n",
              "  </style>\n",
              "\n",
              "    <script>\n",
              "      const buttonEl =\n",
              "        document.querySelector('#df-82b5f76a-3861-40ba-920b-ec1d97d954e9 button.colab-df-convert');\n",
              "      buttonEl.style.display =\n",
              "        google.colab.kernel.accessAllowed ? 'block' : 'none';\n",
              "\n",
              "      async function convertToInteractive(key) {\n",
              "        const element = document.querySelector('#df-82b5f76a-3861-40ba-920b-ec1d97d954e9');\n",
              "        const dataTable =\n",
              "          await google.colab.kernel.invokeFunction('convertToInteractive',\n",
              "                                                    [key], {});\n",
              "        if (!dataTable) return;\n",
              "\n",
              "        const docLinkHtml = 'Like what you see? Visit the ' +\n",
              "          '<a target=\"_blank\" href=https://colab.research.google.com/notebooks/data_table.ipynb>data table notebook</a>'\n",
              "          + ' to learn more about interactive tables.';\n",
              "        element.innerHTML = '';\n",
              "        dataTable['output_type'] = 'display_data';\n",
              "        await google.colab.output.renderOutput(dataTable, element);\n",
              "        const docLink = document.createElement('div');\n",
              "        docLink.innerHTML = docLinkHtml;\n",
              "        element.appendChild(docLink);\n",
              "      }\n",
              "    </script>\n",
              "  </div>\n",
              "\n",
              "\n",
              "    <div id=\"df-3af06ae8-6878-4f52-9c06-9da0dbf6ae68\">\n",
              "      <button class=\"colab-df-quickchart\" onclick=\"quickchart('df-3af06ae8-6878-4f52-9c06-9da0dbf6ae68')\"\n",
              "                title=\"Suggest charts\"\n",
              "                style=\"display:none;\">\n",
              "\n",
              "<svg xmlns=\"http://www.w3.org/2000/svg\" height=\"24px\"viewBox=\"0 0 24 24\"\n",
              "     width=\"24px\">\n",
              "    <g>\n",
              "        <path d=\"M19 3H5c-1.1 0-2 .9-2 2v14c0 1.1.9 2 2 2h14c1.1 0 2-.9 2-2V5c0-1.1-.9-2-2-2zM9 17H7v-7h2v7zm4 0h-2V7h2v10zm4 0h-2v-4h2v4z\"/>\n",
              "    </g>\n",
              "</svg>\n",
              "      </button>\n",
              "\n",
              "<style>\n",
              "  .colab-df-quickchart {\n",
              "      --bg-color: #E8F0FE;\n",
              "      --fill-color: #1967D2;\n",
              "      --hover-bg-color: #E2EBFA;\n",
              "      --hover-fill-color: #174EA6;\n",
              "      --disabled-fill-color: #AAA;\n",
              "      --disabled-bg-color: #DDD;\n",
              "  }\n",
              "\n",
              "  [theme=dark] .colab-df-quickchart {\n",
              "      --bg-color: #3B4455;\n",
              "      --fill-color: #D2E3FC;\n",
              "      --hover-bg-color: #434B5C;\n",
              "      --hover-fill-color: #FFFFFF;\n",
              "      --disabled-bg-color: #3B4455;\n",
              "      --disabled-fill-color: #666;\n",
              "  }\n",
              "\n",
              "  .colab-df-quickchart {\n",
              "    background-color: var(--bg-color);\n",
              "    border: none;\n",
              "    border-radius: 50%;\n",
              "    cursor: pointer;\n",
              "    display: none;\n",
              "    fill: var(--fill-color);\n",
              "    height: 32px;\n",
              "    padding: 0;\n",
              "    width: 32px;\n",
              "  }\n",
              "\n",
              "  .colab-df-quickchart:hover {\n",
              "    background-color: var(--hover-bg-color);\n",
              "    box-shadow: 0 1px 2px rgba(60, 64, 67, 0.3), 0 1px 3px 1px rgba(60, 64, 67, 0.15);\n",
              "    fill: var(--button-hover-fill-color);\n",
              "  }\n",
              "\n",
              "  .colab-df-quickchart-complete:disabled,\n",
              "  .colab-df-quickchart-complete:disabled:hover {\n",
              "    background-color: var(--disabled-bg-color);\n",
              "    fill: var(--disabled-fill-color);\n",
              "    box-shadow: none;\n",
              "  }\n",
              "\n",
              "  .colab-df-spinner {\n",
              "    border: 2px solid var(--fill-color);\n",
              "    border-color: transparent;\n",
              "    border-bottom-color: var(--fill-color);\n",
              "    animation:\n",
              "      spin 1s steps(1) infinite;\n",
              "  }\n",
              "\n",
              "  @keyframes spin {\n",
              "    0% {\n",
              "      border-color: transparent;\n",
              "      border-bottom-color: var(--fill-color);\n",
              "      border-left-color: var(--fill-color);\n",
              "    }\n",
              "    20% {\n",
              "      border-color: transparent;\n",
              "      border-left-color: var(--fill-color);\n",
              "      border-top-color: var(--fill-color);\n",
              "    }\n",
              "    30% {\n",
              "      border-color: transparent;\n",
              "      border-left-color: var(--fill-color);\n",
              "      border-top-color: var(--fill-color);\n",
              "      border-right-color: var(--fill-color);\n",
              "    }\n",
              "    40% {\n",
              "      border-color: transparent;\n",
              "      border-right-color: var(--fill-color);\n",
              "      border-top-color: var(--fill-color);\n",
              "    }\n",
              "    60% {\n",
              "      border-color: transparent;\n",
              "      border-right-color: var(--fill-color);\n",
              "    }\n",
              "    80% {\n",
              "      border-color: transparent;\n",
              "      border-right-color: var(--fill-color);\n",
              "      border-bottom-color: var(--fill-color);\n",
              "    }\n",
              "    90% {\n",
              "      border-color: transparent;\n",
              "      border-bottom-color: var(--fill-color);\n",
              "    }\n",
              "  }\n",
              "</style>\n",
              "\n",
              "      <script>\n",
              "        async function quickchart(key) {\n",
              "          const quickchartButtonEl =\n",
              "            document.querySelector('#' + key + ' button');\n",
              "          quickchartButtonEl.disabled = true;  // To prevent multiple clicks.\n",
              "          quickchartButtonEl.classList.add('colab-df-spinner');\n",
              "          try {\n",
              "            const charts = await google.colab.kernel.invokeFunction(\n",
              "                'suggestCharts', [key], {});\n",
              "          } catch (error) {\n",
              "            console.error('Error during call to suggestCharts:', error);\n",
              "          }\n",
              "          quickchartButtonEl.classList.remove('colab-df-spinner');\n",
              "          quickchartButtonEl.classList.add('colab-df-quickchart-complete');\n",
              "        }\n",
              "        (() => {\n",
              "          let quickchartButtonEl =\n",
              "            document.querySelector('#df-3af06ae8-6878-4f52-9c06-9da0dbf6ae68 button');\n",
              "          quickchartButtonEl.style.display =\n",
              "            google.colab.kernel.accessAllowed ? 'block' : 'none';\n",
              "        })();\n",
              "      </script>\n",
              "    </div>\n",
              "\n",
              "  <div id=\"id_d3450f8a-623d-4940-8332-f71e127b63be\">\n",
              "    <style>\n",
              "      .colab-df-generate {\n",
              "        background-color: #E8F0FE;\n",
              "        border: none;\n",
              "        border-radius: 50%;\n",
              "        cursor: pointer;\n",
              "        display: none;\n",
              "        fill: #1967D2;\n",
              "        height: 32px;\n",
              "        padding: 0 0 0 0;\n",
              "        width: 32px;\n",
              "      }\n",
              "\n",
              "      .colab-df-generate:hover {\n",
              "        background-color: #E2EBFA;\n",
              "        box-shadow: 0px 1px 2px rgba(60, 64, 67, 0.3), 0px 1px 3px 1px rgba(60, 64, 67, 0.15);\n",
              "        fill: #174EA6;\n",
              "      }\n",
              "\n",
              "      [theme=dark] .colab-df-generate {\n",
              "        background-color: #3B4455;\n",
              "        fill: #D2E3FC;\n",
              "      }\n",
              "\n",
              "      [theme=dark] .colab-df-generate:hover {\n",
              "        background-color: #434B5C;\n",
              "        box-shadow: 0px 1px 3px 1px rgba(0, 0, 0, 0.15);\n",
              "        filter: drop-shadow(0px 1px 2px rgba(0, 0, 0, 0.3));\n",
              "        fill: #FFFFFF;\n",
              "      }\n",
              "    </style>\n",
              "    <button class=\"colab-df-generate\" onclick=\"generateWithVariable('data_c')\"\n",
              "            title=\"Generate code using this dataframe.\"\n",
              "            style=\"display:none;\">\n",
              "\n",
              "  <svg xmlns=\"http://www.w3.org/2000/svg\" height=\"24px\"viewBox=\"0 0 24 24\"\n",
              "       width=\"24px\">\n",
              "    <path d=\"M7,19H8.4L18.45,9,17,7.55,7,17.6ZM5,21V16.75L18.45,3.32a2,2,0,0,1,2.83,0l1.4,1.43a1.91,1.91,0,0,1,.58,1.4,1.91,1.91,0,0,1-.58,1.4L9.25,21ZM18.45,9,17,7.55Zm-12,3A5.31,5.31,0,0,0,4.9,8.1,5.31,5.31,0,0,0,1,6.5,5.31,5.31,0,0,0,4.9,4.9,5.31,5.31,0,0,0,6.5,1,5.31,5.31,0,0,0,8.1,4.9,5.31,5.31,0,0,0,12,6.5,5.46,5.46,0,0,0,6.5,12Z\"/>\n",
              "  </svg>\n",
              "    </button>\n",
              "    <script>\n",
              "      (() => {\n",
              "      const buttonEl =\n",
              "        document.querySelector('#id_d3450f8a-623d-4940-8332-f71e127b63be button.colab-df-generate');\n",
              "      buttonEl.style.display =\n",
              "        google.colab.kernel.accessAllowed ? 'block' : 'none';\n",
              "\n",
              "      buttonEl.onclick = () => {\n",
              "        google.colab.notebook.generateWithVariable('data_c');\n",
              "      }\n",
              "      })();\n",
              "    </script>\n",
              "  </div>\n",
              "\n",
              "    </div>\n",
              "  </div>\n"
            ],
            "application/vnd.google.colaboratory.intrinsic+json": {
              "type": "dataframe",
              "variable_name": "data_c",
              "summary": "{\n  \"name\": \"data_c\",\n  \"rows\": 5,\n  \"fields\": [\n    {\n      \"column\": \"Juan\",\n      \"properties\": {\n        \"dtype\": \"string\",\n        \"num_unique_values\": 5,\n        \"samples\": [\n          \"Carlos\",\n          \"Paloma\",\n          \"Antonio\"\n        ],\n        \"semantic_type\": \"\",\n        \"description\": \"\"\n      }\n    },\n    {\n      \"column\": \"Vilchis\",\n      \"properties\": {\n        \"dtype\": \"string\",\n        \"num_unique_values\": 5,\n        \"samples\": [\n          \"Escalera\",\n          \"Guevara\",\n          \"Rodr\\u00edguez\"\n        ],\n        \"semantic_type\": \"\",\n        \"description\": \"\"\n      }\n    },\n    {\n      \"column\": \"Doctorado\",\n      \"properties\": {\n        \"dtype\": \"category\",\n        \"num_unique_values\": 2,\n        \"samples\": [\n          \"Maestr\\u00eda\",\n          \"Doctorado\"\n        ],\n        \"semantic_type\": \"\",\n        \"description\": \"\"\n      }\n    },\n    {\n      \"column\": \"Ciencias de la Computaci\\u00f3n\",\n      \"properties\": {\n        \"dtype\": \"string\",\n        \"num_unique_values\": 5,\n        \"samples\": [\n          \"Ciencia Pol\\u00edtica\",\n          \"Demograf\\u00eda\"\n        ],\n        \"semantic_type\": \"\",\n        \"description\": \"\"\n      }\n    },\n    {\n      \"column\": \"8\",\n      \"properties\": {\n        \"dtype\": \"string\",\n        \"num_unique_values\": 4,\n        \"samples\": [\n          \"7\",\n          \" Centro de Estudios Demogr\\u00e1ficos y Urbanos\"\n        ],\n        \"semantic_type\": \"\",\n        \"description\": \"\"\n      }\n    },\n    {\n      \"column\": \"Centro de Investigaci\\u00f3n en Computaci\\u00f3n\",\n      \"properties\": {\n        \"dtype\": \"string\",\n        \"num_unique_values\": 4,\n        \"samples\": [\n          \"Centro de Estudios Internacionales\",\n          \"Escorpio\"\n        ],\n        \"semantic_type\": \"\",\n        \"description\": \"\"\n      }\n    },\n    {\n      \"column\": \"Geminis\",\n      \"properties\": {\n        \"dtype\": \"string\",\n        \"num_unique_values\": 4,\n        \"samples\": [\n          \"Virgo\",\n          \"Tauro\"\n        ],\n        \"semantic_type\": \"\",\n        \"description\": \"\"\n      }\n    },\n    {\n      \"column\": \"Azul\",\n      \"properties\": {\n        \"dtype\": \"string\",\n        \"num_unique_values\": 5,\n        \"samples\": [\n          \"negro\",\n          \"rojo\"\n        ],\n        \"semantic_type\": \"\",\n        \"description\": \"\"\n      }\n    },\n    {\n      \"column\": \"Cuervo\",\n      \"properties\": {\n        \"dtype\": \"string\",\n        \"num_unique_values\": 5,\n        \"samples\": [\n          \"le\\u00f3n\",\n          \"mapache\"\n        ],\n        \"semantic_type\": \"\",\n        \"description\": \"\"\n      }\n    },\n    {\n      \"column\": \"Futbol\",\n      \"properties\": {\n        \"dtype\": \"string\",\n        \"num_unique_values\": 5,\n        \"samples\": [\n          \"nataci\\u00f3n\",\n          \"arquer\\u00eda\"\n        ],\n        \"semantic_type\": \"\",\n        \"description\": \"\"\n      }\n    },\n    {\n      \"column\": \"Telefono Negro\",\n      \"properties\": {\n        \"dtype\": \"string\",\n        \"num_unique_values\": 5,\n        \"samples\": [\n          \"irreversible\",\n          \"the substance\"\n        ],\n        \"semantic_type\": \"\",\n        \"description\": \"\"\n      }\n    },\n    {\n      \"column\": \"Judas Priest\",\n      \"properties\": {\n        \"dtype\": \"string\",\n        \"num_unique_values\": 4,\n        \"samples\": [\n          \"the doors\",\n          \"the do\"\n        ],\n        \"semantic_type\": \"\",\n        \"description\": \"\"\n      }\n    }\n  ]\n}"
            }
          },
          "metadata": {},
          "execution_count": 93
        }
      ]
    },
    {
      "cell_type": "code",
      "source": [
        "data_b = pd.read_csv('datos_barra.csv', delimiter = '|')\n",
        "data_b"
      ],
      "metadata": {
        "colab": {
          "base_uri": "https://localhost:8080/",
          "height": 397
        },
        "collapsed": true,
        "id": "VixxG2GEfpEG",
        "outputId": "13858eae-a726-4a44-b036-d246c6ce0785"
      },
      "execution_count": null,
      "outputs": [
        {
          "output_type": "execute_result",
          "data": {
            "text/plain": [
              "      Juan    Vilchis  Doctorado Ciencias de la Computación  \\\n",
              "0    Oscar  Torrealba  Doctorado                   Economía   \n",
              "1   Carlos   Escalera  Doctorado           Ciencia Política   \n",
              "2  Antonio  Rodríguez   Maestría                 Demográfia   \n",
              "3   Samara   Saavedra   Maestría                          3   \n",
              "4   Paloma    Guevara   Maestría                 Demografía   \n",
              "\n",
              "                                            8  \\\n",
              "0                                           1   \n",
              "1                                           7   \n",
              "2                                           3   \n",
              "3   Centro de Estudios Demográficos y Urbanos   \n",
              "4                                           3   \n",
              "\n",
              "      Centro de Investigación en Computación Geminis   Azul     Cuervo  \\\n",
              "0              Centro de Estudios Económicos   Aries  Negro     Dragón   \n",
              "1         Centro de Estudios Internacionales   Aries  negro       león   \n",
              "2  Centro de Estudios Demográficos y Urbanos   Virgo   Azul  Serpiente   \n",
              "3                                   Escorpio   Verde   Vaca  Taekwondo   \n",
              "4  Centro de Estudios Demográficos y Urbanos   Tauro   rojo    mapache   \n",
              "\n",
              "          Futbol Telefono Negro          Judas Priest  \n",
              "0      Atletismo   Interestelar           The Beatles  \n",
              "1       natación   irreversible             the doors  \n",
              "2     Basketball       Scarface  Violadores del verso  \n",
              "3  Interestellar     White Lies                   NaN  \n",
              "4       arquería  the substance                the do  "
            ],
            "text/html": [
              "\n",
              "  <div id=\"df-98aff44f-3a39-4862-ba33-eb2d4d9c4924\" class=\"colab-df-container\">\n",
              "    <div>\n",
              "<style scoped>\n",
              "    .dataframe tbody tr th:only-of-type {\n",
              "        vertical-align: middle;\n",
              "    }\n",
              "\n",
              "    .dataframe tbody tr th {\n",
              "        vertical-align: top;\n",
              "    }\n",
              "\n",
              "    .dataframe thead th {\n",
              "        text-align: right;\n",
              "    }\n",
              "</style>\n",
              "<table border=\"1\" class=\"dataframe\">\n",
              "  <thead>\n",
              "    <tr style=\"text-align: right;\">\n",
              "      <th></th>\n",
              "      <th>Juan</th>\n",
              "      <th>Vilchis</th>\n",
              "      <th>Doctorado</th>\n",
              "      <th>Ciencias de la Computación</th>\n",
              "      <th>8</th>\n",
              "      <th>Centro de Investigación en Computación</th>\n",
              "      <th>Geminis</th>\n",
              "      <th>Azul</th>\n",
              "      <th>Cuervo</th>\n",
              "      <th>Futbol</th>\n",
              "      <th>Telefono Negro</th>\n",
              "      <th>Judas Priest</th>\n",
              "    </tr>\n",
              "  </thead>\n",
              "  <tbody>\n",
              "    <tr>\n",
              "      <th>0</th>\n",
              "      <td>Oscar</td>\n",
              "      <td>Torrealba</td>\n",
              "      <td>Doctorado</td>\n",
              "      <td>Economía</td>\n",
              "      <td>1</td>\n",
              "      <td>Centro de Estudios Económicos</td>\n",
              "      <td>Aries</td>\n",
              "      <td>Negro</td>\n",
              "      <td>Dragón</td>\n",
              "      <td>Atletismo</td>\n",
              "      <td>Interestelar</td>\n",
              "      <td>The Beatles</td>\n",
              "    </tr>\n",
              "    <tr>\n",
              "      <th>1</th>\n",
              "      <td>Carlos</td>\n",
              "      <td>Escalera</td>\n",
              "      <td>Doctorado</td>\n",
              "      <td>Ciencia Política</td>\n",
              "      <td>7</td>\n",
              "      <td>Centro de Estudios Internacionales</td>\n",
              "      <td>Aries</td>\n",
              "      <td>negro</td>\n",
              "      <td>león</td>\n",
              "      <td>natación</td>\n",
              "      <td>irreversible</td>\n",
              "      <td>the doors</td>\n",
              "    </tr>\n",
              "    <tr>\n",
              "      <th>2</th>\n",
              "      <td>Antonio</td>\n",
              "      <td>Rodríguez</td>\n",
              "      <td>Maestría</td>\n",
              "      <td>Demográfia</td>\n",
              "      <td>3</td>\n",
              "      <td>Centro de Estudios Demográficos y Urbanos</td>\n",
              "      <td>Virgo</td>\n",
              "      <td>Azul</td>\n",
              "      <td>Serpiente</td>\n",
              "      <td>Basketball</td>\n",
              "      <td>Scarface</td>\n",
              "      <td>Violadores del verso</td>\n",
              "    </tr>\n",
              "    <tr>\n",
              "      <th>3</th>\n",
              "      <td>Samara</td>\n",
              "      <td>Saavedra</td>\n",
              "      <td>Maestría</td>\n",
              "      <td>3</td>\n",
              "      <td>Centro de Estudios Demográficos y Urbanos</td>\n",
              "      <td>Escorpio</td>\n",
              "      <td>Verde</td>\n",
              "      <td>Vaca</td>\n",
              "      <td>Taekwondo</td>\n",
              "      <td>Interestellar</td>\n",
              "      <td>White Lies</td>\n",
              "      <td>NaN</td>\n",
              "    </tr>\n",
              "    <tr>\n",
              "      <th>4</th>\n",
              "      <td>Paloma</td>\n",
              "      <td>Guevara</td>\n",
              "      <td>Maestría</td>\n",
              "      <td>Demografía</td>\n",
              "      <td>3</td>\n",
              "      <td>Centro de Estudios Demográficos y Urbanos</td>\n",
              "      <td>Tauro</td>\n",
              "      <td>rojo</td>\n",
              "      <td>mapache</td>\n",
              "      <td>arquería</td>\n",
              "      <td>the substance</td>\n",
              "      <td>the do</td>\n",
              "    </tr>\n",
              "  </tbody>\n",
              "</table>\n",
              "</div>\n",
              "    <div class=\"colab-df-buttons\">\n",
              "\n",
              "  <div class=\"colab-df-container\">\n",
              "    <button class=\"colab-df-convert\" onclick=\"convertToInteractive('df-98aff44f-3a39-4862-ba33-eb2d4d9c4924')\"\n",
              "            title=\"Convert this dataframe to an interactive table.\"\n",
              "            style=\"display:none;\">\n",
              "\n",
              "  <svg xmlns=\"http://www.w3.org/2000/svg\" height=\"24px\" viewBox=\"0 -960 960 960\">\n",
              "    <path d=\"M120-120v-720h720v720H120Zm60-500h600v-160H180v160Zm220 220h160v-160H400v160Zm0 220h160v-160H400v160ZM180-400h160v-160H180v160Zm440 0h160v-160H620v160ZM180-180h160v-160H180v160Zm440 0h160v-160H620v160Z\"/>\n",
              "  </svg>\n",
              "    </button>\n",
              "\n",
              "  <style>\n",
              "    .colab-df-container {\n",
              "      display:flex;\n",
              "      gap: 12px;\n",
              "    }\n",
              "\n",
              "    .colab-df-convert {\n",
              "      background-color: #E8F0FE;\n",
              "      border: none;\n",
              "      border-radius: 50%;\n",
              "      cursor: pointer;\n",
              "      display: none;\n",
              "      fill: #1967D2;\n",
              "      height: 32px;\n",
              "      padding: 0 0 0 0;\n",
              "      width: 32px;\n",
              "    }\n",
              "\n",
              "    .colab-df-convert:hover {\n",
              "      background-color: #E2EBFA;\n",
              "      box-shadow: 0px 1px 2px rgba(60, 64, 67, 0.3), 0px 1px 3px 1px rgba(60, 64, 67, 0.15);\n",
              "      fill: #174EA6;\n",
              "    }\n",
              "\n",
              "    .colab-df-buttons div {\n",
              "      margin-bottom: 4px;\n",
              "    }\n",
              "\n",
              "    [theme=dark] .colab-df-convert {\n",
              "      background-color: #3B4455;\n",
              "      fill: #D2E3FC;\n",
              "    }\n",
              "\n",
              "    [theme=dark] .colab-df-convert:hover {\n",
              "      background-color: #434B5C;\n",
              "      box-shadow: 0px 1px 3px 1px rgba(0, 0, 0, 0.15);\n",
              "      filter: drop-shadow(0px 1px 2px rgba(0, 0, 0, 0.3));\n",
              "      fill: #FFFFFF;\n",
              "    }\n",
              "  </style>\n",
              "\n",
              "    <script>\n",
              "      const buttonEl =\n",
              "        document.querySelector('#df-98aff44f-3a39-4862-ba33-eb2d4d9c4924 button.colab-df-convert');\n",
              "      buttonEl.style.display =\n",
              "        google.colab.kernel.accessAllowed ? 'block' : 'none';\n",
              "\n",
              "      async function convertToInteractive(key) {\n",
              "        const element = document.querySelector('#df-98aff44f-3a39-4862-ba33-eb2d4d9c4924');\n",
              "        const dataTable =\n",
              "          await google.colab.kernel.invokeFunction('convertToInteractive',\n",
              "                                                    [key], {});\n",
              "        if (!dataTable) return;\n",
              "\n",
              "        const docLinkHtml = 'Like what you see? Visit the ' +\n",
              "          '<a target=\"_blank\" href=https://colab.research.google.com/notebooks/data_table.ipynb>data table notebook</a>'\n",
              "          + ' to learn more about interactive tables.';\n",
              "        element.innerHTML = '';\n",
              "        dataTable['output_type'] = 'display_data';\n",
              "        await google.colab.output.renderOutput(dataTable, element);\n",
              "        const docLink = document.createElement('div');\n",
              "        docLink.innerHTML = docLinkHtml;\n",
              "        element.appendChild(docLink);\n",
              "      }\n",
              "    </script>\n",
              "  </div>\n",
              "\n",
              "\n",
              "    <div id=\"df-e8cfc5a3-ae83-4347-8f12-c828b2a61a35\">\n",
              "      <button class=\"colab-df-quickchart\" onclick=\"quickchart('df-e8cfc5a3-ae83-4347-8f12-c828b2a61a35')\"\n",
              "                title=\"Suggest charts\"\n",
              "                style=\"display:none;\">\n",
              "\n",
              "<svg xmlns=\"http://www.w3.org/2000/svg\" height=\"24px\"viewBox=\"0 0 24 24\"\n",
              "     width=\"24px\">\n",
              "    <g>\n",
              "        <path d=\"M19 3H5c-1.1 0-2 .9-2 2v14c0 1.1.9 2 2 2h14c1.1 0 2-.9 2-2V5c0-1.1-.9-2-2-2zM9 17H7v-7h2v7zm4 0h-2V7h2v10zm4 0h-2v-4h2v4z\"/>\n",
              "    </g>\n",
              "</svg>\n",
              "      </button>\n",
              "\n",
              "<style>\n",
              "  .colab-df-quickchart {\n",
              "      --bg-color: #E8F0FE;\n",
              "      --fill-color: #1967D2;\n",
              "      --hover-bg-color: #E2EBFA;\n",
              "      --hover-fill-color: #174EA6;\n",
              "      --disabled-fill-color: #AAA;\n",
              "      --disabled-bg-color: #DDD;\n",
              "  }\n",
              "\n",
              "  [theme=dark] .colab-df-quickchart {\n",
              "      --bg-color: #3B4455;\n",
              "      --fill-color: #D2E3FC;\n",
              "      --hover-bg-color: #434B5C;\n",
              "      --hover-fill-color: #FFFFFF;\n",
              "      --disabled-bg-color: #3B4455;\n",
              "      --disabled-fill-color: #666;\n",
              "  }\n",
              "\n",
              "  .colab-df-quickchart {\n",
              "    background-color: var(--bg-color);\n",
              "    border: none;\n",
              "    border-radius: 50%;\n",
              "    cursor: pointer;\n",
              "    display: none;\n",
              "    fill: var(--fill-color);\n",
              "    height: 32px;\n",
              "    padding: 0;\n",
              "    width: 32px;\n",
              "  }\n",
              "\n",
              "  .colab-df-quickchart:hover {\n",
              "    background-color: var(--hover-bg-color);\n",
              "    box-shadow: 0 1px 2px rgba(60, 64, 67, 0.3), 0 1px 3px 1px rgba(60, 64, 67, 0.15);\n",
              "    fill: var(--button-hover-fill-color);\n",
              "  }\n",
              "\n",
              "  .colab-df-quickchart-complete:disabled,\n",
              "  .colab-df-quickchart-complete:disabled:hover {\n",
              "    background-color: var(--disabled-bg-color);\n",
              "    fill: var(--disabled-fill-color);\n",
              "    box-shadow: none;\n",
              "  }\n",
              "\n",
              "  .colab-df-spinner {\n",
              "    border: 2px solid var(--fill-color);\n",
              "    border-color: transparent;\n",
              "    border-bottom-color: var(--fill-color);\n",
              "    animation:\n",
              "      spin 1s steps(1) infinite;\n",
              "  }\n",
              "\n",
              "  @keyframes spin {\n",
              "    0% {\n",
              "      border-color: transparent;\n",
              "      border-bottom-color: var(--fill-color);\n",
              "      border-left-color: var(--fill-color);\n",
              "    }\n",
              "    20% {\n",
              "      border-color: transparent;\n",
              "      border-left-color: var(--fill-color);\n",
              "      border-top-color: var(--fill-color);\n",
              "    }\n",
              "    30% {\n",
              "      border-color: transparent;\n",
              "      border-left-color: var(--fill-color);\n",
              "      border-top-color: var(--fill-color);\n",
              "      border-right-color: var(--fill-color);\n",
              "    }\n",
              "    40% {\n",
              "      border-color: transparent;\n",
              "      border-right-color: var(--fill-color);\n",
              "      border-top-color: var(--fill-color);\n",
              "    }\n",
              "    60% {\n",
              "      border-color: transparent;\n",
              "      border-right-color: var(--fill-color);\n",
              "    }\n",
              "    80% {\n",
              "      border-color: transparent;\n",
              "      border-right-color: var(--fill-color);\n",
              "      border-bottom-color: var(--fill-color);\n",
              "    }\n",
              "    90% {\n",
              "      border-color: transparent;\n",
              "      border-bottom-color: var(--fill-color);\n",
              "    }\n",
              "  }\n",
              "</style>\n",
              "\n",
              "      <script>\n",
              "        async function quickchart(key) {\n",
              "          const quickchartButtonEl =\n",
              "            document.querySelector('#' + key + ' button');\n",
              "          quickchartButtonEl.disabled = true;  // To prevent multiple clicks.\n",
              "          quickchartButtonEl.classList.add('colab-df-spinner');\n",
              "          try {\n",
              "            const charts = await google.colab.kernel.invokeFunction(\n",
              "                'suggestCharts', [key], {});\n",
              "          } catch (error) {\n",
              "            console.error('Error during call to suggestCharts:', error);\n",
              "          }\n",
              "          quickchartButtonEl.classList.remove('colab-df-spinner');\n",
              "          quickchartButtonEl.classList.add('colab-df-quickchart-complete');\n",
              "        }\n",
              "        (() => {\n",
              "          let quickchartButtonEl =\n",
              "            document.querySelector('#df-e8cfc5a3-ae83-4347-8f12-c828b2a61a35 button');\n",
              "          quickchartButtonEl.style.display =\n",
              "            google.colab.kernel.accessAllowed ? 'block' : 'none';\n",
              "        })();\n",
              "      </script>\n",
              "    </div>\n",
              "\n",
              "  <div id=\"id_6c742c42-f69b-4dee-baea-ae69c394de45\">\n",
              "    <style>\n",
              "      .colab-df-generate {\n",
              "        background-color: #E8F0FE;\n",
              "        border: none;\n",
              "        border-radius: 50%;\n",
              "        cursor: pointer;\n",
              "        display: none;\n",
              "        fill: #1967D2;\n",
              "        height: 32px;\n",
              "        padding: 0 0 0 0;\n",
              "        width: 32px;\n",
              "      }\n",
              "\n",
              "      .colab-df-generate:hover {\n",
              "        background-color: #E2EBFA;\n",
              "        box-shadow: 0px 1px 2px rgba(60, 64, 67, 0.3), 0px 1px 3px 1px rgba(60, 64, 67, 0.15);\n",
              "        fill: #174EA6;\n",
              "      }\n",
              "\n",
              "      [theme=dark] .colab-df-generate {\n",
              "        background-color: #3B4455;\n",
              "        fill: #D2E3FC;\n",
              "      }\n",
              "\n",
              "      [theme=dark] .colab-df-generate:hover {\n",
              "        background-color: #434B5C;\n",
              "        box-shadow: 0px 1px 3px 1px rgba(0, 0, 0, 0.15);\n",
              "        filter: drop-shadow(0px 1px 2px rgba(0, 0, 0, 0.3));\n",
              "        fill: #FFFFFF;\n",
              "      }\n",
              "    </style>\n",
              "    <button class=\"colab-df-generate\" onclick=\"generateWithVariable('data_b')\"\n",
              "            title=\"Generate code using this dataframe.\"\n",
              "            style=\"display:none;\">\n",
              "\n",
              "  <svg xmlns=\"http://www.w3.org/2000/svg\" height=\"24px\"viewBox=\"0 0 24 24\"\n",
              "       width=\"24px\">\n",
              "    <path d=\"M7,19H8.4L18.45,9,17,7.55,7,17.6ZM5,21V16.75L18.45,3.32a2,2,0,0,1,2.83,0l1.4,1.43a1.91,1.91,0,0,1,.58,1.4,1.91,1.91,0,0,1-.58,1.4L9.25,21ZM18.45,9,17,7.55Zm-12,3A5.31,5.31,0,0,0,4.9,8.1,5.31,5.31,0,0,0,1,6.5,5.31,5.31,0,0,0,4.9,4.9,5.31,5.31,0,0,0,6.5,1,5.31,5.31,0,0,0,8.1,4.9,5.31,5.31,0,0,0,12,6.5,5.46,5.46,0,0,0,6.5,12Z\"/>\n",
              "  </svg>\n",
              "    </button>\n",
              "    <script>\n",
              "      (() => {\n",
              "      const buttonEl =\n",
              "        document.querySelector('#id_6c742c42-f69b-4dee-baea-ae69c394de45 button.colab-df-generate');\n",
              "      buttonEl.style.display =\n",
              "        google.colab.kernel.accessAllowed ? 'block' : 'none';\n",
              "\n",
              "      buttonEl.onclick = () => {\n",
              "        google.colab.notebook.generateWithVariable('data_b');\n",
              "      }\n",
              "      })();\n",
              "    </script>\n",
              "  </div>\n",
              "\n",
              "    </div>\n",
              "  </div>\n"
            ],
            "application/vnd.google.colaboratory.intrinsic+json": {
              "type": "dataframe",
              "variable_name": "data_b",
              "summary": "{\n  \"name\": \"data_b\",\n  \"rows\": 5,\n  \"fields\": [\n    {\n      \"column\": \"Juan\",\n      \"properties\": {\n        \"dtype\": \"string\",\n        \"num_unique_values\": 5,\n        \"samples\": [\n          \"Carlos\",\n          \"Paloma\",\n          \"Antonio\"\n        ],\n        \"semantic_type\": \"\",\n        \"description\": \"\"\n      }\n    },\n    {\n      \"column\": \"Vilchis\",\n      \"properties\": {\n        \"dtype\": \"string\",\n        \"num_unique_values\": 5,\n        \"samples\": [\n          \"Escalera\",\n          \"Guevara\",\n          \"Rodr\\u00edguez\"\n        ],\n        \"semantic_type\": \"\",\n        \"description\": \"\"\n      }\n    },\n    {\n      \"column\": \"Doctorado\",\n      \"properties\": {\n        \"dtype\": \"category\",\n        \"num_unique_values\": 2,\n        \"samples\": [\n          \"Maestr\\u00eda\",\n          \"Doctorado\"\n        ],\n        \"semantic_type\": \"\",\n        \"description\": \"\"\n      }\n    },\n    {\n      \"column\": \"Ciencias de la Computaci\\u00f3n\",\n      \"properties\": {\n        \"dtype\": \"string\",\n        \"num_unique_values\": 5,\n        \"samples\": [\n          \"Ciencia Pol\\u00edtica\",\n          \"Demograf\\u00eda\"\n        ],\n        \"semantic_type\": \"\",\n        \"description\": \"\"\n      }\n    },\n    {\n      \"column\": \"8\",\n      \"properties\": {\n        \"dtype\": \"string\",\n        \"num_unique_values\": 4,\n        \"samples\": [\n          \"7\",\n          \" Centro de Estudios Demogr\\u00e1ficos y Urbanos\"\n        ],\n        \"semantic_type\": \"\",\n        \"description\": \"\"\n      }\n    },\n    {\n      \"column\": \"Centro de Investigaci\\u00f3n en Computaci\\u00f3n\",\n      \"properties\": {\n        \"dtype\": \"string\",\n        \"num_unique_values\": 4,\n        \"samples\": [\n          \"Centro de Estudios Internacionales\",\n          \"Escorpio\"\n        ],\n        \"semantic_type\": \"\",\n        \"description\": \"\"\n      }\n    },\n    {\n      \"column\": \"Geminis\",\n      \"properties\": {\n        \"dtype\": \"string\",\n        \"num_unique_values\": 4,\n        \"samples\": [\n          \"Virgo\",\n          \"Tauro\"\n        ],\n        \"semantic_type\": \"\",\n        \"description\": \"\"\n      }\n    },\n    {\n      \"column\": \"Azul\",\n      \"properties\": {\n        \"dtype\": \"string\",\n        \"num_unique_values\": 5,\n        \"samples\": [\n          \"negro\",\n          \"rojo\"\n        ],\n        \"semantic_type\": \"\",\n        \"description\": \"\"\n      }\n    },\n    {\n      \"column\": \"Cuervo\",\n      \"properties\": {\n        \"dtype\": \"string\",\n        \"num_unique_values\": 5,\n        \"samples\": [\n          \"le\\u00f3n\",\n          \"mapache\"\n        ],\n        \"semantic_type\": \"\",\n        \"description\": \"\"\n      }\n    },\n    {\n      \"column\": \"Futbol\",\n      \"properties\": {\n        \"dtype\": \"string\",\n        \"num_unique_values\": 5,\n        \"samples\": [\n          \"nataci\\u00f3n\",\n          \"arquer\\u00eda\"\n        ],\n        \"semantic_type\": \"\",\n        \"description\": \"\"\n      }\n    },\n    {\n      \"column\": \"Telefono Negro\",\n      \"properties\": {\n        \"dtype\": \"string\",\n        \"num_unique_values\": 5,\n        \"samples\": [\n          \"irreversible\",\n          \"the substance\"\n        ],\n        \"semantic_type\": \"\",\n        \"description\": \"\"\n      }\n    },\n    {\n      \"column\": \"Judas Priest\",\n      \"properties\": {\n        \"dtype\": \"string\",\n        \"num_unique_values\": 4,\n        \"samples\": [\n          \"the doors\",\n          \"the do\"\n        ],\n        \"semantic_type\": \"\",\n        \"description\": \"\"\n      }\n    }\n  ]\n}"
            }
          },
          "metadata": {},
          "execution_count": 94
        }
      ]
    },
    {
      "cell_type": "code",
      "source": [
        "data_pyc = pd.read_csv('datos_punto_y_como.csv', delimiter = ';')\n",
        "data_pyc"
      ],
      "metadata": {
        "colab": {
          "base_uri": "https://localhost:8080/",
          "height": 504
        },
        "id": "g8iqyL1EgDPC",
        "outputId": "790a7b4d-615e-44a7-de2a-75bd07a23355"
      },
      "execution_count": null,
      "outputs": [
        {
          "output_type": "execute_result",
          "data": {
            "text/plain": [
              "      Juan    Vilchis  Doctorado Ciencias de la Computación  \\\n",
              "0    Oscar  Torrealba  Doctorado                   Economía   \n",
              "1   Carlos   Escalera  Doctorado           Ciencia Política   \n",
              "2  Antonio  Rodríguez   Maestría                 Demográfia   \n",
              "3   Samara   Saavedra   Maestría                          3   \n",
              "4   Paloma    Guevara   Maestría                 Demografía   \n",
              "\n",
              "                                            8  \\\n",
              "0                                           1   \n",
              "1                                           7   \n",
              "2                                           3   \n",
              "3   Centro de Estudios Demográficos y Urbanos   \n",
              "4                                           3   \n",
              "\n",
              "      Centro de Investigación en Computación Geminis   Azul     Cuervo  \\\n",
              "0              Centro de Estudios Económicos   Aries  Negro     Dragón   \n",
              "1         Centro de Estudios Internacionales   Aries  negro       león   \n",
              "2  Centro de Estudios Demográficos y Urbanos   Virgo   Azul  Serpiente   \n",
              "3                                   Escorpio   Verde   Vaca  Taekwondo   \n",
              "4  Centro de Estudios Demográficos y Urbanos   Tauro   rojo    mapache   \n",
              "\n",
              "          Futbol Telefono Negro          Judas Priest  \n",
              "0      Atletismo   Interestelar           The Beatles  \n",
              "1       natación   irreversible             the doors  \n",
              "2     Basketball       Scarface  Violadores del verso  \n",
              "3  Interestellar     White Lies                   NaN  \n",
              "4       arquería  the substance                the do  "
            ],
            "text/html": [
              "\n",
              "  <div id=\"df-f4d5a88c-fb05-4a67-98ae-97efaf4839ff\" class=\"colab-df-container\">\n",
              "    <div>\n",
              "<style scoped>\n",
              "    .dataframe tbody tr th:only-of-type {\n",
              "        vertical-align: middle;\n",
              "    }\n",
              "\n",
              "    .dataframe tbody tr th {\n",
              "        vertical-align: top;\n",
              "    }\n",
              "\n",
              "    .dataframe thead th {\n",
              "        text-align: right;\n",
              "    }\n",
              "</style>\n",
              "<table border=\"1\" class=\"dataframe\">\n",
              "  <thead>\n",
              "    <tr style=\"text-align: right;\">\n",
              "      <th></th>\n",
              "      <th>Juan</th>\n",
              "      <th>Vilchis</th>\n",
              "      <th>Doctorado</th>\n",
              "      <th>Ciencias de la Computación</th>\n",
              "      <th>8</th>\n",
              "      <th>Centro de Investigación en Computación</th>\n",
              "      <th>Geminis</th>\n",
              "      <th>Azul</th>\n",
              "      <th>Cuervo</th>\n",
              "      <th>Futbol</th>\n",
              "      <th>Telefono Negro</th>\n",
              "      <th>Judas Priest</th>\n",
              "    </tr>\n",
              "  </thead>\n",
              "  <tbody>\n",
              "    <tr>\n",
              "      <th>0</th>\n",
              "      <td>Oscar</td>\n",
              "      <td>Torrealba</td>\n",
              "      <td>Doctorado</td>\n",
              "      <td>Economía</td>\n",
              "      <td>1</td>\n",
              "      <td>Centro de Estudios Económicos</td>\n",
              "      <td>Aries</td>\n",
              "      <td>Negro</td>\n",
              "      <td>Dragón</td>\n",
              "      <td>Atletismo</td>\n",
              "      <td>Interestelar</td>\n",
              "      <td>The Beatles</td>\n",
              "    </tr>\n",
              "    <tr>\n",
              "      <th>1</th>\n",
              "      <td>Carlos</td>\n",
              "      <td>Escalera</td>\n",
              "      <td>Doctorado</td>\n",
              "      <td>Ciencia Política</td>\n",
              "      <td>7</td>\n",
              "      <td>Centro de Estudios Internacionales</td>\n",
              "      <td>Aries</td>\n",
              "      <td>negro</td>\n",
              "      <td>león</td>\n",
              "      <td>natación</td>\n",
              "      <td>irreversible</td>\n",
              "      <td>the doors</td>\n",
              "    </tr>\n",
              "    <tr>\n",
              "      <th>2</th>\n",
              "      <td>Antonio</td>\n",
              "      <td>Rodríguez</td>\n",
              "      <td>Maestría</td>\n",
              "      <td>Demográfia</td>\n",
              "      <td>3</td>\n",
              "      <td>Centro de Estudios Demográficos y Urbanos</td>\n",
              "      <td>Virgo</td>\n",
              "      <td>Azul</td>\n",
              "      <td>Serpiente</td>\n",
              "      <td>Basketball</td>\n",
              "      <td>Scarface</td>\n",
              "      <td>Violadores del verso</td>\n",
              "    </tr>\n",
              "    <tr>\n",
              "      <th>3</th>\n",
              "      <td>Samara</td>\n",
              "      <td>Saavedra</td>\n",
              "      <td>Maestría</td>\n",
              "      <td>3</td>\n",
              "      <td>Centro de Estudios Demográficos y Urbanos</td>\n",
              "      <td>Escorpio</td>\n",
              "      <td>Verde</td>\n",
              "      <td>Vaca</td>\n",
              "      <td>Taekwondo</td>\n",
              "      <td>Interestellar</td>\n",
              "      <td>White Lies</td>\n",
              "      <td>NaN</td>\n",
              "    </tr>\n",
              "    <tr>\n",
              "      <th>4</th>\n",
              "      <td>Paloma</td>\n",
              "      <td>Guevara</td>\n",
              "      <td>Maestría</td>\n",
              "      <td>Demografía</td>\n",
              "      <td>3</td>\n",
              "      <td>Centro de Estudios Demográficos y Urbanos</td>\n",
              "      <td>Tauro</td>\n",
              "      <td>rojo</td>\n",
              "      <td>mapache</td>\n",
              "      <td>arquería</td>\n",
              "      <td>the substance</td>\n",
              "      <td>the do</td>\n",
              "    </tr>\n",
              "  </tbody>\n",
              "</table>\n",
              "</div>\n",
              "    <div class=\"colab-df-buttons\">\n",
              "\n",
              "  <div class=\"colab-df-container\">\n",
              "    <button class=\"colab-df-convert\" onclick=\"convertToInteractive('df-f4d5a88c-fb05-4a67-98ae-97efaf4839ff')\"\n",
              "            title=\"Convert this dataframe to an interactive table.\"\n",
              "            style=\"display:none;\">\n",
              "\n",
              "  <svg xmlns=\"http://www.w3.org/2000/svg\" height=\"24px\" viewBox=\"0 -960 960 960\">\n",
              "    <path d=\"M120-120v-720h720v720H120Zm60-500h600v-160H180v160Zm220 220h160v-160H400v160Zm0 220h160v-160H400v160ZM180-400h160v-160H180v160Zm440 0h160v-160H620v160ZM180-180h160v-160H180v160Zm440 0h160v-160H620v160Z\"/>\n",
              "  </svg>\n",
              "    </button>\n",
              "\n",
              "  <style>\n",
              "    .colab-df-container {\n",
              "      display:flex;\n",
              "      gap: 12px;\n",
              "    }\n",
              "\n",
              "    .colab-df-convert {\n",
              "      background-color: #E8F0FE;\n",
              "      border: none;\n",
              "      border-radius: 50%;\n",
              "      cursor: pointer;\n",
              "      display: none;\n",
              "      fill: #1967D2;\n",
              "      height: 32px;\n",
              "      padding: 0 0 0 0;\n",
              "      width: 32px;\n",
              "    }\n",
              "\n",
              "    .colab-df-convert:hover {\n",
              "      background-color: #E2EBFA;\n",
              "      box-shadow: 0px 1px 2px rgba(60, 64, 67, 0.3), 0px 1px 3px 1px rgba(60, 64, 67, 0.15);\n",
              "      fill: #174EA6;\n",
              "    }\n",
              "\n",
              "    .colab-df-buttons div {\n",
              "      margin-bottom: 4px;\n",
              "    }\n",
              "\n",
              "    [theme=dark] .colab-df-convert {\n",
              "      background-color: #3B4455;\n",
              "      fill: #D2E3FC;\n",
              "    }\n",
              "\n",
              "    [theme=dark] .colab-df-convert:hover {\n",
              "      background-color: #434B5C;\n",
              "      box-shadow: 0px 1px 3px 1px rgba(0, 0, 0, 0.15);\n",
              "      filter: drop-shadow(0px 1px 2px rgba(0, 0, 0, 0.3));\n",
              "      fill: #FFFFFF;\n",
              "    }\n",
              "  </style>\n",
              "\n",
              "    <script>\n",
              "      const buttonEl =\n",
              "        document.querySelector('#df-f4d5a88c-fb05-4a67-98ae-97efaf4839ff button.colab-df-convert');\n",
              "      buttonEl.style.display =\n",
              "        google.colab.kernel.accessAllowed ? 'block' : 'none';\n",
              "\n",
              "      async function convertToInteractive(key) {\n",
              "        const element = document.querySelector('#df-f4d5a88c-fb05-4a67-98ae-97efaf4839ff');\n",
              "        const dataTable =\n",
              "          await google.colab.kernel.invokeFunction('convertToInteractive',\n",
              "                                                    [key], {});\n",
              "        if (!dataTable) return;\n",
              "\n",
              "        const docLinkHtml = 'Like what you see? Visit the ' +\n",
              "          '<a target=\"_blank\" href=https://colab.research.google.com/notebooks/data_table.ipynb>data table notebook</a>'\n",
              "          + ' to learn more about interactive tables.';\n",
              "        element.innerHTML = '';\n",
              "        dataTable['output_type'] = 'display_data';\n",
              "        await google.colab.output.renderOutput(dataTable, element);\n",
              "        const docLink = document.createElement('div');\n",
              "        docLink.innerHTML = docLinkHtml;\n",
              "        element.appendChild(docLink);\n",
              "      }\n",
              "    </script>\n",
              "  </div>\n",
              "\n",
              "\n",
              "    <div id=\"df-b3cbd802-1bb5-49cd-a5a4-278afee24cd6\">\n",
              "      <button class=\"colab-df-quickchart\" onclick=\"quickchart('df-b3cbd802-1bb5-49cd-a5a4-278afee24cd6')\"\n",
              "                title=\"Suggest charts\"\n",
              "                style=\"display:none;\">\n",
              "\n",
              "<svg xmlns=\"http://www.w3.org/2000/svg\" height=\"24px\"viewBox=\"0 0 24 24\"\n",
              "     width=\"24px\">\n",
              "    <g>\n",
              "        <path d=\"M19 3H5c-1.1 0-2 .9-2 2v14c0 1.1.9 2 2 2h14c1.1 0 2-.9 2-2V5c0-1.1-.9-2-2-2zM9 17H7v-7h2v7zm4 0h-2V7h2v10zm4 0h-2v-4h2v4z\"/>\n",
              "    </g>\n",
              "</svg>\n",
              "      </button>\n",
              "\n",
              "<style>\n",
              "  .colab-df-quickchart {\n",
              "      --bg-color: #E8F0FE;\n",
              "      --fill-color: #1967D2;\n",
              "      --hover-bg-color: #E2EBFA;\n",
              "      --hover-fill-color: #174EA6;\n",
              "      --disabled-fill-color: #AAA;\n",
              "      --disabled-bg-color: #DDD;\n",
              "  }\n",
              "\n",
              "  [theme=dark] .colab-df-quickchart {\n",
              "      --bg-color: #3B4455;\n",
              "      --fill-color: #D2E3FC;\n",
              "      --hover-bg-color: #434B5C;\n",
              "      --hover-fill-color: #FFFFFF;\n",
              "      --disabled-bg-color: #3B4455;\n",
              "      --disabled-fill-color: #666;\n",
              "  }\n",
              "\n",
              "  .colab-df-quickchart {\n",
              "    background-color: var(--bg-color);\n",
              "    border: none;\n",
              "    border-radius: 50%;\n",
              "    cursor: pointer;\n",
              "    display: none;\n",
              "    fill: var(--fill-color);\n",
              "    height: 32px;\n",
              "    padding: 0;\n",
              "    width: 32px;\n",
              "  }\n",
              "\n",
              "  .colab-df-quickchart:hover {\n",
              "    background-color: var(--hover-bg-color);\n",
              "    box-shadow: 0 1px 2px rgba(60, 64, 67, 0.3), 0 1px 3px 1px rgba(60, 64, 67, 0.15);\n",
              "    fill: var(--button-hover-fill-color);\n",
              "  }\n",
              "\n",
              "  .colab-df-quickchart-complete:disabled,\n",
              "  .colab-df-quickchart-complete:disabled:hover {\n",
              "    background-color: var(--disabled-bg-color);\n",
              "    fill: var(--disabled-fill-color);\n",
              "    box-shadow: none;\n",
              "  }\n",
              "\n",
              "  .colab-df-spinner {\n",
              "    border: 2px solid var(--fill-color);\n",
              "    border-color: transparent;\n",
              "    border-bottom-color: var(--fill-color);\n",
              "    animation:\n",
              "      spin 1s steps(1) infinite;\n",
              "  }\n",
              "\n",
              "  @keyframes spin {\n",
              "    0% {\n",
              "      border-color: transparent;\n",
              "      border-bottom-color: var(--fill-color);\n",
              "      border-left-color: var(--fill-color);\n",
              "    }\n",
              "    20% {\n",
              "      border-color: transparent;\n",
              "      border-left-color: var(--fill-color);\n",
              "      border-top-color: var(--fill-color);\n",
              "    }\n",
              "    30% {\n",
              "      border-color: transparent;\n",
              "      border-left-color: var(--fill-color);\n",
              "      border-top-color: var(--fill-color);\n",
              "      border-right-color: var(--fill-color);\n",
              "    }\n",
              "    40% {\n",
              "      border-color: transparent;\n",
              "      border-right-color: var(--fill-color);\n",
              "      border-top-color: var(--fill-color);\n",
              "    }\n",
              "    60% {\n",
              "      border-color: transparent;\n",
              "      border-right-color: var(--fill-color);\n",
              "    }\n",
              "    80% {\n",
              "      border-color: transparent;\n",
              "      border-right-color: var(--fill-color);\n",
              "      border-bottom-color: var(--fill-color);\n",
              "    }\n",
              "    90% {\n",
              "      border-color: transparent;\n",
              "      border-bottom-color: var(--fill-color);\n",
              "    }\n",
              "  }\n",
              "</style>\n",
              "\n",
              "      <script>\n",
              "        async function quickchart(key) {\n",
              "          const quickchartButtonEl =\n",
              "            document.querySelector('#' + key + ' button');\n",
              "          quickchartButtonEl.disabled = true;  // To prevent multiple clicks.\n",
              "          quickchartButtonEl.classList.add('colab-df-spinner');\n",
              "          try {\n",
              "            const charts = await google.colab.kernel.invokeFunction(\n",
              "                'suggestCharts', [key], {});\n",
              "          } catch (error) {\n",
              "            console.error('Error during call to suggestCharts:', error);\n",
              "          }\n",
              "          quickchartButtonEl.classList.remove('colab-df-spinner');\n",
              "          quickchartButtonEl.classList.add('colab-df-quickchart-complete');\n",
              "        }\n",
              "        (() => {\n",
              "          let quickchartButtonEl =\n",
              "            document.querySelector('#df-b3cbd802-1bb5-49cd-a5a4-278afee24cd6 button');\n",
              "          quickchartButtonEl.style.display =\n",
              "            google.colab.kernel.accessAllowed ? 'block' : 'none';\n",
              "        })();\n",
              "      </script>\n",
              "    </div>\n",
              "\n",
              "  <div id=\"id_bd0a3c41-bfae-4232-9bc3-c666ddeda9d7\">\n",
              "    <style>\n",
              "      .colab-df-generate {\n",
              "        background-color: #E8F0FE;\n",
              "        border: none;\n",
              "        border-radius: 50%;\n",
              "        cursor: pointer;\n",
              "        display: none;\n",
              "        fill: #1967D2;\n",
              "        height: 32px;\n",
              "        padding: 0 0 0 0;\n",
              "        width: 32px;\n",
              "      }\n",
              "\n",
              "      .colab-df-generate:hover {\n",
              "        background-color: #E2EBFA;\n",
              "        box-shadow: 0px 1px 2px rgba(60, 64, 67, 0.3), 0px 1px 3px 1px rgba(60, 64, 67, 0.15);\n",
              "        fill: #174EA6;\n",
              "      }\n",
              "\n",
              "      [theme=dark] .colab-df-generate {\n",
              "        background-color: #3B4455;\n",
              "        fill: #D2E3FC;\n",
              "      }\n",
              "\n",
              "      [theme=dark] .colab-df-generate:hover {\n",
              "        background-color: #434B5C;\n",
              "        box-shadow: 0px 1px 3px 1px rgba(0, 0, 0, 0.15);\n",
              "        filter: drop-shadow(0px 1px 2px rgba(0, 0, 0, 0.3));\n",
              "        fill: #FFFFFF;\n",
              "      }\n",
              "    </style>\n",
              "    <button class=\"colab-df-generate\" onclick=\"generateWithVariable('data_pyc')\"\n",
              "            title=\"Generate code using this dataframe.\"\n",
              "            style=\"display:none;\">\n",
              "\n",
              "  <svg xmlns=\"http://www.w3.org/2000/svg\" height=\"24px\"viewBox=\"0 0 24 24\"\n",
              "       width=\"24px\">\n",
              "    <path d=\"M7,19H8.4L18.45,9,17,7.55,7,17.6ZM5,21V16.75L18.45,3.32a2,2,0,0,1,2.83,0l1.4,1.43a1.91,1.91,0,0,1,.58,1.4,1.91,1.91,0,0,1-.58,1.4L9.25,21ZM18.45,9,17,7.55Zm-12,3A5.31,5.31,0,0,0,4.9,8.1,5.31,5.31,0,0,0,1,6.5,5.31,5.31,0,0,0,4.9,4.9,5.31,5.31,0,0,0,6.5,1,5.31,5.31,0,0,0,8.1,4.9,5.31,5.31,0,0,0,12,6.5,5.46,5.46,0,0,0,6.5,12Z\"/>\n",
              "  </svg>\n",
              "    </button>\n",
              "    <script>\n",
              "      (() => {\n",
              "      const buttonEl =\n",
              "        document.querySelector('#id_bd0a3c41-bfae-4232-9bc3-c666ddeda9d7 button.colab-df-generate');\n",
              "      buttonEl.style.display =\n",
              "        google.colab.kernel.accessAllowed ? 'block' : 'none';\n",
              "\n",
              "      buttonEl.onclick = () => {\n",
              "        google.colab.notebook.generateWithVariable('data_pyc');\n",
              "      }\n",
              "      })();\n",
              "    </script>\n",
              "  </div>\n",
              "\n",
              "    </div>\n",
              "  </div>\n"
            ],
            "application/vnd.google.colaboratory.intrinsic+json": {
              "type": "dataframe",
              "variable_name": "data_pyc",
              "summary": "{\n  \"name\": \"data_pyc\",\n  \"rows\": 5,\n  \"fields\": [\n    {\n      \"column\": \"Juan\",\n      \"properties\": {\n        \"dtype\": \"string\",\n        \"num_unique_values\": 5,\n        \"samples\": [\n          \"Carlos\",\n          \"Paloma\",\n          \"Antonio\"\n        ],\n        \"semantic_type\": \"\",\n        \"description\": \"\"\n      }\n    },\n    {\n      \"column\": \"Vilchis\",\n      \"properties\": {\n        \"dtype\": \"string\",\n        \"num_unique_values\": 5,\n        \"samples\": [\n          \"Escalera\",\n          \"Guevara\",\n          \"Rodr\\u00edguez\"\n        ],\n        \"semantic_type\": \"\",\n        \"description\": \"\"\n      }\n    },\n    {\n      \"column\": \"Doctorado\",\n      \"properties\": {\n        \"dtype\": \"category\",\n        \"num_unique_values\": 2,\n        \"samples\": [\n          \"Maestr\\u00eda\",\n          \"Doctorado\"\n        ],\n        \"semantic_type\": \"\",\n        \"description\": \"\"\n      }\n    },\n    {\n      \"column\": \"Ciencias de la Computaci\\u00f3n\",\n      \"properties\": {\n        \"dtype\": \"string\",\n        \"num_unique_values\": 5,\n        \"samples\": [\n          \"Ciencia Pol\\u00edtica\",\n          \"Demograf\\u00eda\"\n        ],\n        \"semantic_type\": \"\",\n        \"description\": \"\"\n      }\n    },\n    {\n      \"column\": \"8\",\n      \"properties\": {\n        \"dtype\": \"string\",\n        \"num_unique_values\": 4,\n        \"samples\": [\n          \"7\",\n          \" Centro de Estudios Demogr\\u00e1ficos y Urbanos\"\n        ],\n        \"semantic_type\": \"\",\n        \"description\": \"\"\n      }\n    },\n    {\n      \"column\": \"Centro de Investigaci\\u00f3n en Computaci\\u00f3n\",\n      \"properties\": {\n        \"dtype\": \"string\",\n        \"num_unique_values\": 4,\n        \"samples\": [\n          \"Centro de Estudios Internacionales\",\n          \"Escorpio\"\n        ],\n        \"semantic_type\": \"\",\n        \"description\": \"\"\n      }\n    },\n    {\n      \"column\": \"Geminis\",\n      \"properties\": {\n        \"dtype\": \"string\",\n        \"num_unique_values\": 4,\n        \"samples\": [\n          \"Virgo\",\n          \"Tauro\"\n        ],\n        \"semantic_type\": \"\",\n        \"description\": \"\"\n      }\n    },\n    {\n      \"column\": \"Azul\",\n      \"properties\": {\n        \"dtype\": \"string\",\n        \"num_unique_values\": 5,\n        \"samples\": [\n          \"negro\",\n          \"rojo\"\n        ],\n        \"semantic_type\": \"\",\n        \"description\": \"\"\n      }\n    },\n    {\n      \"column\": \"Cuervo\",\n      \"properties\": {\n        \"dtype\": \"string\",\n        \"num_unique_values\": 5,\n        \"samples\": [\n          \"le\\u00f3n\",\n          \"mapache\"\n        ],\n        \"semantic_type\": \"\",\n        \"description\": \"\"\n      }\n    },\n    {\n      \"column\": \"Futbol\",\n      \"properties\": {\n        \"dtype\": \"string\",\n        \"num_unique_values\": 5,\n        \"samples\": [\n          \"nataci\\u00f3n\",\n          \"arquer\\u00eda\"\n        ],\n        \"semantic_type\": \"\",\n        \"description\": \"\"\n      }\n    },\n    {\n      \"column\": \"Telefono Negro\",\n      \"properties\": {\n        \"dtype\": \"string\",\n        \"num_unique_values\": 5,\n        \"samples\": [\n          \"irreversible\",\n          \"the substance\"\n        ],\n        \"semantic_type\": \"\",\n        \"description\": \"\"\n      }\n    },\n    {\n      \"column\": \"Judas Priest\",\n      \"properties\": {\n        \"dtype\": \"string\",\n        \"num_unique_values\": 4,\n        \"samples\": [\n          \"the doors\",\n          \"the do\"\n        ],\n        \"semantic_type\": \"\",\n        \"description\": \"\"\n      }\n    }\n  ]\n}"
            }
          },
          "metadata": {},
          "execution_count": 96
        }
      ]
    },
    {
      "cell_type": "markdown",
      "source": [
        "### Header"
      ],
      "metadata": {
        "id": "S7It8So2geKA"
      }
    },
    {
      "cell_type": "code",
      "source": [
        "data = pd.read_csv('datos.csv')\n",
        "data\n",
        "#data = pd.read_csv('datos.csv', header = 0)\n",
        "#data"
      ],
      "metadata": {
        "colab": {
          "base_uri": "https://localhost:8080/",
          "height": 504
        },
        "id": "RYrHz3h5ggn4",
        "outputId": "0512c853-4ee3-4aa9-f7fe-2702fd3dca24"
      },
      "execution_count": null,
      "outputs": [
        {
          "output_type": "execute_result",
          "data": {
            "text/plain": [
              "      Juan    Vilchis  Doctorado Ciencias de la Computación  \\\n",
              "0    Oscar  Torrealba  Doctorado                   Economía   \n",
              "1   Carlos   Escalera  Doctorado           Ciencia Política   \n",
              "2  Antonio  Rodríguez   Maestría                 Demográfia   \n",
              "3   Samara   Saavedra   Maestría                          3   \n",
              "4   Paloma    Guevara   Maestría                 Demografía   \n",
              "\n",
              "                                            8  \\\n",
              "0                                           1   \n",
              "1                                           7   \n",
              "2                                           3   \n",
              "3   Centro de Estudios Demográficos y Urbanos   \n",
              "4                                           3   \n",
              "\n",
              "      Centro de Investigación en Computación Geminis   Azul     Cuervo  \\\n",
              "0              Centro de Estudios Económicos   Aries  Negro     Dragón   \n",
              "1         Centro de Estudios Internacionales   Aries  negro       león   \n",
              "2  Centro de Estudios Demográficos y Urbanos   Virgo   Azul  Serpiente   \n",
              "3                                   Escorpio   Verde   Vaca  Taekwondo   \n",
              "4  Centro de Estudios Demográficos y Urbanos   Tauro   rojo    mapache   \n",
              "\n",
              "          Futbol Telefono Negro          Judas Priest  \n",
              "0      Atletismo   Interestelar           The Beatles  \n",
              "1       natación   irreversible             the doors  \n",
              "2     Basketball       Scarface  Violadores del verso  \n",
              "3  Interestellar     White Lies                   NaN  \n",
              "4       arquería  the substance                the do  "
            ],
            "text/html": [
              "\n",
              "  <div id=\"df-a7198dbc-b511-47f6-a929-e388eb68d7c9\" class=\"colab-df-container\">\n",
              "    <div>\n",
              "<style scoped>\n",
              "    .dataframe tbody tr th:only-of-type {\n",
              "        vertical-align: middle;\n",
              "    }\n",
              "\n",
              "    .dataframe tbody tr th {\n",
              "        vertical-align: top;\n",
              "    }\n",
              "\n",
              "    .dataframe thead th {\n",
              "        text-align: right;\n",
              "    }\n",
              "</style>\n",
              "<table border=\"1\" class=\"dataframe\">\n",
              "  <thead>\n",
              "    <tr style=\"text-align: right;\">\n",
              "      <th></th>\n",
              "      <th>Juan</th>\n",
              "      <th>Vilchis</th>\n",
              "      <th>Doctorado</th>\n",
              "      <th>Ciencias de la Computación</th>\n",
              "      <th>8</th>\n",
              "      <th>Centro de Investigación en Computación</th>\n",
              "      <th>Geminis</th>\n",
              "      <th>Azul</th>\n",
              "      <th>Cuervo</th>\n",
              "      <th>Futbol</th>\n",
              "      <th>Telefono Negro</th>\n",
              "      <th>Judas Priest</th>\n",
              "    </tr>\n",
              "  </thead>\n",
              "  <tbody>\n",
              "    <tr>\n",
              "      <th>0</th>\n",
              "      <td>Oscar</td>\n",
              "      <td>Torrealba</td>\n",
              "      <td>Doctorado</td>\n",
              "      <td>Economía</td>\n",
              "      <td>1</td>\n",
              "      <td>Centro de Estudios Económicos</td>\n",
              "      <td>Aries</td>\n",
              "      <td>Negro</td>\n",
              "      <td>Dragón</td>\n",
              "      <td>Atletismo</td>\n",
              "      <td>Interestelar</td>\n",
              "      <td>The Beatles</td>\n",
              "    </tr>\n",
              "    <tr>\n",
              "      <th>1</th>\n",
              "      <td>Carlos</td>\n",
              "      <td>Escalera</td>\n",
              "      <td>Doctorado</td>\n",
              "      <td>Ciencia Política</td>\n",
              "      <td>7</td>\n",
              "      <td>Centro de Estudios Internacionales</td>\n",
              "      <td>Aries</td>\n",
              "      <td>negro</td>\n",
              "      <td>león</td>\n",
              "      <td>natación</td>\n",
              "      <td>irreversible</td>\n",
              "      <td>the doors</td>\n",
              "    </tr>\n",
              "    <tr>\n",
              "      <th>2</th>\n",
              "      <td>Antonio</td>\n",
              "      <td>Rodríguez</td>\n",
              "      <td>Maestría</td>\n",
              "      <td>Demográfia</td>\n",
              "      <td>3</td>\n",
              "      <td>Centro de Estudios Demográficos y Urbanos</td>\n",
              "      <td>Virgo</td>\n",
              "      <td>Azul</td>\n",
              "      <td>Serpiente</td>\n",
              "      <td>Basketball</td>\n",
              "      <td>Scarface</td>\n",
              "      <td>Violadores del verso</td>\n",
              "    </tr>\n",
              "    <tr>\n",
              "      <th>3</th>\n",
              "      <td>Samara</td>\n",
              "      <td>Saavedra</td>\n",
              "      <td>Maestría</td>\n",
              "      <td>3</td>\n",
              "      <td>Centro de Estudios Demográficos y Urbanos</td>\n",
              "      <td>Escorpio</td>\n",
              "      <td>Verde</td>\n",
              "      <td>Vaca</td>\n",
              "      <td>Taekwondo</td>\n",
              "      <td>Interestellar</td>\n",
              "      <td>White Lies</td>\n",
              "      <td>NaN</td>\n",
              "    </tr>\n",
              "    <tr>\n",
              "      <th>4</th>\n",
              "      <td>Paloma</td>\n",
              "      <td>Guevara</td>\n",
              "      <td>Maestría</td>\n",
              "      <td>Demografía</td>\n",
              "      <td>3</td>\n",
              "      <td>Centro de Estudios Demográficos y Urbanos</td>\n",
              "      <td>Tauro</td>\n",
              "      <td>rojo</td>\n",
              "      <td>mapache</td>\n",
              "      <td>arquería</td>\n",
              "      <td>the substance</td>\n",
              "      <td>the do</td>\n",
              "    </tr>\n",
              "  </tbody>\n",
              "</table>\n",
              "</div>\n",
              "    <div class=\"colab-df-buttons\">\n",
              "\n",
              "  <div class=\"colab-df-container\">\n",
              "    <button class=\"colab-df-convert\" onclick=\"convertToInteractive('df-a7198dbc-b511-47f6-a929-e388eb68d7c9')\"\n",
              "            title=\"Convert this dataframe to an interactive table.\"\n",
              "            style=\"display:none;\">\n",
              "\n",
              "  <svg xmlns=\"http://www.w3.org/2000/svg\" height=\"24px\" viewBox=\"0 -960 960 960\">\n",
              "    <path d=\"M120-120v-720h720v720H120Zm60-500h600v-160H180v160Zm220 220h160v-160H400v160Zm0 220h160v-160H400v160ZM180-400h160v-160H180v160Zm440 0h160v-160H620v160ZM180-180h160v-160H180v160Zm440 0h160v-160H620v160Z\"/>\n",
              "  </svg>\n",
              "    </button>\n",
              "\n",
              "  <style>\n",
              "    .colab-df-container {\n",
              "      display:flex;\n",
              "      gap: 12px;\n",
              "    }\n",
              "\n",
              "    .colab-df-convert {\n",
              "      background-color: #E8F0FE;\n",
              "      border: none;\n",
              "      border-radius: 50%;\n",
              "      cursor: pointer;\n",
              "      display: none;\n",
              "      fill: #1967D2;\n",
              "      height: 32px;\n",
              "      padding: 0 0 0 0;\n",
              "      width: 32px;\n",
              "    }\n",
              "\n",
              "    .colab-df-convert:hover {\n",
              "      background-color: #E2EBFA;\n",
              "      box-shadow: 0px 1px 2px rgba(60, 64, 67, 0.3), 0px 1px 3px 1px rgba(60, 64, 67, 0.15);\n",
              "      fill: #174EA6;\n",
              "    }\n",
              "\n",
              "    .colab-df-buttons div {\n",
              "      margin-bottom: 4px;\n",
              "    }\n",
              "\n",
              "    [theme=dark] .colab-df-convert {\n",
              "      background-color: #3B4455;\n",
              "      fill: #D2E3FC;\n",
              "    }\n",
              "\n",
              "    [theme=dark] .colab-df-convert:hover {\n",
              "      background-color: #434B5C;\n",
              "      box-shadow: 0px 1px 3px 1px rgba(0, 0, 0, 0.15);\n",
              "      filter: drop-shadow(0px 1px 2px rgba(0, 0, 0, 0.3));\n",
              "      fill: #FFFFFF;\n",
              "    }\n",
              "  </style>\n",
              "\n",
              "    <script>\n",
              "      const buttonEl =\n",
              "        document.querySelector('#df-a7198dbc-b511-47f6-a929-e388eb68d7c9 button.colab-df-convert');\n",
              "      buttonEl.style.display =\n",
              "        google.colab.kernel.accessAllowed ? 'block' : 'none';\n",
              "\n",
              "      async function convertToInteractive(key) {\n",
              "        const element = document.querySelector('#df-a7198dbc-b511-47f6-a929-e388eb68d7c9');\n",
              "        const dataTable =\n",
              "          await google.colab.kernel.invokeFunction('convertToInteractive',\n",
              "                                                    [key], {});\n",
              "        if (!dataTable) return;\n",
              "\n",
              "        const docLinkHtml = 'Like what you see? Visit the ' +\n",
              "          '<a target=\"_blank\" href=https://colab.research.google.com/notebooks/data_table.ipynb>data table notebook</a>'\n",
              "          + ' to learn more about interactive tables.';\n",
              "        element.innerHTML = '';\n",
              "        dataTable['output_type'] = 'display_data';\n",
              "        await google.colab.output.renderOutput(dataTable, element);\n",
              "        const docLink = document.createElement('div');\n",
              "        docLink.innerHTML = docLinkHtml;\n",
              "        element.appendChild(docLink);\n",
              "      }\n",
              "    </script>\n",
              "  </div>\n",
              "\n",
              "\n",
              "    <div id=\"df-76f525c8-edfa-4474-b034-a80bcc847556\">\n",
              "      <button class=\"colab-df-quickchart\" onclick=\"quickchart('df-76f525c8-edfa-4474-b034-a80bcc847556')\"\n",
              "                title=\"Suggest charts\"\n",
              "                style=\"display:none;\">\n",
              "\n",
              "<svg xmlns=\"http://www.w3.org/2000/svg\" height=\"24px\"viewBox=\"0 0 24 24\"\n",
              "     width=\"24px\">\n",
              "    <g>\n",
              "        <path d=\"M19 3H5c-1.1 0-2 .9-2 2v14c0 1.1.9 2 2 2h14c1.1 0 2-.9 2-2V5c0-1.1-.9-2-2-2zM9 17H7v-7h2v7zm4 0h-2V7h2v10zm4 0h-2v-4h2v4z\"/>\n",
              "    </g>\n",
              "</svg>\n",
              "      </button>\n",
              "\n",
              "<style>\n",
              "  .colab-df-quickchart {\n",
              "      --bg-color: #E8F0FE;\n",
              "      --fill-color: #1967D2;\n",
              "      --hover-bg-color: #E2EBFA;\n",
              "      --hover-fill-color: #174EA6;\n",
              "      --disabled-fill-color: #AAA;\n",
              "      --disabled-bg-color: #DDD;\n",
              "  }\n",
              "\n",
              "  [theme=dark] .colab-df-quickchart {\n",
              "      --bg-color: #3B4455;\n",
              "      --fill-color: #D2E3FC;\n",
              "      --hover-bg-color: #434B5C;\n",
              "      --hover-fill-color: #FFFFFF;\n",
              "      --disabled-bg-color: #3B4455;\n",
              "      --disabled-fill-color: #666;\n",
              "  }\n",
              "\n",
              "  .colab-df-quickchart {\n",
              "    background-color: var(--bg-color);\n",
              "    border: none;\n",
              "    border-radius: 50%;\n",
              "    cursor: pointer;\n",
              "    display: none;\n",
              "    fill: var(--fill-color);\n",
              "    height: 32px;\n",
              "    padding: 0;\n",
              "    width: 32px;\n",
              "  }\n",
              "\n",
              "  .colab-df-quickchart:hover {\n",
              "    background-color: var(--hover-bg-color);\n",
              "    box-shadow: 0 1px 2px rgba(60, 64, 67, 0.3), 0 1px 3px 1px rgba(60, 64, 67, 0.15);\n",
              "    fill: var(--button-hover-fill-color);\n",
              "  }\n",
              "\n",
              "  .colab-df-quickchart-complete:disabled,\n",
              "  .colab-df-quickchart-complete:disabled:hover {\n",
              "    background-color: var(--disabled-bg-color);\n",
              "    fill: var(--disabled-fill-color);\n",
              "    box-shadow: none;\n",
              "  }\n",
              "\n",
              "  .colab-df-spinner {\n",
              "    border: 2px solid var(--fill-color);\n",
              "    border-color: transparent;\n",
              "    border-bottom-color: var(--fill-color);\n",
              "    animation:\n",
              "      spin 1s steps(1) infinite;\n",
              "  }\n",
              "\n",
              "  @keyframes spin {\n",
              "    0% {\n",
              "      border-color: transparent;\n",
              "      border-bottom-color: var(--fill-color);\n",
              "      border-left-color: var(--fill-color);\n",
              "    }\n",
              "    20% {\n",
              "      border-color: transparent;\n",
              "      border-left-color: var(--fill-color);\n",
              "      border-top-color: var(--fill-color);\n",
              "    }\n",
              "    30% {\n",
              "      border-color: transparent;\n",
              "      border-left-color: var(--fill-color);\n",
              "      border-top-color: var(--fill-color);\n",
              "      border-right-color: var(--fill-color);\n",
              "    }\n",
              "    40% {\n",
              "      border-color: transparent;\n",
              "      border-right-color: var(--fill-color);\n",
              "      border-top-color: var(--fill-color);\n",
              "    }\n",
              "    60% {\n",
              "      border-color: transparent;\n",
              "      border-right-color: var(--fill-color);\n",
              "    }\n",
              "    80% {\n",
              "      border-color: transparent;\n",
              "      border-right-color: var(--fill-color);\n",
              "      border-bottom-color: var(--fill-color);\n",
              "    }\n",
              "    90% {\n",
              "      border-color: transparent;\n",
              "      border-bottom-color: var(--fill-color);\n",
              "    }\n",
              "  }\n",
              "</style>\n",
              "\n",
              "      <script>\n",
              "        async function quickchart(key) {\n",
              "          const quickchartButtonEl =\n",
              "            document.querySelector('#' + key + ' button');\n",
              "          quickchartButtonEl.disabled = true;  // To prevent multiple clicks.\n",
              "          quickchartButtonEl.classList.add('colab-df-spinner');\n",
              "          try {\n",
              "            const charts = await google.colab.kernel.invokeFunction(\n",
              "                'suggestCharts', [key], {});\n",
              "          } catch (error) {\n",
              "            console.error('Error during call to suggestCharts:', error);\n",
              "          }\n",
              "          quickchartButtonEl.classList.remove('colab-df-spinner');\n",
              "          quickchartButtonEl.classList.add('colab-df-quickchart-complete');\n",
              "        }\n",
              "        (() => {\n",
              "          let quickchartButtonEl =\n",
              "            document.querySelector('#df-76f525c8-edfa-4474-b034-a80bcc847556 button');\n",
              "          quickchartButtonEl.style.display =\n",
              "            google.colab.kernel.accessAllowed ? 'block' : 'none';\n",
              "        })();\n",
              "      </script>\n",
              "    </div>\n",
              "\n",
              "  <div id=\"id_740fecea-9bcb-4115-950d-eee16c23f057\">\n",
              "    <style>\n",
              "      .colab-df-generate {\n",
              "        background-color: #E8F0FE;\n",
              "        border: none;\n",
              "        border-radius: 50%;\n",
              "        cursor: pointer;\n",
              "        display: none;\n",
              "        fill: #1967D2;\n",
              "        height: 32px;\n",
              "        padding: 0 0 0 0;\n",
              "        width: 32px;\n",
              "      }\n",
              "\n",
              "      .colab-df-generate:hover {\n",
              "        background-color: #E2EBFA;\n",
              "        box-shadow: 0px 1px 2px rgba(60, 64, 67, 0.3), 0px 1px 3px 1px rgba(60, 64, 67, 0.15);\n",
              "        fill: #174EA6;\n",
              "      }\n",
              "\n",
              "      [theme=dark] .colab-df-generate {\n",
              "        background-color: #3B4455;\n",
              "        fill: #D2E3FC;\n",
              "      }\n",
              "\n",
              "      [theme=dark] .colab-df-generate:hover {\n",
              "        background-color: #434B5C;\n",
              "        box-shadow: 0px 1px 3px 1px rgba(0, 0, 0, 0.15);\n",
              "        filter: drop-shadow(0px 1px 2px rgba(0, 0, 0, 0.3));\n",
              "        fill: #FFFFFF;\n",
              "      }\n",
              "    </style>\n",
              "    <button class=\"colab-df-generate\" onclick=\"generateWithVariable('data')\"\n",
              "            title=\"Generate code using this dataframe.\"\n",
              "            style=\"display:none;\">\n",
              "\n",
              "  <svg xmlns=\"http://www.w3.org/2000/svg\" height=\"24px\"viewBox=\"0 0 24 24\"\n",
              "       width=\"24px\">\n",
              "    <path d=\"M7,19H8.4L18.45,9,17,7.55,7,17.6ZM5,21V16.75L18.45,3.32a2,2,0,0,1,2.83,0l1.4,1.43a1.91,1.91,0,0,1,.58,1.4,1.91,1.91,0,0,1-.58,1.4L9.25,21ZM18.45,9,17,7.55Zm-12,3A5.31,5.31,0,0,0,4.9,8.1,5.31,5.31,0,0,0,1,6.5,5.31,5.31,0,0,0,4.9,4.9,5.31,5.31,0,0,0,6.5,1,5.31,5.31,0,0,0,8.1,4.9,5.31,5.31,0,0,0,12,6.5,5.46,5.46,0,0,0,6.5,12Z\"/>\n",
              "  </svg>\n",
              "    </button>\n",
              "    <script>\n",
              "      (() => {\n",
              "      const buttonEl =\n",
              "        document.querySelector('#id_740fecea-9bcb-4115-950d-eee16c23f057 button.colab-df-generate');\n",
              "      buttonEl.style.display =\n",
              "        google.colab.kernel.accessAllowed ? 'block' : 'none';\n",
              "\n",
              "      buttonEl.onclick = () => {\n",
              "        google.colab.notebook.generateWithVariable('data');\n",
              "      }\n",
              "      })();\n",
              "    </script>\n",
              "  </div>\n",
              "\n",
              "    </div>\n",
              "  </div>\n"
            ],
            "application/vnd.google.colaboratory.intrinsic+json": {
              "type": "dataframe",
              "variable_name": "data",
              "summary": "{\n  \"name\": \"data\",\n  \"rows\": 5,\n  \"fields\": [\n    {\n      \"column\": \"Juan\",\n      \"properties\": {\n        \"dtype\": \"string\",\n        \"num_unique_values\": 5,\n        \"samples\": [\n          \"Carlos\",\n          \"Paloma\",\n          \"Antonio\"\n        ],\n        \"semantic_type\": \"\",\n        \"description\": \"\"\n      }\n    },\n    {\n      \"column\": \"Vilchis\",\n      \"properties\": {\n        \"dtype\": \"string\",\n        \"num_unique_values\": 5,\n        \"samples\": [\n          \"Escalera\",\n          \"Guevara\",\n          \"Rodr\\u00edguez\"\n        ],\n        \"semantic_type\": \"\",\n        \"description\": \"\"\n      }\n    },\n    {\n      \"column\": \"Doctorado\",\n      \"properties\": {\n        \"dtype\": \"category\",\n        \"num_unique_values\": 2,\n        \"samples\": [\n          \"Maestr\\u00eda\",\n          \"Doctorado\"\n        ],\n        \"semantic_type\": \"\",\n        \"description\": \"\"\n      }\n    },\n    {\n      \"column\": \"Ciencias de la Computaci\\u00f3n\",\n      \"properties\": {\n        \"dtype\": \"string\",\n        \"num_unique_values\": 5,\n        \"samples\": [\n          \"Ciencia Pol\\u00edtica\",\n          \"Demograf\\u00eda\"\n        ],\n        \"semantic_type\": \"\",\n        \"description\": \"\"\n      }\n    },\n    {\n      \"column\": \"8\",\n      \"properties\": {\n        \"dtype\": \"string\",\n        \"num_unique_values\": 4,\n        \"samples\": [\n          \"7\",\n          \" Centro de Estudios Demogr\\u00e1ficos y Urbanos\"\n        ],\n        \"semantic_type\": \"\",\n        \"description\": \"\"\n      }\n    },\n    {\n      \"column\": \"Centro de Investigaci\\u00f3n en Computaci\\u00f3n\",\n      \"properties\": {\n        \"dtype\": \"string\",\n        \"num_unique_values\": 4,\n        \"samples\": [\n          \"Centro de Estudios Internacionales\",\n          \"Escorpio\"\n        ],\n        \"semantic_type\": \"\",\n        \"description\": \"\"\n      }\n    },\n    {\n      \"column\": \"Geminis\",\n      \"properties\": {\n        \"dtype\": \"string\",\n        \"num_unique_values\": 4,\n        \"samples\": [\n          \"Virgo\",\n          \"Tauro\"\n        ],\n        \"semantic_type\": \"\",\n        \"description\": \"\"\n      }\n    },\n    {\n      \"column\": \"Azul\",\n      \"properties\": {\n        \"dtype\": \"string\",\n        \"num_unique_values\": 5,\n        \"samples\": [\n          \"negro\",\n          \"rojo\"\n        ],\n        \"semantic_type\": \"\",\n        \"description\": \"\"\n      }\n    },\n    {\n      \"column\": \"Cuervo\",\n      \"properties\": {\n        \"dtype\": \"string\",\n        \"num_unique_values\": 5,\n        \"samples\": [\n          \"le\\u00f3n\",\n          \"mapache\"\n        ],\n        \"semantic_type\": \"\",\n        \"description\": \"\"\n      }\n    },\n    {\n      \"column\": \"Futbol\",\n      \"properties\": {\n        \"dtype\": \"string\",\n        \"num_unique_values\": 5,\n        \"samples\": [\n          \"nataci\\u00f3n\",\n          \"arquer\\u00eda\"\n        ],\n        \"semantic_type\": \"\",\n        \"description\": \"\"\n      }\n    },\n    {\n      \"column\": \"Telefono Negro\",\n      \"properties\": {\n        \"dtype\": \"string\",\n        \"num_unique_values\": 5,\n        \"samples\": [\n          \"irreversible\",\n          \"the substance\"\n        ],\n        \"semantic_type\": \"\",\n        \"description\": \"\"\n      }\n    },\n    {\n      \"column\": \"Judas Priest\",\n      \"properties\": {\n        \"dtype\": \"string\",\n        \"num_unique_values\": 4,\n        \"samples\": [\n          \"the doors\",\n          \"the do\"\n        ],\n        \"semantic_type\": \"\",\n        \"description\": \"\"\n      }\n    }\n  ]\n}"
            }
          },
          "metadata": {},
          "execution_count": 98
        }
      ]
    },
    {
      "cell_type": "code",
      "source": [
        "data = pd.read_csv('datos.csv', header = 1)\n",
        "data"
      ],
      "metadata": {
        "colab": {
          "base_uri": "https://localhost:8080/",
          "height": 420
        },
        "id": "RaK6uF0Sg0iK",
        "outputId": "2e92aa5c-1336-4e79-9b2e-d6d7beba441c"
      },
      "execution_count": null,
      "outputs": [
        {
          "output_type": "execute_result",
          "data": {
            "text/plain": [
              "     Oscar  Torrealba  Doctorado          Economía  \\\n",
              "0   Carlos   Escalera  Doctorado  Ciencia Política   \n",
              "1  Antonio  Rodríguez   Maestría        Demográfia   \n",
              "2   Samara   Saavedra   Maestría                 3   \n",
              "3   Paloma    Guevara   Maestría        Demografía   \n",
              "\n",
              "                                            1  \\\n",
              "0                                           7   \n",
              "1                                           3   \n",
              "2   Centro de Estudios Demográficos y Urbanos   \n",
              "3                                           3   \n",
              "\n",
              "               Centro de Estudios Económicos  Aries  Negro     Dragón  \\\n",
              "0         Centro de Estudios Internacionales  Aries  negro       león   \n",
              "1  Centro de Estudios Demográficos y Urbanos  Virgo   Azul  Serpiente   \n",
              "2                                   Escorpio  Verde   Vaca  Taekwondo   \n",
              "3  Centro de Estudios Demográficos y Urbanos  Tauro   rojo    mapache   \n",
              "\n",
              "       Atletismo   Interestelar           The Beatles  \n",
              "0       natación   irreversible             the doors  \n",
              "1     Basketball       Scarface  Violadores del verso  \n",
              "2  Interestellar     White Lies                   NaN  \n",
              "3       arquería  the substance                the do  "
            ],
            "text/html": [
              "\n",
              "  <div id=\"df-db5a7859-1c3e-472b-8224-861296548c95\" class=\"colab-df-container\">\n",
              "    <div>\n",
              "<style scoped>\n",
              "    .dataframe tbody tr th:only-of-type {\n",
              "        vertical-align: middle;\n",
              "    }\n",
              "\n",
              "    .dataframe tbody tr th {\n",
              "        vertical-align: top;\n",
              "    }\n",
              "\n",
              "    .dataframe thead th {\n",
              "        text-align: right;\n",
              "    }\n",
              "</style>\n",
              "<table border=\"1\" class=\"dataframe\">\n",
              "  <thead>\n",
              "    <tr style=\"text-align: right;\">\n",
              "      <th></th>\n",
              "      <th>Oscar</th>\n",
              "      <th>Torrealba</th>\n",
              "      <th>Doctorado</th>\n",
              "      <th>Economía</th>\n",
              "      <th>1</th>\n",
              "      <th>Centro de Estudios Económicos</th>\n",
              "      <th>Aries</th>\n",
              "      <th>Negro</th>\n",
              "      <th>Dragón</th>\n",
              "      <th>Atletismo</th>\n",
              "      <th>Interestelar</th>\n",
              "      <th>The Beatles</th>\n",
              "    </tr>\n",
              "  </thead>\n",
              "  <tbody>\n",
              "    <tr>\n",
              "      <th>0</th>\n",
              "      <td>Carlos</td>\n",
              "      <td>Escalera</td>\n",
              "      <td>Doctorado</td>\n",
              "      <td>Ciencia Política</td>\n",
              "      <td>7</td>\n",
              "      <td>Centro de Estudios Internacionales</td>\n",
              "      <td>Aries</td>\n",
              "      <td>negro</td>\n",
              "      <td>león</td>\n",
              "      <td>natación</td>\n",
              "      <td>irreversible</td>\n",
              "      <td>the doors</td>\n",
              "    </tr>\n",
              "    <tr>\n",
              "      <th>1</th>\n",
              "      <td>Antonio</td>\n",
              "      <td>Rodríguez</td>\n",
              "      <td>Maestría</td>\n",
              "      <td>Demográfia</td>\n",
              "      <td>3</td>\n",
              "      <td>Centro de Estudios Demográficos y Urbanos</td>\n",
              "      <td>Virgo</td>\n",
              "      <td>Azul</td>\n",
              "      <td>Serpiente</td>\n",
              "      <td>Basketball</td>\n",
              "      <td>Scarface</td>\n",
              "      <td>Violadores del verso</td>\n",
              "    </tr>\n",
              "    <tr>\n",
              "      <th>2</th>\n",
              "      <td>Samara</td>\n",
              "      <td>Saavedra</td>\n",
              "      <td>Maestría</td>\n",
              "      <td>3</td>\n",
              "      <td>Centro de Estudios Demográficos y Urbanos</td>\n",
              "      <td>Escorpio</td>\n",
              "      <td>Verde</td>\n",
              "      <td>Vaca</td>\n",
              "      <td>Taekwondo</td>\n",
              "      <td>Interestellar</td>\n",
              "      <td>White Lies</td>\n",
              "      <td>NaN</td>\n",
              "    </tr>\n",
              "    <tr>\n",
              "      <th>3</th>\n",
              "      <td>Paloma</td>\n",
              "      <td>Guevara</td>\n",
              "      <td>Maestría</td>\n",
              "      <td>Demografía</td>\n",
              "      <td>3</td>\n",
              "      <td>Centro de Estudios Demográficos y Urbanos</td>\n",
              "      <td>Tauro</td>\n",
              "      <td>rojo</td>\n",
              "      <td>mapache</td>\n",
              "      <td>arquería</td>\n",
              "      <td>the substance</td>\n",
              "      <td>the do</td>\n",
              "    </tr>\n",
              "  </tbody>\n",
              "</table>\n",
              "</div>\n",
              "    <div class=\"colab-df-buttons\">\n",
              "\n",
              "  <div class=\"colab-df-container\">\n",
              "    <button class=\"colab-df-convert\" onclick=\"convertToInteractive('df-db5a7859-1c3e-472b-8224-861296548c95')\"\n",
              "            title=\"Convert this dataframe to an interactive table.\"\n",
              "            style=\"display:none;\">\n",
              "\n",
              "  <svg xmlns=\"http://www.w3.org/2000/svg\" height=\"24px\" viewBox=\"0 -960 960 960\">\n",
              "    <path d=\"M120-120v-720h720v720H120Zm60-500h600v-160H180v160Zm220 220h160v-160H400v160Zm0 220h160v-160H400v160ZM180-400h160v-160H180v160Zm440 0h160v-160H620v160ZM180-180h160v-160H180v160Zm440 0h160v-160H620v160Z\"/>\n",
              "  </svg>\n",
              "    </button>\n",
              "\n",
              "  <style>\n",
              "    .colab-df-container {\n",
              "      display:flex;\n",
              "      gap: 12px;\n",
              "    }\n",
              "\n",
              "    .colab-df-convert {\n",
              "      background-color: #E8F0FE;\n",
              "      border: none;\n",
              "      border-radius: 50%;\n",
              "      cursor: pointer;\n",
              "      display: none;\n",
              "      fill: #1967D2;\n",
              "      height: 32px;\n",
              "      padding: 0 0 0 0;\n",
              "      width: 32px;\n",
              "    }\n",
              "\n",
              "    .colab-df-convert:hover {\n",
              "      background-color: #E2EBFA;\n",
              "      box-shadow: 0px 1px 2px rgba(60, 64, 67, 0.3), 0px 1px 3px 1px rgba(60, 64, 67, 0.15);\n",
              "      fill: #174EA6;\n",
              "    }\n",
              "\n",
              "    .colab-df-buttons div {\n",
              "      margin-bottom: 4px;\n",
              "    }\n",
              "\n",
              "    [theme=dark] .colab-df-convert {\n",
              "      background-color: #3B4455;\n",
              "      fill: #D2E3FC;\n",
              "    }\n",
              "\n",
              "    [theme=dark] .colab-df-convert:hover {\n",
              "      background-color: #434B5C;\n",
              "      box-shadow: 0px 1px 3px 1px rgba(0, 0, 0, 0.15);\n",
              "      filter: drop-shadow(0px 1px 2px rgba(0, 0, 0, 0.3));\n",
              "      fill: #FFFFFF;\n",
              "    }\n",
              "  </style>\n",
              "\n",
              "    <script>\n",
              "      const buttonEl =\n",
              "        document.querySelector('#df-db5a7859-1c3e-472b-8224-861296548c95 button.colab-df-convert');\n",
              "      buttonEl.style.display =\n",
              "        google.colab.kernel.accessAllowed ? 'block' : 'none';\n",
              "\n",
              "      async function convertToInteractive(key) {\n",
              "        const element = document.querySelector('#df-db5a7859-1c3e-472b-8224-861296548c95');\n",
              "        const dataTable =\n",
              "          await google.colab.kernel.invokeFunction('convertToInteractive',\n",
              "                                                    [key], {});\n",
              "        if (!dataTable) return;\n",
              "\n",
              "        const docLinkHtml = 'Like what you see? Visit the ' +\n",
              "          '<a target=\"_blank\" href=https://colab.research.google.com/notebooks/data_table.ipynb>data table notebook</a>'\n",
              "          + ' to learn more about interactive tables.';\n",
              "        element.innerHTML = '';\n",
              "        dataTable['output_type'] = 'display_data';\n",
              "        await google.colab.output.renderOutput(dataTable, element);\n",
              "        const docLink = document.createElement('div');\n",
              "        docLink.innerHTML = docLinkHtml;\n",
              "        element.appendChild(docLink);\n",
              "      }\n",
              "    </script>\n",
              "  </div>\n",
              "\n",
              "\n",
              "    <div id=\"df-6e1e0666-dd49-471b-9e20-f71fb09a1366\">\n",
              "      <button class=\"colab-df-quickchart\" onclick=\"quickchart('df-6e1e0666-dd49-471b-9e20-f71fb09a1366')\"\n",
              "                title=\"Suggest charts\"\n",
              "                style=\"display:none;\">\n",
              "\n",
              "<svg xmlns=\"http://www.w3.org/2000/svg\" height=\"24px\"viewBox=\"0 0 24 24\"\n",
              "     width=\"24px\">\n",
              "    <g>\n",
              "        <path d=\"M19 3H5c-1.1 0-2 .9-2 2v14c0 1.1.9 2 2 2h14c1.1 0 2-.9 2-2V5c0-1.1-.9-2-2-2zM9 17H7v-7h2v7zm4 0h-2V7h2v10zm4 0h-2v-4h2v4z\"/>\n",
              "    </g>\n",
              "</svg>\n",
              "      </button>\n",
              "\n",
              "<style>\n",
              "  .colab-df-quickchart {\n",
              "      --bg-color: #E8F0FE;\n",
              "      --fill-color: #1967D2;\n",
              "      --hover-bg-color: #E2EBFA;\n",
              "      --hover-fill-color: #174EA6;\n",
              "      --disabled-fill-color: #AAA;\n",
              "      --disabled-bg-color: #DDD;\n",
              "  }\n",
              "\n",
              "  [theme=dark] .colab-df-quickchart {\n",
              "      --bg-color: #3B4455;\n",
              "      --fill-color: #D2E3FC;\n",
              "      --hover-bg-color: #434B5C;\n",
              "      --hover-fill-color: #FFFFFF;\n",
              "      --disabled-bg-color: #3B4455;\n",
              "      --disabled-fill-color: #666;\n",
              "  }\n",
              "\n",
              "  .colab-df-quickchart {\n",
              "    background-color: var(--bg-color);\n",
              "    border: none;\n",
              "    border-radius: 50%;\n",
              "    cursor: pointer;\n",
              "    display: none;\n",
              "    fill: var(--fill-color);\n",
              "    height: 32px;\n",
              "    padding: 0;\n",
              "    width: 32px;\n",
              "  }\n",
              "\n",
              "  .colab-df-quickchart:hover {\n",
              "    background-color: var(--hover-bg-color);\n",
              "    box-shadow: 0 1px 2px rgba(60, 64, 67, 0.3), 0 1px 3px 1px rgba(60, 64, 67, 0.15);\n",
              "    fill: var(--button-hover-fill-color);\n",
              "  }\n",
              "\n",
              "  .colab-df-quickchart-complete:disabled,\n",
              "  .colab-df-quickchart-complete:disabled:hover {\n",
              "    background-color: var(--disabled-bg-color);\n",
              "    fill: var(--disabled-fill-color);\n",
              "    box-shadow: none;\n",
              "  }\n",
              "\n",
              "  .colab-df-spinner {\n",
              "    border: 2px solid var(--fill-color);\n",
              "    border-color: transparent;\n",
              "    border-bottom-color: var(--fill-color);\n",
              "    animation:\n",
              "      spin 1s steps(1) infinite;\n",
              "  }\n",
              "\n",
              "  @keyframes spin {\n",
              "    0% {\n",
              "      border-color: transparent;\n",
              "      border-bottom-color: var(--fill-color);\n",
              "      border-left-color: var(--fill-color);\n",
              "    }\n",
              "    20% {\n",
              "      border-color: transparent;\n",
              "      border-left-color: var(--fill-color);\n",
              "      border-top-color: var(--fill-color);\n",
              "    }\n",
              "    30% {\n",
              "      border-color: transparent;\n",
              "      border-left-color: var(--fill-color);\n",
              "      border-top-color: var(--fill-color);\n",
              "      border-right-color: var(--fill-color);\n",
              "    }\n",
              "    40% {\n",
              "      border-color: transparent;\n",
              "      border-right-color: var(--fill-color);\n",
              "      border-top-color: var(--fill-color);\n",
              "    }\n",
              "    60% {\n",
              "      border-color: transparent;\n",
              "      border-right-color: var(--fill-color);\n",
              "    }\n",
              "    80% {\n",
              "      border-color: transparent;\n",
              "      border-right-color: var(--fill-color);\n",
              "      border-bottom-color: var(--fill-color);\n",
              "    }\n",
              "    90% {\n",
              "      border-color: transparent;\n",
              "      border-bottom-color: var(--fill-color);\n",
              "    }\n",
              "  }\n",
              "</style>\n",
              "\n",
              "      <script>\n",
              "        async function quickchart(key) {\n",
              "          const quickchartButtonEl =\n",
              "            document.querySelector('#' + key + ' button');\n",
              "          quickchartButtonEl.disabled = true;  // To prevent multiple clicks.\n",
              "          quickchartButtonEl.classList.add('colab-df-spinner');\n",
              "          try {\n",
              "            const charts = await google.colab.kernel.invokeFunction(\n",
              "                'suggestCharts', [key], {});\n",
              "          } catch (error) {\n",
              "            console.error('Error during call to suggestCharts:', error);\n",
              "          }\n",
              "          quickchartButtonEl.classList.remove('colab-df-spinner');\n",
              "          quickchartButtonEl.classList.add('colab-df-quickchart-complete');\n",
              "        }\n",
              "        (() => {\n",
              "          let quickchartButtonEl =\n",
              "            document.querySelector('#df-6e1e0666-dd49-471b-9e20-f71fb09a1366 button');\n",
              "          quickchartButtonEl.style.display =\n",
              "            google.colab.kernel.accessAllowed ? 'block' : 'none';\n",
              "        })();\n",
              "      </script>\n",
              "    </div>\n",
              "\n",
              "  <div id=\"id_c7a14b5d-cded-4ca2-978b-bcf515fb151d\">\n",
              "    <style>\n",
              "      .colab-df-generate {\n",
              "        background-color: #E8F0FE;\n",
              "        border: none;\n",
              "        border-radius: 50%;\n",
              "        cursor: pointer;\n",
              "        display: none;\n",
              "        fill: #1967D2;\n",
              "        height: 32px;\n",
              "        padding: 0 0 0 0;\n",
              "        width: 32px;\n",
              "      }\n",
              "\n",
              "      .colab-df-generate:hover {\n",
              "        background-color: #E2EBFA;\n",
              "        box-shadow: 0px 1px 2px rgba(60, 64, 67, 0.3), 0px 1px 3px 1px rgba(60, 64, 67, 0.15);\n",
              "        fill: #174EA6;\n",
              "      }\n",
              "\n",
              "      [theme=dark] .colab-df-generate {\n",
              "        background-color: #3B4455;\n",
              "        fill: #D2E3FC;\n",
              "      }\n",
              "\n",
              "      [theme=dark] .colab-df-generate:hover {\n",
              "        background-color: #434B5C;\n",
              "        box-shadow: 0px 1px 3px 1px rgba(0, 0, 0, 0.15);\n",
              "        filter: drop-shadow(0px 1px 2px rgba(0, 0, 0, 0.3));\n",
              "        fill: #FFFFFF;\n",
              "      }\n",
              "    </style>\n",
              "    <button class=\"colab-df-generate\" onclick=\"generateWithVariable('data')\"\n",
              "            title=\"Generate code using this dataframe.\"\n",
              "            style=\"display:none;\">\n",
              "\n",
              "  <svg xmlns=\"http://www.w3.org/2000/svg\" height=\"24px\"viewBox=\"0 0 24 24\"\n",
              "       width=\"24px\">\n",
              "    <path d=\"M7,19H8.4L18.45,9,17,7.55,7,17.6ZM5,21V16.75L18.45,3.32a2,2,0,0,1,2.83,0l1.4,1.43a1.91,1.91,0,0,1,.58,1.4,1.91,1.91,0,0,1-.58,1.4L9.25,21ZM18.45,9,17,7.55Zm-12,3A5.31,5.31,0,0,0,4.9,8.1,5.31,5.31,0,0,0,1,6.5,5.31,5.31,0,0,0,4.9,4.9,5.31,5.31,0,0,0,6.5,1,5.31,5.31,0,0,0,8.1,4.9,5.31,5.31,0,0,0,12,6.5,5.46,5.46,0,0,0,6.5,12Z\"/>\n",
              "  </svg>\n",
              "    </button>\n",
              "    <script>\n",
              "      (() => {\n",
              "      const buttonEl =\n",
              "        document.querySelector('#id_c7a14b5d-cded-4ca2-978b-bcf515fb151d button.colab-df-generate');\n",
              "      buttonEl.style.display =\n",
              "        google.colab.kernel.accessAllowed ? 'block' : 'none';\n",
              "\n",
              "      buttonEl.onclick = () => {\n",
              "        google.colab.notebook.generateWithVariable('data');\n",
              "      }\n",
              "      })();\n",
              "    </script>\n",
              "  </div>\n",
              "\n",
              "    </div>\n",
              "  </div>\n"
            ],
            "application/vnd.google.colaboratory.intrinsic+json": {
              "type": "dataframe",
              "variable_name": "data",
              "summary": "{\n  \"name\": \"data\",\n  \"rows\": 4,\n  \"fields\": [\n    {\n      \"column\": \"Oscar\",\n      \"properties\": {\n        \"dtype\": \"string\",\n        \"num_unique_values\": 4,\n        \"samples\": [\n          \"Antonio\",\n          \"Paloma\",\n          \"Carlos\"\n        ],\n        \"semantic_type\": \"\",\n        \"description\": \"\"\n      }\n    },\n    {\n      \"column\": \"Torrealba\",\n      \"properties\": {\n        \"dtype\": \"string\",\n        \"num_unique_values\": 4,\n        \"samples\": [\n          \"Rodr\\u00edguez\",\n          \"Guevara\",\n          \"Escalera\"\n        ],\n        \"semantic_type\": \"\",\n        \"description\": \"\"\n      }\n    },\n    {\n      \"column\": \"Doctorado\",\n      \"properties\": {\n        \"dtype\": \"string\",\n        \"num_unique_values\": 2,\n        \"samples\": [\n          \"Maestr\\u00eda\",\n          \"Doctorado\"\n        ],\n        \"semantic_type\": \"\",\n        \"description\": \"\"\n      }\n    },\n    {\n      \"column\": \"Econom\\u00eda\",\n      \"properties\": {\n        \"dtype\": \"string\",\n        \"num_unique_values\": 4,\n        \"samples\": [\n          \"Demogr\\u00e1fia\",\n          \"Demograf\\u00eda\"\n        ],\n        \"semantic_type\": \"\",\n        \"description\": \"\"\n      }\n    },\n    {\n      \"column\": \"1\",\n      \"properties\": {\n        \"dtype\": \"string\",\n        \"num_unique_values\": 3,\n        \"samples\": [\n          \"7\",\n          \"3\"\n        ],\n        \"semantic_type\": \"\",\n        \"description\": \"\"\n      }\n    },\n    {\n      \"column\": \"Centro de Estudios Econ\\u00f3micos\",\n      \"properties\": {\n        \"dtype\": \"string\",\n        \"num_unique_values\": 3,\n        \"samples\": [\n          \"Centro de Estudios Internacionales\",\n          \"Centro de Estudios Demogr\\u00e1ficos y Urbanos\"\n        ],\n        \"semantic_type\": \"\",\n        \"description\": \"\"\n      }\n    },\n    {\n      \"column\": \"Aries\",\n      \"properties\": {\n        \"dtype\": \"string\",\n        \"num_unique_values\": 4,\n        \"samples\": [\n          \"Virgo\",\n          \"Tauro\"\n        ],\n        \"semantic_type\": \"\",\n        \"description\": \"\"\n      }\n    },\n    {\n      \"column\": \"Negro\",\n      \"properties\": {\n        \"dtype\": \"string\",\n        \"num_unique_values\": 4,\n        \"samples\": [\n          \"Azul\",\n          \"rojo\"\n        ],\n        \"semantic_type\": \"\",\n        \"description\": \"\"\n      }\n    },\n    {\n      \"column\": \"Drag\\u00f3n\",\n      \"properties\": {\n        \"dtype\": \"string\",\n        \"num_unique_values\": 4,\n        \"samples\": [\n          \"Serpiente\",\n          \"mapache\"\n        ],\n        \"semantic_type\": \"\",\n        \"description\": \"\"\n      }\n    },\n    {\n      \"column\": \"Atletismo\",\n      \"properties\": {\n        \"dtype\": \"string\",\n        \"num_unique_values\": 4,\n        \"samples\": [\n          \"Basketball\",\n          \"arquer\\u00eda\"\n        ],\n        \"semantic_type\": \"\",\n        \"description\": \"\"\n      }\n    },\n    {\n      \"column\": \"Interestelar\",\n      \"properties\": {\n        \"dtype\": \"string\",\n        \"num_unique_values\": 4,\n        \"samples\": [\n          \"Scarface\",\n          \"the substance\"\n        ],\n        \"semantic_type\": \"\",\n        \"description\": \"\"\n      }\n    },\n    {\n      \"column\": \"The Beatles\",\n      \"properties\": {\n        \"dtype\": \"string\",\n        \"num_unique_values\": 3,\n        \"samples\": [\n          \"the doors\",\n          \"Violadores del verso\"\n        ],\n        \"semantic_type\": \"\",\n        \"description\": \"\"\n      }\n    }\n  ]\n}"
            }
          },
          "metadata": {},
          "execution_count": 99
        }
      ]
    },
    {
      "cell_type": "code",
      "source": [
        "data = pd.read_csv('datos.csv', header = 4)\n",
        "data"
      ],
      "metadata": {
        "colab": {
          "base_uri": "https://localhost:8080/",
          "height": 205
        },
        "id": "Vml10QIPg4JI",
        "outputId": "b23a47e5-d1d7-4ecb-fd89-9d500e246ea0"
      },
      "execution_count": null,
      "outputs": [
        {
          "output_type": "execute_result",
          "data": {
            "text/plain": [
              "         Samara  Saavedra    Maestría  3  \\\n",
              "Paloma  Guevara  Maestría  Demografía  3   \n",
              "\n",
              "        Centro de Estudios Demográficos y Urbanos Escorpio Verde     Vaca  \\\n",
              "Paloma  Centro de Estudios Demográficos y Urbanos    Tauro  rojo  mapache   \n",
              "\n",
              "       Taekwondo  Interestellar White Lies  \n",
              "Paloma  arquería  the substance     the do  "
            ],
            "text/html": [
              "\n",
              "  <div id=\"df-ced61ac0-8e82-4bdc-92bd-a7370efc7ef5\" class=\"colab-df-container\">\n",
              "    <div>\n",
              "<style scoped>\n",
              "    .dataframe tbody tr th:only-of-type {\n",
              "        vertical-align: middle;\n",
              "    }\n",
              "\n",
              "    .dataframe tbody tr th {\n",
              "        vertical-align: top;\n",
              "    }\n",
              "\n",
              "    .dataframe thead th {\n",
              "        text-align: right;\n",
              "    }\n",
              "</style>\n",
              "<table border=\"1\" class=\"dataframe\">\n",
              "  <thead>\n",
              "    <tr style=\"text-align: right;\">\n",
              "      <th></th>\n",
              "      <th>Samara</th>\n",
              "      <th>Saavedra</th>\n",
              "      <th>Maestría</th>\n",
              "      <th>3</th>\n",
              "      <th>Centro de Estudios Demográficos y Urbanos</th>\n",
              "      <th>Escorpio</th>\n",
              "      <th>Verde</th>\n",
              "      <th>Vaca</th>\n",
              "      <th>Taekwondo</th>\n",
              "      <th>Interestellar</th>\n",
              "      <th>White Lies</th>\n",
              "    </tr>\n",
              "  </thead>\n",
              "  <tbody>\n",
              "    <tr>\n",
              "      <th>Paloma</th>\n",
              "      <td>Guevara</td>\n",
              "      <td>Maestría</td>\n",
              "      <td>Demografía</td>\n",
              "      <td>3</td>\n",
              "      <td>Centro de Estudios Demográficos y Urbanos</td>\n",
              "      <td>Tauro</td>\n",
              "      <td>rojo</td>\n",
              "      <td>mapache</td>\n",
              "      <td>arquería</td>\n",
              "      <td>the substance</td>\n",
              "      <td>the do</td>\n",
              "    </tr>\n",
              "  </tbody>\n",
              "</table>\n",
              "</div>\n",
              "    <div class=\"colab-df-buttons\">\n",
              "\n",
              "  <div class=\"colab-df-container\">\n",
              "    <button class=\"colab-df-convert\" onclick=\"convertToInteractive('df-ced61ac0-8e82-4bdc-92bd-a7370efc7ef5')\"\n",
              "            title=\"Convert this dataframe to an interactive table.\"\n",
              "            style=\"display:none;\">\n",
              "\n",
              "  <svg xmlns=\"http://www.w3.org/2000/svg\" height=\"24px\" viewBox=\"0 -960 960 960\">\n",
              "    <path d=\"M120-120v-720h720v720H120Zm60-500h600v-160H180v160Zm220 220h160v-160H400v160Zm0 220h160v-160H400v160ZM180-400h160v-160H180v160Zm440 0h160v-160H620v160ZM180-180h160v-160H180v160Zm440 0h160v-160H620v160Z\"/>\n",
              "  </svg>\n",
              "    </button>\n",
              "\n",
              "  <style>\n",
              "    .colab-df-container {\n",
              "      display:flex;\n",
              "      gap: 12px;\n",
              "    }\n",
              "\n",
              "    .colab-df-convert {\n",
              "      background-color: #E8F0FE;\n",
              "      border: none;\n",
              "      border-radius: 50%;\n",
              "      cursor: pointer;\n",
              "      display: none;\n",
              "      fill: #1967D2;\n",
              "      height: 32px;\n",
              "      padding: 0 0 0 0;\n",
              "      width: 32px;\n",
              "    }\n",
              "\n",
              "    .colab-df-convert:hover {\n",
              "      background-color: #E2EBFA;\n",
              "      box-shadow: 0px 1px 2px rgba(60, 64, 67, 0.3), 0px 1px 3px 1px rgba(60, 64, 67, 0.15);\n",
              "      fill: #174EA6;\n",
              "    }\n",
              "\n",
              "    .colab-df-buttons div {\n",
              "      margin-bottom: 4px;\n",
              "    }\n",
              "\n",
              "    [theme=dark] .colab-df-convert {\n",
              "      background-color: #3B4455;\n",
              "      fill: #D2E3FC;\n",
              "    }\n",
              "\n",
              "    [theme=dark] .colab-df-convert:hover {\n",
              "      background-color: #434B5C;\n",
              "      box-shadow: 0px 1px 3px 1px rgba(0, 0, 0, 0.15);\n",
              "      filter: drop-shadow(0px 1px 2px rgba(0, 0, 0, 0.3));\n",
              "      fill: #FFFFFF;\n",
              "    }\n",
              "  </style>\n",
              "\n",
              "    <script>\n",
              "      const buttonEl =\n",
              "        document.querySelector('#df-ced61ac0-8e82-4bdc-92bd-a7370efc7ef5 button.colab-df-convert');\n",
              "      buttonEl.style.display =\n",
              "        google.colab.kernel.accessAllowed ? 'block' : 'none';\n",
              "\n",
              "      async function convertToInteractive(key) {\n",
              "        const element = document.querySelector('#df-ced61ac0-8e82-4bdc-92bd-a7370efc7ef5');\n",
              "        const dataTable =\n",
              "          await google.colab.kernel.invokeFunction('convertToInteractive',\n",
              "                                                    [key], {});\n",
              "        if (!dataTable) return;\n",
              "\n",
              "        const docLinkHtml = 'Like what you see? Visit the ' +\n",
              "          '<a target=\"_blank\" href=https://colab.research.google.com/notebooks/data_table.ipynb>data table notebook</a>'\n",
              "          + ' to learn more about interactive tables.';\n",
              "        element.innerHTML = '';\n",
              "        dataTable['output_type'] = 'display_data';\n",
              "        await google.colab.output.renderOutput(dataTable, element);\n",
              "        const docLink = document.createElement('div');\n",
              "        docLink.innerHTML = docLinkHtml;\n",
              "        element.appendChild(docLink);\n",
              "      }\n",
              "    </script>\n",
              "  </div>\n",
              "\n",
              "\n",
              "  <div id=\"id_c8134e8a-61fc-4c70-a589-0198b65db7da\">\n",
              "    <style>\n",
              "      .colab-df-generate {\n",
              "        background-color: #E8F0FE;\n",
              "        border: none;\n",
              "        border-radius: 50%;\n",
              "        cursor: pointer;\n",
              "        display: none;\n",
              "        fill: #1967D2;\n",
              "        height: 32px;\n",
              "        padding: 0 0 0 0;\n",
              "        width: 32px;\n",
              "      }\n",
              "\n",
              "      .colab-df-generate:hover {\n",
              "        background-color: #E2EBFA;\n",
              "        box-shadow: 0px 1px 2px rgba(60, 64, 67, 0.3), 0px 1px 3px 1px rgba(60, 64, 67, 0.15);\n",
              "        fill: #174EA6;\n",
              "      }\n",
              "\n",
              "      [theme=dark] .colab-df-generate {\n",
              "        background-color: #3B4455;\n",
              "        fill: #D2E3FC;\n",
              "      }\n",
              "\n",
              "      [theme=dark] .colab-df-generate:hover {\n",
              "        background-color: #434B5C;\n",
              "        box-shadow: 0px 1px 3px 1px rgba(0, 0, 0, 0.15);\n",
              "        filter: drop-shadow(0px 1px 2px rgba(0, 0, 0, 0.3));\n",
              "        fill: #FFFFFF;\n",
              "      }\n",
              "    </style>\n",
              "    <button class=\"colab-df-generate\" onclick=\"generateWithVariable('data')\"\n",
              "            title=\"Generate code using this dataframe.\"\n",
              "            style=\"display:none;\">\n",
              "\n",
              "  <svg xmlns=\"http://www.w3.org/2000/svg\" height=\"24px\"viewBox=\"0 0 24 24\"\n",
              "       width=\"24px\">\n",
              "    <path d=\"M7,19H8.4L18.45,9,17,7.55,7,17.6ZM5,21V16.75L18.45,3.32a2,2,0,0,1,2.83,0l1.4,1.43a1.91,1.91,0,0,1,.58,1.4,1.91,1.91,0,0,1-.58,1.4L9.25,21ZM18.45,9,17,7.55Zm-12,3A5.31,5.31,0,0,0,4.9,8.1,5.31,5.31,0,0,0,1,6.5,5.31,5.31,0,0,0,4.9,4.9,5.31,5.31,0,0,0,6.5,1,5.31,5.31,0,0,0,8.1,4.9,5.31,5.31,0,0,0,12,6.5,5.46,5.46,0,0,0,6.5,12Z\"/>\n",
              "  </svg>\n",
              "    </button>\n",
              "    <script>\n",
              "      (() => {\n",
              "      const buttonEl =\n",
              "        document.querySelector('#id_c8134e8a-61fc-4c70-a589-0198b65db7da button.colab-df-generate');\n",
              "      buttonEl.style.display =\n",
              "        google.colab.kernel.accessAllowed ? 'block' : 'none';\n",
              "\n",
              "      buttonEl.onclick = () => {\n",
              "        google.colab.notebook.generateWithVariable('data');\n",
              "      }\n",
              "      })();\n",
              "    </script>\n",
              "  </div>\n",
              "\n",
              "    </div>\n",
              "  </div>\n"
            ],
            "application/vnd.google.colaboratory.intrinsic+json": {
              "type": "dataframe",
              "variable_name": "data",
              "summary": "{\n  \"name\": \"data\",\n  \"rows\": 1,\n  \"fields\": [\n    {\n      \"column\": \"Samara\",\n      \"properties\": {\n        \"dtype\": \"string\",\n        \"num_unique_values\": 1,\n        \"samples\": [\n          \"Guevara\"\n        ],\n        \"semantic_type\": \"\",\n        \"description\": \"\"\n      }\n    },\n    {\n      \"column\": \"Saavedra\",\n      \"properties\": {\n        \"dtype\": \"string\",\n        \"num_unique_values\": 1,\n        \"samples\": [\n          \"Maestr\\u00eda\"\n        ],\n        \"semantic_type\": \"\",\n        \"description\": \"\"\n      }\n    },\n    {\n      \"column\": \"Maestr\\u00eda\",\n      \"properties\": {\n        \"dtype\": \"string\",\n        \"num_unique_values\": 1,\n        \"samples\": [\n          \"Demograf\\u00eda\"\n        ],\n        \"semantic_type\": \"\",\n        \"description\": \"\"\n      }\n    },\n    {\n      \"column\": \"3\",\n      \"properties\": {\n        \"dtype\": \"number\",\n        \"std\": null,\n        \"min\": 3,\n        \"max\": 3,\n        \"num_unique_values\": 1,\n        \"samples\": [\n          3\n        ],\n        \"semantic_type\": \"\",\n        \"description\": \"\"\n      }\n    },\n    {\n      \"column\": \" Centro de Estudios Demogr\\u00e1ficos y Urbanos\",\n      \"properties\": {\n        \"dtype\": \"string\",\n        \"num_unique_values\": 1,\n        \"samples\": [\n          \"Centro de Estudios Demogr\\u00e1ficos y Urbanos\"\n        ],\n        \"semantic_type\": \"\",\n        \"description\": \"\"\n      }\n    },\n    {\n      \"column\": \"Escorpio\",\n      \"properties\": {\n        \"dtype\": \"string\",\n        \"num_unique_values\": 1,\n        \"samples\": [\n          \"Tauro\"\n        ],\n        \"semantic_type\": \"\",\n        \"description\": \"\"\n      }\n    },\n    {\n      \"column\": \"Verde\",\n      \"properties\": {\n        \"dtype\": \"string\",\n        \"num_unique_values\": 1,\n        \"samples\": [\n          \"rojo\"\n        ],\n        \"semantic_type\": \"\",\n        \"description\": \"\"\n      }\n    },\n    {\n      \"column\": \"Vaca\",\n      \"properties\": {\n        \"dtype\": \"string\",\n        \"num_unique_values\": 1,\n        \"samples\": [\n          \"mapache\"\n        ],\n        \"semantic_type\": \"\",\n        \"description\": \"\"\n      }\n    },\n    {\n      \"column\": \"Taekwondo\",\n      \"properties\": {\n        \"dtype\": \"string\",\n        \"num_unique_values\": 1,\n        \"samples\": [\n          \"arquer\\u00eda\"\n        ],\n        \"semantic_type\": \"\",\n        \"description\": \"\"\n      }\n    },\n    {\n      \"column\": \"Interestellar\",\n      \"properties\": {\n        \"dtype\": \"string\",\n        \"num_unique_values\": 1,\n        \"samples\": [\n          \"the substance\"\n        ],\n        \"semantic_type\": \"\",\n        \"description\": \"\"\n      }\n    },\n    {\n      \"column\": \"White Lies\",\n      \"properties\": {\n        \"dtype\": \"string\",\n        \"num_unique_values\": 1,\n        \"samples\": [\n          \"the do\"\n        ],\n        \"semantic_type\": \"\",\n        \"description\": \"\"\n      }\n    }\n  ]\n}"
            }
          },
          "metadata": {},
          "execution_count": 100
        }
      ]
    },
    {
      "cell_type": "markdown",
      "source": [
        "### Names"
      ],
      "metadata": {
        "id": "kQfERGD7hDeZ"
      }
    },
    {
      "cell_type": "code",
      "source": [
        "data = pd.read_csv('datos.csv')\n",
        "data"
      ],
      "metadata": {
        "colab": {
          "base_uri": "https://localhost:8080/",
          "height": 504
        },
        "id": "LAQHOa5HhF20",
        "outputId": "8bc06e90-df5e-461e-aa86-5713d90a4cbd"
      },
      "execution_count": null,
      "outputs": [
        {
          "output_type": "execute_result",
          "data": {
            "text/plain": [
              "      Juan    Vilchis  Doctorado Ciencias de la Computación  \\\n",
              "0    Oscar  Torrealba  Doctorado                   Economía   \n",
              "1   Carlos   Escalera  Doctorado           Ciencia Política   \n",
              "2  Antonio  Rodríguez   Maestría                 Demográfia   \n",
              "3   Samara   Saavedra   Maestría                          3   \n",
              "4   Paloma    Guevara   Maestría                 Demografía   \n",
              "\n",
              "                                            8  \\\n",
              "0                                           1   \n",
              "1                                           7   \n",
              "2                                           3   \n",
              "3   Centro de Estudios Demográficos y Urbanos   \n",
              "4                                           3   \n",
              "\n",
              "      Centro de Investigación en Computación Geminis   Azul     Cuervo  \\\n",
              "0              Centro de Estudios Económicos   Aries  Negro     Dragón   \n",
              "1         Centro de Estudios Internacionales   Aries  negro       león   \n",
              "2  Centro de Estudios Demográficos y Urbanos   Virgo   Azul  Serpiente   \n",
              "3                                   Escorpio   Verde   Vaca  Taekwondo   \n",
              "4  Centro de Estudios Demográficos y Urbanos   Tauro   rojo    mapache   \n",
              "\n",
              "          Futbol Telefono Negro          Judas Priest  \n",
              "0      Atletismo   Interestelar           The Beatles  \n",
              "1       natación   irreversible             the doors  \n",
              "2     Basketball       Scarface  Violadores del verso  \n",
              "3  Interestellar     White Lies                   NaN  \n",
              "4       arquería  the substance                the do  "
            ],
            "text/html": [
              "\n",
              "  <div id=\"df-8ad91016-e70d-4fd9-9c22-2d60011488e2\" class=\"colab-df-container\">\n",
              "    <div>\n",
              "<style scoped>\n",
              "    .dataframe tbody tr th:only-of-type {\n",
              "        vertical-align: middle;\n",
              "    }\n",
              "\n",
              "    .dataframe tbody tr th {\n",
              "        vertical-align: top;\n",
              "    }\n",
              "\n",
              "    .dataframe thead th {\n",
              "        text-align: right;\n",
              "    }\n",
              "</style>\n",
              "<table border=\"1\" class=\"dataframe\">\n",
              "  <thead>\n",
              "    <tr style=\"text-align: right;\">\n",
              "      <th></th>\n",
              "      <th>Juan</th>\n",
              "      <th>Vilchis</th>\n",
              "      <th>Doctorado</th>\n",
              "      <th>Ciencias de la Computación</th>\n",
              "      <th>8</th>\n",
              "      <th>Centro de Investigación en Computación</th>\n",
              "      <th>Geminis</th>\n",
              "      <th>Azul</th>\n",
              "      <th>Cuervo</th>\n",
              "      <th>Futbol</th>\n",
              "      <th>Telefono Negro</th>\n",
              "      <th>Judas Priest</th>\n",
              "    </tr>\n",
              "  </thead>\n",
              "  <tbody>\n",
              "    <tr>\n",
              "      <th>0</th>\n",
              "      <td>Oscar</td>\n",
              "      <td>Torrealba</td>\n",
              "      <td>Doctorado</td>\n",
              "      <td>Economía</td>\n",
              "      <td>1</td>\n",
              "      <td>Centro de Estudios Económicos</td>\n",
              "      <td>Aries</td>\n",
              "      <td>Negro</td>\n",
              "      <td>Dragón</td>\n",
              "      <td>Atletismo</td>\n",
              "      <td>Interestelar</td>\n",
              "      <td>The Beatles</td>\n",
              "    </tr>\n",
              "    <tr>\n",
              "      <th>1</th>\n",
              "      <td>Carlos</td>\n",
              "      <td>Escalera</td>\n",
              "      <td>Doctorado</td>\n",
              "      <td>Ciencia Política</td>\n",
              "      <td>7</td>\n",
              "      <td>Centro de Estudios Internacionales</td>\n",
              "      <td>Aries</td>\n",
              "      <td>negro</td>\n",
              "      <td>león</td>\n",
              "      <td>natación</td>\n",
              "      <td>irreversible</td>\n",
              "      <td>the doors</td>\n",
              "    </tr>\n",
              "    <tr>\n",
              "      <th>2</th>\n",
              "      <td>Antonio</td>\n",
              "      <td>Rodríguez</td>\n",
              "      <td>Maestría</td>\n",
              "      <td>Demográfia</td>\n",
              "      <td>3</td>\n",
              "      <td>Centro de Estudios Demográficos y Urbanos</td>\n",
              "      <td>Virgo</td>\n",
              "      <td>Azul</td>\n",
              "      <td>Serpiente</td>\n",
              "      <td>Basketball</td>\n",
              "      <td>Scarface</td>\n",
              "      <td>Violadores del verso</td>\n",
              "    </tr>\n",
              "    <tr>\n",
              "      <th>3</th>\n",
              "      <td>Samara</td>\n",
              "      <td>Saavedra</td>\n",
              "      <td>Maestría</td>\n",
              "      <td>3</td>\n",
              "      <td>Centro de Estudios Demográficos y Urbanos</td>\n",
              "      <td>Escorpio</td>\n",
              "      <td>Verde</td>\n",
              "      <td>Vaca</td>\n",
              "      <td>Taekwondo</td>\n",
              "      <td>Interestellar</td>\n",
              "      <td>White Lies</td>\n",
              "      <td>NaN</td>\n",
              "    </tr>\n",
              "    <tr>\n",
              "      <th>4</th>\n",
              "      <td>Paloma</td>\n",
              "      <td>Guevara</td>\n",
              "      <td>Maestría</td>\n",
              "      <td>Demografía</td>\n",
              "      <td>3</td>\n",
              "      <td>Centro de Estudios Demográficos y Urbanos</td>\n",
              "      <td>Tauro</td>\n",
              "      <td>rojo</td>\n",
              "      <td>mapache</td>\n",
              "      <td>arquería</td>\n",
              "      <td>the substance</td>\n",
              "      <td>the do</td>\n",
              "    </tr>\n",
              "  </tbody>\n",
              "</table>\n",
              "</div>\n",
              "    <div class=\"colab-df-buttons\">\n",
              "\n",
              "  <div class=\"colab-df-container\">\n",
              "    <button class=\"colab-df-convert\" onclick=\"convertToInteractive('df-8ad91016-e70d-4fd9-9c22-2d60011488e2')\"\n",
              "            title=\"Convert this dataframe to an interactive table.\"\n",
              "            style=\"display:none;\">\n",
              "\n",
              "  <svg xmlns=\"http://www.w3.org/2000/svg\" height=\"24px\" viewBox=\"0 -960 960 960\">\n",
              "    <path d=\"M120-120v-720h720v720H120Zm60-500h600v-160H180v160Zm220 220h160v-160H400v160Zm0 220h160v-160H400v160ZM180-400h160v-160H180v160Zm440 0h160v-160H620v160ZM180-180h160v-160H180v160Zm440 0h160v-160H620v160Z\"/>\n",
              "  </svg>\n",
              "    </button>\n",
              "\n",
              "  <style>\n",
              "    .colab-df-container {\n",
              "      display:flex;\n",
              "      gap: 12px;\n",
              "    }\n",
              "\n",
              "    .colab-df-convert {\n",
              "      background-color: #E8F0FE;\n",
              "      border: none;\n",
              "      border-radius: 50%;\n",
              "      cursor: pointer;\n",
              "      display: none;\n",
              "      fill: #1967D2;\n",
              "      height: 32px;\n",
              "      padding: 0 0 0 0;\n",
              "      width: 32px;\n",
              "    }\n",
              "\n",
              "    .colab-df-convert:hover {\n",
              "      background-color: #E2EBFA;\n",
              "      box-shadow: 0px 1px 2px rgba(60, 64, 67, 0.3), 0px 1px 3px 1px rgba(60, 64, 67, 0.15);\n",
              "      fill: #174EA6;\n",
              "    }\n",
              "\n",
              "    .colab-df-buttons div {\n",
              "      margin-bottom: 4px;\n",
              "    }\n",
              "\n",
              "    [theme=dark] .colab-df-convert {\n",
              "      background-color: #3B4455;\n",
              "      fill: #D2E3FC;\n",
              "    }\n",
              "\n",
              "    [theme=dark] .colab-df-convert:hover {\n",
              "      background-color: #434B5C;\n",
              "      box-shadow: 0px 1px 3px 1px rgba(0, 0, 0, 0.15);\n",
              "      filter: drop-shadow(0px 1px 2px rgba(0, 0, 0, 0.3));\n",
              "      fill: #FFFFFF;\n",
              "    }\n",
              "  </style>\n",
              "\n",
              "    <script>\n",
              "      const buttonEl =\n",
              "        document.querySelector('#df-8ad91016-e70d-4fd9-9c22-2d60011488e2 button.colab-df-convert');\n",
              "      buttonEl.style.display =\n",
              "        google.colab.kernel.accessAllowed ? 'block' : 'none';\n",
              "\n",
              "      async function convertToInteractive(key) {\n",
              "        const element = document.querySelector('#df-8ad91016-e70d-4fd9-9c22-2d60011488e2');\n",
              "        const dataTable =\n",
              "          await google.colab.kernel.invokeFunction('convertToInteractive',\n",
              "                                                    [key], {});\n",
              "        if (!dataTable) return;\n",
              "\n",
              "        const docLinkHtml = 'Like what you see? Visit the ' +\n",
              "          '<a target=\"_blank\" href=https://colab.research.google.com/notebooks/data_table.ipynb>data table notebook</a>'\n",
              "          + ' to learn more about interactive tables.';\n",
              "        element.innerHTML = '';\n",
              "        dataTable['output_type'] = 'display_data';\n",
              "        await google.colab.output.renderOutput(dataTable, element);\n",
              "        const docLink = document.createElement('div');\n",
              "        docLink.innerHTML = docLinkHtml;\n",
              "        element.appendChild(docLink);\n",
              "      }\n",
              "    </script>\n",
              "  </div>\n",
              "\n",
              "\n",
              "    <div id=\"df-24c4455d-e192-420a-88d9-ed00db1fb135\">\n",
              "      <button class=\"colab-df-quickchart\" onclick=\"quickchart('df-24c4455d-e192-420a-88d9-ed00db1fb135')\"\n",
              "                title=\"Suggest charts\"\n",
              "                style=\"display:none;\">\n",
              "\n",
              "<svg xmlns=\"http://www.w3.org/2000/svg\" height=\"24px\"viewBox=\"0 0 24 24\"\n",
              "     width=\"24px\">\n",
              "    <g>\n",
              "        <path d=\"M19 3H5c-1.1 0-2 .9-2 2v14c0 1.1.9 2 2 2h14c1.1 0 2-.9 2-2V5c0-1.1-.9-2-2-2zM9 17H7v-7h2v7zm4 0h-2V7h2v10zm4 0h-2v-4h2v4z\"/>\n",
              "    </g>\n",
              "</svg>\n",
              "      </button>\n",
              "\n",
              "<style>\n",
              "  .colab-df-quickchart {\n",
              "      --bg-color: #E8F0FE;\n",
              "      --fill-color: #1967D2;\n",
              "      --hover-bg-color: #E2EBFA;\n",
              "      --hover-fill-color: #174EA6;\n",
              "      --disabled-fill-color: #AAA;\n",
              "      --disabled-bg-color: #DDD;\n",
              "  }\n",
              "\n",
              "  [theme=dark] .colab-df-quickchart {\n",
              "      --bg-color: #3B4455;\n",
              "      --fill-color: #D2E3FC;\n",
              "      --hover-bg-color: #434B5C;\n",
              "      --hover-fill-color: #FFFFFF;\n",
              "      --disabled-bg-color: #3B4455;\n",
              "      --disabled-fill-color: #666;\n",
              "  }\n",
              "\n",
              "  .colab-df-quickchart {\n",
              "    background-color: var(--bg-color);\n",
              "    border: none;\n",
              "    border-radius: 50%;\n",
              "    cursor: pointer;\n",
              "    display: none;\n",
              "    fill: var(--fill-color);\n",
              "    height: 32px;\n",
              "    padding: 0;\n",
              "    width: 32px;\n",
              "  }\n",
              "\n",
              "  .colab-df-quickchart:hover {\n",
              "    background-color: var(--hover-bg-color);\n",
              "    box-shadow: 0 1px 2px rgba(60, 64, 67, 0.3), 0 1px 3px 1px rgba(60, 64, 67, 0.15);\n",
              "    fill: var(--button-hover-fill-color);\n",
              "  }\n",
              "\n",
              "  .colab-df-quickchart-complete:disabled,\n",
              "  .colab-df-quickchart-complete:disabled:hover {\n",
              "    background-color: var(--disabled-bg-color);\n",
              "    fill: var(--disabled-fill-color);\n",
              "    box-shadow: none;\n",
              "  }\n",
              "\n",
              "  .colab-df-spinner {\n",
              "    border: 2px solid var(--fill-color);\n",
              "    border-color: transparent;\n",
              "    border-bottom-color: var(--fill-color);\n",
              "    animation:\n",
              "      spin 1s steps(1) infinite;\n",
              "  }\n",
              "\n",
              "  @keyframes spin {\n",
              "    0% {\n",
              "      border-color: transparent;\n",
              "      border-bottom-color: var(--fill-color);\n",
              "      border-left-color: var(--fill-color);\n",
              "    }\n",
              "    20% {\n",
              "      border-color: transparent;\n",
              "      border-left-color: var(--fill-color);\n",
              "      border-top-color: var(--fill-color);\n",
              "    }\n",
              "    30% {\n",
              "      border-color: transparent;\n",
              "      border-left-color: var(--fill-color);\n",
              "      border-top-color: var(--fill-color);\n",
              "      border-right-color: var(--fill-color);\n",
              "    }\n",
              "    40% {\n",
              "      border-color: transparent;\n",
              "      border-right-color: var(--fill-color);\n",
              "      border-top-color: var(--fill-color);\n",
              "    }\n",
              "    60% {\n",
              "      border-color: transparent;\n",
              "      border-right-color: var(--fill-color);\n",
              "    }\n",
              "    80% {\n",
              "      border-color: transparent;\n",
              "      border-right-color: var(--fill-color);\n",
              "      border-bottom-color: var(--fill-color);\n",
              "    }\n",
              "    90% {\n",
              "      border-color: transparent;\n",
              "      border-bottom-color: var(--fill-color);\n",
              "    }\n",
              "  }\n",
              "</style>\n",
              "\n",
              "      <script>\n",
              "        async function quickchart(key) {\n",
              "          const quickchartButtonEl =\n",
              "            document.querySelector('#' + key + ' button');\n",
              "          quickchartButtonEl.disabled = true;  // To prevent multiple clicks.\n",
              "          quickchartButtonEl.classList.add('colab-df-spinner');\n",
              "          try {\n",
              "            const charts = await google.colab.kernel.invokeFunction(\n",
              "                'suggestCharts', [key], {});\n",
              "          } catch (error) {\n",
              "            console.error('Error during call to suggestCharts:', error);\n",
              "          }\n",
              "          quickchartButtonEl.classList.remove('colab-df-spinner');\n",
              "          quickchartButtonEl.classList.add('colab-df-quickchart-complete');\n",
              "        }\n",
              "        (() => {\n",
              "          let quickchartButtonEl =\n",
              "            document.querySelector('#df-24c4455d-e192-420a-88d9-ed00db1fb135 button');\n",
              "          quickchartButtonEl.style.display =\n",
              "            google.colab.kernel.accessAllowed ? 'block' : 'none';\n",
              "        })();\n",
              "      </script>\n",
              "    </div>\n",
              "\n",
              "  <div id=\"id_6f7f475f-1dca-4b66-8ccf-b2e42dec1013\">\n",
              "    <style>\n",
              "      .colab-df-generate {\n",
              "        background-color: #E8F0FE;\n",
              "        border: none;\n",
              "        border-radius: 50%;\n",
              "        cursor: pointer;\n",
              "        display: none;\n",
              "        fill: #1967D2;\n",
              "        height: 32px;\n",
              "        padding: 0 0 0 0;\n",
              "        width: 32px;\n",
              "      }\n",
              "\n",
              "      .colab-df-generate:hover {\n",
              "        background-color: #E2EBFA;\n",
              "        box-shadow: 0px 1px 2px rgba(60, 64, 67, 0.3), 0px 1px 3px 1px rgba(60, 64, 67, 0.15);\n",
              "        fill: #174EA6;\n",
              "      }\n",
              "\n",
              "      [theme=dark] .colab-df-generate {\n",
              "        background-color: #3B4455;\n",
              "        fill: #D2E3FC;\n",
              "      }\n",
              "\n",
              "      [theme=dark] .colab-df-generate:hover {\n",
              "        background-color: #434B5C;\n",
              "        box-shadow: 0px 1px 3px 1px rgba(0, 0, 0, 0.15);\n",
              "        filter: drop-shadow(0px 1px 2px rgba(0, 0, 0, 0.3));\n",
              "        fill: #FFFFFF;\n",
              "      }\n",
              "    </style>\n",
              "    <button class=\"colab-df-generate\" onclick=\"generateWithVariable('data')\"\n",
              "            title=\"Generate code using this dataframe.\"\n",
              "            style=\"display:none;\">\n",
              "\n",
              "  <svg xmlns=\"http://www.w3.org/2000/svg\" height=\"24px\"viewBox=\"0 0 24 24\"\n",
              "       width=\"24px\">\n",
              "    <path d=\"M7,19H8.4L18.45,9,17,7.55,7,17.6ZM5,21V16.75L18.45,3.32a2,2,0,0,1,2.83,0l1.4,1.43a1.91,1.91,0,0,1,.58,1.4,1.91,1.91,0,0,1-.58,1.4L9.25,21ZM18.45,9,17,7.55Zm-12,3A5.31,5.31,0,0,0,4.9,8.1,5.31,5.31,0,0,0,1,6.5,5.31,5.31,0,0,0,4.9,4.9,5.31,5.31,0,0,0,6.5,1,5.31,5.31,0,0,0,8.1,4.9,5.31,5.31,0,0,0,12,6.5,5.46,5.46,0,0,0,6.5,12Z\"/>\n",
              "  </svg>\n",
              "    </button>\n",
              "    <script>\n",
              "      (() => {\n",
              "      const buttonEl =\n",
              "        document.querySelector('#id_6f7f475f-1dca-4b66-8ccf-b2e42dec1013 button.colab-df-generate');\n",
              "      buttonEl.style.display =\n",
              "        google.colab.kernel.accessAllowed ? 'block' : 'none';\n",
              "\n",
              "      buttonEl.onclick = () => {\n",
              "        google.colab.notebook.generateWithVariable('data');\n",
              "      }\n",
              "      })();\n",
              "    </script>\n",
              "  </div>\n",
              "\n",
              "    </div>\n",
              "  </div>\n"
            ],
            "application/vnd.google.colaboratory.intrinsic+json": {
              "type": "dataframe",
              "variable_name": "data",
              "summary": "{\n  \"name\": \"data\",\n  \"rows\": 5,\n  \"fields\": [\n    {\n      \"column\": \"Juan\",\n      \"properties\": {\n        \"dtype\": \"string\",\n        \"num_unique_values\": 5,\n        \"samples\": [\n          \"Carlos\",\n          \"Paloma\",\n          \"Antonio\"\n        ],\n        \"semantic_type\": \"\",\n        \"description\": \"\"\n      }\n    },\n    {\n      \"column\": \"Vilchis\",\n      \"properties\": {\n        \"dtype\": \"string\",\n        \"num_unique_values\": 5,\n        \"samples\": [\n          \"Escalera\",\n          \"Guevara\",\n          \"Rodr\\u00edguez\"\n        ],\n        \"semantic_type\": \"\",\n        \"description\": \"\"\n      }\n    },\n    {\n      \"column\": \"Doctorado\",\n      \"properties\": {\n        \"dtype\": \"category\",\n        \"num_unique_values\": 2,\n        \"samples\": [\n          \"Maestr\\u00eda\",\n          \"Doctorado\"\n        ],\n        \"semantic_type\": \"\",\n        \"description\": \"\"\n      }\n    },\n    {\n      \"column\": \"Ciencias de la Computaci\\u00f3n\",\n      \"properties\": {\n        \"dtype\": \"string\",\n        \"num_unique_values\": 5,\n        \"samples\": [\n          \"Ciencia Pol\\u00edtica\",\n          \"Demograf\\u00eda\"\n        ],\n        \"semantic_type\": \"\",\n        \"description\": \"\"\n      }\n    },\n    {\n      \"column\": \"8\",\n      \"properties\": {\n        \"dtype\": \"string\",\n        \"num_unique_values\": 4,\n        \"samples\": [\n          \"7\",\n          \" Centro de Estudios Demogr\\u00e1ficos y Urbanos\"\n        ],\n        \"semantic_type\": \"\",\n        \"description\": \"\"\n      }\n    },\n    {\n      \"column\": \"Centro de Investigaci\\u00f3n en Computaci\\u00f3n\",\n      \"properties\": {\n        \"dtype\": \"string\",\n        \"num_unique_values\": 4,\n        \"samples\": [\n          \"Centro de Estudios Internacionales\",\n          \"Escorpio\"\n        ],\n        \"semantic_type\": \"\",\n        \"description\": \"\"\n      }\n    },\n    {\n      \"column\": \"Geminis\",\n      \"properties\": {\n        \"dtype\": \"string\",\n        \"num_unique_values\": 4,\n        \"samples\": [\n          \"Virgo\",\n          \"Tauro\"\n        ],\n        \"semantic_type\": \"\",\n        \"description\": \"\"\n      }\n    },\n    {\n      \"column\": \"Azul\",\n      \"properties\": {\n        \"dtype\": \"string\",\n        \"num_unique_values\": 5,\n        \"samples\": [\n          \"negro\",\n          \"rojo\"\n        ],\n        \"semantic_type\": \"\",\n        \"description\": \"\"\n      }\n    },\n    {\n      \"column\": \"Cuervo\",\n      \"properties\": {\n        \"dtype\": \"string\",\n        \"num_unique_values\": 5,\n        \"samples\": [\n          \"le\\u00f3n\",\n          \"mapache\"\n        ],\n        \"semantic_type\": \"\",\n        \"description\": \"\"\n      }\n    },\n    {\n      \"column\": \"Futbol\",\n      \"properties\": {\n        \"dtype\": \"string\",\n        \"num_unique_values\": 5,\n        \"samples\": [\n          \"nataci\\u00f3n\",\n          \"arquer\\u00eda\"\n        ],\n        \"semantic_type\": \"\",\n        \"description\": \"\"\n      }\n    },\n    {\n      \"column\": \"Telefono Negro\",\n      \"properties\": {\n        \"dtype\": \"string\",\n        \"num_unique_values\": 5,\n        \"samples\": [\n          \"irreversible\",\n          \"the substance\"\n        ],\n        \"semantic_type\": \"\",\n        \"description\": \"\"\n      }\n    },\n    {\n      \"column\": \"Judas Priest\",\n      \"properties\": {\n        \"dtype\": \"string\",\n        \"num_unique_values\": 4,\n        \"samples\": [\n          \"the doors\",\n          \"the do\"\n        ],\n        \"semantic_type\": \"\",\n        \"description\": \"\"\n      }\n    }\n  ]\n}"
            }
          },
          "metadata": {},
          "execution_count": 101
        }
      ]
    },
    {
      "cell_type": "code",
      "source": [
        "data = pd.read_csv('datos.csv', names = ['NOMBRE','APELLIDO','Nivel','CARRERA','SEMESTRE','CENTRO DE ESTUDIOS','SIGNO ZODIACAL','COLOR','ANIMAL','DEPORTE','PELICULA','GRUPO MUSICAL'])\n",
        "data"
      ],
      "metadata": {
        "colab": {
          "base_uri": "https://localhost:8080/",
          "height": 553
        },
        "id": "HuWYkgoThQB3",
        "outputId": "9273e711-c5af-4563-fb31-f4dae2f211f1"
      },
      "execution_count": null,
      "outputs": [
        {
          "output_type": "execute_result",
          "data": {
            "text/plain": [
              "    NOMBRE   APELLIDO      Nivel                     CARRERA  \\\n",
              "0     Juan    Vilchis  Doctorado  Ciencias de la Computación   \n",
              "1    Oscar  Torrealba  Doctorado                    Economía   \n",
              "2   Carlos   Escalera  Doctorado            Ciencia Política   \n",
              "3  Antonio  Rodríguez   Maestría                  Demográfia   \n",
              "4   Samara   Saavedra   Maestría                           3   \n",
              "5   Paloma    Guevara   Maestría                  Demografía   \n",
              "\n",
              "                                     SEMESTRE  \\\n",
              "0                                           8   \n",
              "1                                           1   \n",
              "2                                           7   \n",
              "3                                           3   \n",
              "4   Centro de Estudios Demográficos y Urbanos   \n",
              "5                                           3   \n",
              "\n",
              "                          CENTRO DE ESTUDIOS SIGNO ZODIACAL  COLOR     ANIMAL  \\\n",
              "0     Centro de Investigación en Computación        Geminis   Azul     Cuervo   \n",
              "1              Centro de Estudios Económicos          Aries  Negro     Dragón   \n",
              "2         Centro de Estudios Internacionales          Aries  negro       león   \n",
              "3  Centro de Estudios Demográficos y Urbanos          Virgo   Azul  Serpiente   \n",
              "4                                   Escorpio          Verde   Vaca  Taekwondo   \n",
              "5  Centro de Estudios Demográficos y Urbanos          Tauro   rojo    mapache   \n",
              "\n",
              "         DEPORTE        PELICULA         GRUPO MUSICAL  \n",
              "0         Futbol  Telefono Negro          Judas Priest  \n",
              "1      Atletismo    Interestelar           The Beatles  \n",
              "2       natación    irreversible             the doors  \n",
              "3     Basketball        Scarface  Violadores del verso  \n",
              "4  Interestellar      White Lies                   NaN  \n",
              "5       arquería   the substance                the do  "
            ],
            "text/html": [
              "\n",
              "  <div id=\"df-4d1aac42-c5a0-4e8b-9ffe-a94cc7b3d3b8\" class=\"colab-df-container\">\n",
              "    <div>\n",
              "<style scoped>\n",
              "    .dataframe tbody tr th:only-of-type {\n",
              "        vertical-align: middle;\n",
              "    }\n",
              "\n",
              "    .dataframe tbody tr th {\n",
              "        vertical-align: top;\n",
              "    }\n",
              "\n",
              "    .dataframe thead th {\n",
              "        text-align: right;\n",
              "    }\n",
              "</style>\n",
              "<table border=\"1\" class=\"dataframe\">\n",
              "  <thead>\n",
              "    <tr style=\"text-align: right;\">\n",
              "      <th></th>\n",
              "      <th>NOMBRE</th>\n",
              "      <th>APELLIDO</th>\n",
              "      <th>Nivel</th>\n",
              "      <th>CARRERA</th>\n",
              "      <th>SEMESTRE</th>\n",
              "      <th>CENTRO DE ESTUDIOS</th>\n",
              "      <th>SIGNO ZODIACAL</th>\n",
              "      <th>COLOR</th>\n",
              "      <th>ANIMAL</th>\n",
              "      <th>DEPORTE</th>\n",
              "      <th>PELICULA</th>\n",
              "      <th>GRUPO MUSICAL</th>\n",
              "    </tr>\n",
              "  </thead>\n",
              "  <tbody>\n",
              "    <tr>\n",
              "      <th>0</th>\n",
              "      <td>Juan</td>\n",
              "      <td>Vilchis</td>\n",
              "      <td>Doctorado</td>\n",
              "      <td>Ciencias de la Computación</td>\n",
              "      <td>8</td>\n",
              "      <td>Centro de Investigación en Computación</td>\n",
              "      <td>Geminis</td>\n",
              "      <td>Azul</td>\n",
              "      <td>Cuervo</td>\n",
              "      <td>Futbol</td>\n",
              "      <td>Telefono Negro</td>\n",
              "      <td>Judas Priest</td>\n",
              "    </tr>\n",
              "    <tr>\n",
              "      <th>1</th>\n",
              "      <td>Oscar</td>\n",
              "      <td>Torrealba</td>\n",
              "      <td>Doctorado</td>\n",
              "      <td>Economía</td>\n",
              "      <td>1</td>\n",
              "      <td>Centro de Estudios Económicos</td>\n",
              "      <td>Aries</td>\n",
              "      <td>Negro</td>\n",
              "      <td>Dragón</td>\n",
              "      <td>Atletismo</td>\n",
              "      <td>Interestelar</td>\n",
              "      <td>The Beatles</td>\n",
              "    </tr>\n",
              "    <tr>\n",
              "      <th>2</th>\n",
              "      <td>Carlos</td>\n",
              "      <td>Escalera</td>\n",
              "      <td>Doctorado</td>\n",
              "      <td>Ciencia Política</td>\n",
              "      <td>7</td>\n",
              "      <td>Centro de Estudios Internacionales</td>\n",
              "      <td>Aries</td>\n",
              "      <td>negro</td>\n",
              "      <td>león</td>\n",
              "      <td>natación</td>\n",
              "      <td>irreversible</td>\n",
              "      <td>the doors</td>\n",
              "    </tr>\n",
              "    <tr>\n",
              "      <th>3</th>\n",
              "      <td>Antonio</td>\n",
              "      <td>Rodríguez</td>\n",
              "      <td>Maestría</td>\n",
              "      <td>Demográfia</td>\n",
              "      <td>3</td>\n",
              "      <td>Centro de Estudios Demográficos y Urbanos</td>\n",
              "      <td>Virgo</td>\n",
              "      <td>Azul</td>\n",
              "      <td>Serpiente</td>\n",
              "      <td>Basketball</td>\n",
              "      <td>Scarface</td>\n",
              "      <td>Violadores del verso</td>\n",
              "    </tr>\n",
              "    <tr>\n",
              "      <th>4</th>\n",
              "      <td>Samara</td>\n",
              "      <td>Saavedra</td>\n",
              "      <td>Maestría</td>\n",
              "      <td>3</td>\n",
              "      <td>Centro de Estudios Demográficos y Urbanos</td>\n",
              "      <td>Escorpio</td>\n",
              "      <td>Verde</td>\n",
              "      <td>Vaca</td>\n",
              "      <td>Taekwondo</td>\n",
              "      <td>Interestellar</td>\n",
              "      <td>White Lies</td>\n",
              "      <td>NaN</td>\n",
              "    </tr>\n",
              "    <tr>\n",
              "      <th>5</th>\n",
              "      <td>Paloma</td>\n",
              "      <td>Guevara</td>\n",
              "      <td>Maestría</td>\n",
              "      <td>Demografía</td>\n",
              "      <td>3</td>\n",
              "      <td>Centro de Estudios Demográficos y Urbanos</td>\n",
              "      <td>Tauro</td>\n",
              "      <td>rojo</td>\n",
              "      <td>mapache</td>\n",
              "      <td>arquería</td>\n",
              "      <td>the substance</td>\n",
              "      <td>the do</td>\n",
              "    </tr>\n",
              "  </tbody>\n",
              "</table>\n",
              "</div>\n",
              "    <div class=\"colab-df-buttons\">\n",
              "\n",
              "  <div class=\"colab-df-container\">\n",
              "    <button class=\"colab-df-convert\" onclick=\"convertToInteractive('df-4d1aac42-c5a0-4e8b-9ffe-a94cc7b3d3b8')\"\n",
              "            title=\"Convert this dataframe to an interactive table.\"\n",
              "            style=\"display:none;\">\n",
              "\n",
              "  <svg xmlns=\"http://www.w3.org/2000/svg\" height=\"24px\" viewBox=\"0 -960 960 960\">\n",
              "    <path d=\"M120-120v-720h720v720H120Zm60-500h600v-160H180v160Zm220 220h160v-160H400v160Zm0 220h160v-160H400v160ZM180-400h160v-160H180v160Zm440 0h160v-160H620v160ZM180-180h160v-160H180v160Zm440 0h160v-160H620v160Z\"/>\n",
              "  </svg>\n",
              "    </button>\n",
              "\n",
              "  <style>\n",
              "    .colab-df-container {\n",
              "      display:flex;\n",
              "      gap: 12px;\n",
              "    }\n",
              "\n",
              "    .colab-df-convert {\n",
              "      background-color: #E8F0FE;\n",
              "      border: none;\n",
              "      border-radius: 50%;\n",
              "      cursor: pointer;\n",
              "      display: none;\n",
              "      fill: #1967D2;\n",
              "      height: 32px;\n",
              "      padding: 0 0 0 0;\n",
              "      width: 32px;\n",
              "    }\n",
              "\n",
              "    .colab-df-convert:hover {\n",
              "      background-color: #E2EBFA;\n",
              "      box-shadow: 0px 1px 2px rgba(60, 64, 67, 0.3), 0px 1px 3px 1px rgba(60, 64, 67, 0.15);\n",
              "      fill: #174EA6;\n",
              "    }\n",
              "\n",
              "    .colab-df-buttons div {\n",
              "      margin-bottom: 4px;\n",
              "    }\n",
              "\n",
              "    [theme=dark] .colab-df-convert {\n",
              "      background-color: #3B4455;\n",
              "      fill: #D2E3FC;\n",
              "    }\n",
              "\n",
              "    [theme=dark] .colab-df-convert:hover {\n",
              "      background-color: #434B5C;\n",
              "      box-shadow: 0px 1px 3px 1px rgba(0, 0, 0, 0.15);\n",
              "      filter: drop-shadow(0px 1px 2px rgba(0, 0, 0, 0.3));\n",
              "      fill: #FFFFFF;\n",
              "    }\n",
              "  </style>\n",
              "\n",
              "    <script>\n",
              "      const buttonEl =\n",
              "        document.querySelector('#df-4d1aac42-c5a0-4e8b-9ffe-a94cc7b3d3b8 button.colab-df-convert');\n",
              "      buttonEl.style.display =\n",
              "        google.colab.kernel.accessAllowed ? 'block' : 'none';\n",
              "\n",
              "      async function convertToInteractive(key) {\n",
              "        const element = document.querySelector('#df-4d1aac42-c5a0-4e8b-9ffe-a94cc7b3d3b8');\n",
              "        const dataTable =\n",
              "          await google.colab.kernel.invokeFunction('convertToInteractive',\n",
              "                                                    [key], {});\n",
              "        if (!dataTable) return;\n",
              "\n",
              "        const docLinkHtml = 'Like what you see? Visit the ' +\n",
              "          '<a target=\"_blank\" href=https://colab.research.google.com/notebooks/data_table.ipynb>data table notebook</a>'\n",
              "          + ' to learn more about interactive tables.';\n",
              "        element.innerHTML = '';\n",
              "        dataTable['output_type'] = 'display_data';\n",
              "        await google.colab.output.renderOutput(dataTable, element);\n",
              "        const docLink = document.createElement('div');\n",
              "        docLink.innerHTML = docLinkHtml;\n",
              "        element.appendChild(docLink);\n",
              "      }\n",
              "    </script>\n",
              "  </div>\n",
              "\n",
              "\n",
              "    <div id=\"df-e2996d3a-5bb1-4a4a-822e-112028e8dd14\">\n",
              "      <button class=\"colab-df-quickchart\" onclick=\"quickchart('df-e2996d3a-5bb1-4a4a-822e-112028e8dd14')\"\n",
              "                title=\"Suggest charts\"\n",
              "                style=\"display:none;\">\n",
              "\n",
              "<svg xmlns=\"http://www.w3.org/2000/svg\" height=\"24px\"viewBox=\"0 0 24 24\"\n",
              "     width=\"24px\">\n",
              "    <g>\n",
              "        <path d=\"M19 3H5c-1.1 0-2 .9-2 2v14c0 1.1.9 2 2 2h14c1.1 0 2-.9 2-2V5c0-1.1-.9-2-2-2zM9 17H7v-7h2v7zm4 0h-2V7h2v10zm4 0h-2v-4h2v4z\"/>\n",
              "    </g>\n",
              "</svg>\n",
              "      </button>\n",
              "\n",
              "<style>\n",
              "  .colab-df-quickchart {\n",
              "      --bg-color: #E8F0FE;\n",
              "      --fill-color: #1967D2;\n",
              "      --hover-bg-color: #E2EBFA;\n",
              "      --hover-fill-color: #174EA6;\n",
              "      --disabled-fill-color: #AAA;\n",
              "      --disabled-bg-color: #DDD;\n",
              "  }\n",
              "\n",
              "  [theme=dark] .colab-df-quickchart {\n",
              "      --bg-color: #3B4455;\n",
              "      --fill-color: #D2E3FC;\n",
              "      --hover-bg-color: #434B5C;\n",
              "      --hover-fill-color: #FFFFFF;\n",
              "      --disabled-bg-color: #3B4455;\n",
              "      --disabled-fill-color: #666;\n",
              "  }\n",
              "\n",
              "  .colab-df-quickchart {\n",
              "    background-color: var(--bg-color);\n",
              "    border: none;\n",
              "    border-radius: 50%;\n",
              "    cursor: pointer;\n",
              "    display: none;\n",
              "    fill: var(--fill-color);\n",
              "    height: 32px;\n",
              "    padding: 0;\n",
              "    width: 32px;\n",
              "  }\n",
              "\n",
              "  .colab-df-quickchart:hover {\n",
              "    background-color: var(--hover-bg-color);\n",
              "    box-shadow: 0 1px 2px rgba(60, 64, 67, 0.3), 0 1px 3px 1px rgba(60, 64, 67, 0.15);\n",
              "    fill: var(--button-hover-fill-color);\n",
              "  }\n",
              "\n",
              "  .colab-df-quickchart-complete:disabled,\n",
              "  .colab-df-quickchart-complete:disabled:hover {\n",
              "    background-color: var(--disabled-bg-color);\n",
              "    fill: var(--disabled-fill-color);\n",
              "    box-shadow: none;\n",
              "  }\n",
              "\n",
              "  .colab-df-spinner {\n",
              "    border: 2px solid var(--fill-color);\n",
              "    border-color: transparent;\n",
              "    border-bottom-color: var(--fill-color);\n",
              "    animation:\n",
              "      spin 1s steps(1) infinite;\n",
              "  }\n",
              "\n",
              "  @keyframes spin {\n",
              "    0% {\n",
              "      border-color: transparent;\n",
              "      border-bottom-color: var(--fill-color);\n",
              "      border-left-color: var(--fill-color);\n",
              "    }\n",
              "    20% {\n",
              "      border-color: transparent;\n",
              "      border-left-color: var(--fill-color);\n",
              "      border-top-color: var(--fill-color);\n",
              "    }\n",
              "    30% {\n",
              "      border-color: transparent;\n",
              "      border-left-color: var(--fill-color);\n",
              "      border-top-color: var(--fill-color);\n",
              "      border-right-color: var(--fill-color);\n",
              "    }\n",
              "    40% {\n",
              "      border-color: transparent;\n",
              "      border-right-color: var(--fill-color);\n",
              "      border-top-color: var(--fill-color);\n",
              "    }\n",
              "    60% {\n",
              "      border-color: transparent;\n",
              "      border-right-color: var(--fill-color);\n",
              "    }\n",
              "    80% {\n",
              "      border-color: transparent;\n",
              "      border-right-color: var(--fill-color);\n",
              "      border-bottom-color: var(--fill-color);\n",
              "    }\n",
              "    90% {\n",
              "      border-color: transparent;\n",
              "      border-bottom-color: var(--fill-color);\n",
              "    }\n",
              "  }\n",
              "</style>\n",
              "\n",
              "      <script>\n",
              "        async function quickchart(key) {\n",
              "          const quickchartButtonEl =\n",
              "            document.querySelector('#' + key + ' button');\n",
              "          quickchartButtonEl.disabled = true;  // To prevent multiple clicks.\n",
              "          quickchartButtonEl.classList.add('colab-df-spinner');\n",
              "          try {\n",
              "            const charts = await google.colab.kernel.invokeFunction(\n",
              "                'suggestCharts', [key], {});\n",
              "          } catch (error) {\n",
              "            console.error('Error during call to suggestCharts:', error);\n",
              "          }\n",
              "          quickchartButtonEl.classList.remove('colab-df-spinner');\n",
              "          quickchartButtonEl.classList.add('colab-df-quickchart-complete');\n",
              "        }\n",
              "        (() => {\n",
              "          let quickchartButtonEl =\n",
              "            document.querySelector('#df-e2996d3a-5bb1-4a4a-822e-112028e8dd14 button');\n",
              "          quickchartButtonEl.style.display =\n",
              "            google.colab.kernel.accessAllowed ? 'block' : 'none';\n",
              "        })();\n",
              "      </script>\n",
              "    </div>\n",
              "\n",
              "  <div id=\"id_0c306683-ec75-41ad-935c-62387a7020ea\">\n",
              "    <style>\n",
              "      .colab-df-generate {\n",
              "        background-color: #E8F0FE;\n",
              "        border: none;\n",
              "        border-radius: 50%;\n",
              "        cursor: pointer;\n",
              "        display: none;\n",
              "        fill: #1967D2;\n",
              "        height: 32px;\n",
              "        padding: 0 0 0 0;\n",
              "        width: 32px;\n",
              "      }\n",
              "\n",
              "      .colab-df-generate:hover {\n",
              "        background-color: #E2EBFA;\n",
              "        box-shadow: 0px 1px 2px rgba(60, 64, 67, 0.3), 0px 1px 3px 1px rgba(60, 64, 67, 0.15);\n",
              "        fill: #174EA6;\n",
              "      }\n",
              "\n",
              "      [theme=dark] .colab-df-generate {\n",
              "        background-color: #3B4455;\n",
              "        fill: #D2E3FC;\n",
              "      }\n",
              "\n",
              "      [theme=dark] .colab-df-generate:hover {\n",
              "        background-color: #434B5C;\n",
              "        box-shadow: 0px 1px 3px 1px rgba(0, 0, 0, 0.15);\n",
              "        filter: drop-shadow(0px 1px 2px rgba(0, 0, 0, 0.3));\n",
              "        fill: #FFFFFF;\n",
              "      }\n",
              "    </style>\n",
              "    <button class=\"colab-df-generate\" onclick=\"generateWithVariable('data')\"\n",
              "            title=\"Generate code using this dataframe.\"\n",
              "            style=\"display:none;\">\n",
              "\n",
              "  <svg xmlns=\"http://www.w3.org/2000/svg\" height=\"24px\"viewBox=\"0 0 24 24\"\n",
              "       width=\"24px\">\n",
              "    <path d=\"M7,19H8.4L18.45,9,17,7.55,7,17.6ZM5,21V16.75L18.45,3.32a2,2,0,0,1,2.83,0l1.4,1.43a1.91,1.91,0,0,1,.58,1.4,1.91,1.91,0,0,1-.58,1.4L9.25,21ZM18.45,9,17,7.55Zm-12,3A5.31,5.31,0,0,0,4.9,8.1,5.31,5.31,0,0,0,1,6.5,5.31,5.31,0,0,0,4.9,4.9,5.31,5.31,0,0,0,6.5,1,5.31,5.31,0,0,0,8.1,4.9,5.31,5.31,0,0,0,12,6.5,5.46,5.46,0,0,0,6.5,12Z\"/>\n",
              "  </svg>\n",
              "    </button>\n",
              "    <script>\n",
              "      (() => {\n",
              "      const buttonEl =\n",
              "        document.querySelector('#id_0c306683-ec75-41ad-935c-62387a7020ea button.colab-df-generate');\n",
              "      buttonEl.style.display =\n",
              "        google.colab.kernel.accessAllowed ? 'block' : 'none';\n",
              "\n",
              "      buttonEl.onclick = () => {\n",
              "        google.colab.notebook.generateWithVariable('data');\n",
              "      }\n",
              "      })();\n",
              "    </script>\n",
              "  </div>\n",
              "\n",
              "    </div>\n",
              "  </div>\n"
            ],
            "application/vnd.google.colaboratory.intrinsic+json": {
              "type": "dataframe",
              "variable_name": "data",
              "summary": "{\n  \"name\": \"data\",\n  \"rows\": 6,\n  \"fields\": [\n    {\n      \"column\": \"NOMBRE\",\n      \"properties\": {\n        \"dtype\": \"string\",\n        \"num_unique_values\": 6,\n        \"samples\": [\n          \"Juan\",\n          \"Oscar\",\n          \"Paloma\"\n        ],\n        \"semantic_type\": \"\",\n        \"description\": \"\"\n      }\n    },\n    {\n      \"column\": \"APELLIDO\",\n      \"properties\": {\n        \"dtype\": \"string\",\n        \"num_unique_values\": 6,\n        \"samples\": [\n          \"Vilchis\",\n          \"Torrealba\",\n          \"Guevara\"\n        ],\n        \"semantic_type\": \"\",\n        \"description\": \"\"\n      }\n    },\n    {\n      \"column\": \"Nivel\",\n      \"properties\": {\n        \"dtype\": \"category\",\n        \"num_unique_values\": 2,\n        \"samples\": [\n          \"Maestr\\u00eda\",\n          \"Doctorado\"\n        ],\n        \"semantic_type\": \"\",\n        \"description\": \"\"\n      }\n    },\n    {\n      \"column\": \"CARRERA\",\n      \"properties\": {\n        \"dtype\": \"string\",\n        \"num_unique_values\": 6,\n        \"samples\": [\n          \"Ciencias de la Computaci\\u00f3n\",\n          \"Econom\\u00eda\"\n        ],\n        \"semantic_type\": \"\",\n        \"description\": \"\"\n      }\n    },\n    {\n      \"column\": \"SEMESTRE\",\n      \"properties\": {\n        \"dtype\": \"string\",\n        \"num_unique_values\": 5,\n        \"samples\": [\n          \"1\",\n          \" Centro de Estudios Demogr\\u00e1ficos y Urbanos\"\n        ],\n        \"semantic_type\": \"\",\n        \"description\": \"\"\n      }\n    },\n    {\n      \"column\": \"CENTRO DE ESTUDIOS\",\n      \"properties\": {\n        \"dtype\": \"string\",\n        \"num_unique_values\": 5,\n        \"samples\": [\n          \"Centro de Estudios Econ\\u00f3micos\",\n          \"Escorpio\"\n        ],\n        \"semantic_type\": \"\",\n        \"description\": \"\"\n      }\n    },\n    {\n      \"column\": \"SIGNO ZODIACAL\",\n      \"properties\": {\n        \"dtype\": \"string\",\n        \"num_unique_values\": 5,\n        \"samples\": [\n          \"Aries\",\n          \"Tauro\"\n        ],\n        \"semantic_type\": \"\",\n        \"description\": \"\"\n      }\n    },\n    {\n      \"column\": \"COLOR\",\n      \"properties\": {\n        \"dtype\": \"string\",\n        \"num_unique_values\": 5,\n        \"samples\": [\n          \"Negro\",\n          \"rojo\"\n        ],\n        \"semantic_type\": \"\",\n        \"description\": \"\"\n      }\n    },\n    {\n      \"column\": \"ANIMAL\",\n      \"properties\": {\n        \"dtype\": \"string\",\n        \"num_unique_values\": 6,\n        \"samples\": [\n          \"Cuervo\",\n          \"Drag\\u00f3n\"\n        ],\n        \"semantic_type\": \"\",\n        \"description\": \"\"\n      }\n    },\n    {\n      \"column\": \"DEPORTE\",\n      \"properties\": {\n        \"dtype\": \"string\",\n        \"num_unique_values\": 6,\n        \"samples\": [\n          \"Futbol\",\n          \"Atletismo\"\n        ],\n        \"semantic_type\": \"\",\n        \"description\": \"\"\n      }\n    },\n    {\n      \"column\": \"PELICULA\",\n      \"properties\": {\n        \"dtype\": \"string\",\n        \"num_unique_values\": 6,\n        \"samples\": [\n          \"Telefono Negro\",\n          \"Interestelar\"\n        ],\n        \"semantic_type\": \"\",\n        \"description\": \"\"\n      }\n    },\n    {\n      \"column\": \"GRUPO MUSICAL\",\n      \"properties\": {\n        \"dtype\": \"string\",\n        \"num_unique_values\": 5,\n        \"samples\": [\n          \"The Beatles\",\n          \"the do\"\n        ],\n        \"semantic_type\": \"\",\n        \"description\": \"\"\n      }\n    }\n  ]\n}"
            }
          },
          "metadata": {},
          "execution_count": 104
        }
      ]
    }
  ]
}